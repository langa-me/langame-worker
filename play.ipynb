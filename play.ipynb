{
 "cells": [
  {
   "cell_type": "code",
   "execution_count": 1,
   "metadata": {
    "scrolled": true
   },
   "outputs": [],
   "source": [
    "from langame_client import LangameClient\n",
    "from pprint import pprint\n",
    "from firebase_admin import firestore"
   ]
  },
  {
   "cell_type": "code",
   "execution_count": 2,
   "metadata": {},
   "outputs": [],
   "source": [
    "langame_client = LangameClient()"
   ]
  },
  {
   "cell_type": "code",
   "execution_count": 29,
   "metadata": {},
   "outputs": [
    {
     "output_type": "stream",
     "name": "stdout",
     "text": [
      "(DatetimeWithNanoseconds(2021, 7, 16, 15, 49, 26, 906587, tzinfo=datetime.timezone.utc),\n <google.cloud.firestore_v1.document.DocumentReference object at 0x7f4c13177610>)\n"
     ]
    }
   ],
   "source": [
    "# TODO: use protobuf\n",
    "p = {}\n",
    "p[\"type\"] = \"TopicGeneralist\"\n",
    "p[\"template\"] = \"\"\"This is a conversation starter that leads to extremely profound conversations between people about \"[TOPIC]\".\n",
    "Starter: What do you think of the theory that animals have emotions?\n",
    "Starter: What is the role of philosophy in human society?\n",
    "Starter: How does one recognize truth and knowledge? What are the ways to acquire it?\n",
    "Starter:\"\"\"\n",
    "t = {\n",
    "    \"createdAt\": firestore.SERVER_TIMESTAMP,\n",
    "    \"engine\": {\n",
    "        \"parameters\": {\n",
    "            \"model\": \"davinci\",\n",
    "            \"temperature\": 0.7,\n",
    "            \"maxTokens\": 150,\n",
    "            \"topP\": 1,\n",
    "            \"frequencyPenalty\": 0.1,\n",
    "            \"presencePenalty\": 0.1,\n",
    "            \"stop\": [\"\\\\n\", \"Starter:\"],\n",
    "        }\n",
    "    }\n",
    "}\n",
    "p_col = langame_client._firestore_client.collection(\"prompts\")\n",
    "new_prompt_ref = p_col.add(p)\n",
    "pprint(p_col.document(new_prompt_ref[1].id).collection(\"tags\").add(t))"
   ]
  },
  {
   "cell_type": "code",
   "execution_count": 17,
   "metadata": {},
   "outputs": [
    {
     "output_type": "stream",
     "name": "stdout",
     "text": [
      "(DatetimeWithNanoseconds(2021, 7, 19, 13, 20, 20, 938197, tzinfo=datetime.timezone.utc),\n <google.cloud.firestore_v1.document.DocumentReference object at 0x7f613317ff40>)\n"
     ]
    }
   ],
   "source": [
    "p = {}\n",
    "p[\"type\"] = \"TopicGeneralistFineTuned\"\n",
    "p[\"template\"] = \"\"\"[TOPIC].\n",
    "Starter:\"\"\"\n",
    "t = {\n",
    "    \"createdAt\": firestore.SERVER_TIMESTAMP,\n",
    "    \"engine\": {\n",
    "        \"parameters\": {\n",
    "            \"model\": \"curie:ft-beaumont-2021-07-18-16-25-55\",\n",
    "            \"temperature\": 0.7,\n",
    "            \"maxTokens\": 150,\n",
    "            \"topP\": 1,\n",
    "            \"frequencyPenalty\": 0.1,\n",
    "            \"presencePenalty\": 0.1,\n",
    "            \"stop\": [\"\\\\n\", \"Starter:\"],\n",
    "        }\n",
    "    }\n",
    "}\n",
    "p_col = langame_client._firestore_client.collection(\"prompts\")\n",
    "new_prompt_ref = p_col.add(p)\n",
    "pprint(p_col.document(new_prompt_ref[1].id).collection(\"tags\").add(t))"
   ]
  },
  {
   "cell_type": "code",
   "execution_count": 7,
   "metadata": {},
   "outputs": [
    {
     "output_type": "stream",
     "name": "stdout",
     "text": [
      "calling openai with {'id': 'SiWJjmgmA9LPx9yGvyQt', 'prompt': 'transhumanism.\\nStarter:', 'parameters': {'model': 'curie:ft-beaumont-2021-07-18-16-25-55', 'topP': 1, 'frequencyPenalty': 0.1, 'maxTokens': 150, 'presencePenalty': 0.1, 'stop': ['\\\\n', 'Starter:', '?'], 'temperature': 0.7}}\n"
     ]
    },
    {
     "output_type": "execute_result",
     "data": {
      "text/plain": [
       "(DatetimeWithNanoseconds(2021, 7, 19, 13, 24, 4, 207679, tzinfo=datetime.timezone.utc),\n",
       " <google.cloud.firestore_v1.document.DocumentReference at 0x7f3d646e32b0>)"
      ]
     },
     "metadata": {},
     "execution_count": 7
    }
   ],
   "source": [
    "langame_client.prompt_to_meme(topic_with_emoji = \n",
    "    (\"transhumanism\", \"🤔🧠💭📚📖📐🧬🤖🦾🦿\"),\n",
    ")"
   ]
  },
  {
   "cell_type": "code",
   "execution_count": 39,
   "metadata": {},
   "outputs": [
    {
     "output_type": "stream",
     "name": "stdout",
     "text": [
      "calling openai with {'id': '4IpLQkq4VwnV4M3HheIg', 'prompt': 'It is a question that leads to extremely profound conversations between people about \"politic\":\\n1.', 'parameters': {'model': 'davinci', 'topP': 1, 'stop': ['\\\\n', '2.'], 'frequencyPenalty': 0.1, 'presencePenalty': 0.1, 'maxTokens': 150, 'temperature': 0.7}}\n"
     ]
    },
    {
     "output_type": "execute_result",
     "data": {
      "text/plain": [
       "(DatetimeWithNanoseconds(2021, 7, 16, 15, 50, 58, 292063, tzinfo=datetime.timezone.utc),\n",
       " <google.cloud.firestore_v1.document.DocumentReference at 0x7f4c13177250>)"
      ]
     },
     "metadata": {},
     "execution_count": 39
    }
   ],
   "source": [
    "langame_client.prompt_to_meme(topic_with_emoji = \n",
    "    (\"politic\", \"🤔💭📜🏛👨👩⚖🗽\"),\n",
    ")"
   ]
  },
  {
   "cell_type": "code",
   "execution_count": null,
   "metadata": {},
   "outputs": [],
   "source": [
    "langame_client.prompt_to_meme(topic_with_emoji = \n",
    "    (\"philosophy\", \"🤔🧠💭📚📖\"),\n",
    ")"
   ]
  },
  {
   "cell_type": "code",
   "execution_count": 13,
   "metadata": {},
   "outputs": [
    {
     "output_type": "stream",
     "name": "stdout",
     "text": [
      "calling openai with {'id': 'SiWJjmgmA9LPx9yGvyQt', 'prompt': 'mind.\\nStarter:', 'parameters': {'model': 'curie:ft-beaumont-2021-07-18-16-25-55', 'temperature': 0.7, 'frequencyPenalty': 0.1, 'presencePenalty': 0.1, 'maxTokens': 150, 'topP': 1, 'stop': ['\\\\n', 'Starter:', '?']}}\n"
     ]
    },
    {
     "output_type": "execute_result",
     "data": {
      "text/plain": [
       "(DatetimeWithNanoseconds(2021, 7, 19, 14, 10, 53, 111519, tzinfo=datetime.timezone.utc),\n",
       " <google.cloud.firestore_v1.document.DocumentReference at 0x7f3d080bcdf0>)"
      ]
     },
     "metadata": {},
     "execution_count": 13
    }
   ],
   "source": [
    "langame_client.prompt_to_meme(topic_with_emoji = \n",
    "    (\"mind\", \"🤔🧠💭📚📖\"),\n",
    ")"
   ]
  },
  {
   "cell_type": "code",
   "execution_count": 12,
   "metadata": {},
   "outputs": [
    {
     "output_type": "stream",
     "name": "stdout",
     "text": [
      "{'createdAt': DatetimeWithNanoseconds(2021, 6, 12, 15, 49, 16, 439000, tzinfo=<UTC>),\n",
      " 'topic': {'content': 'philosophy', 'emojis': ['🤔', '🧠', '💭', '📚', '📖']}}\n",
      "{'content': 'What is your biggest fear and how do you deal with it?',\n",
      " 'createdAt': DatetimeWithNanoseconds(2021, 6, 12, 15, 49, 16, 270000, tzinfo=<UTC>)}\n",
      "{'createdAt': DatetimeWithNanoseconds(2021, 6, 12, 15, 49, 16, 439000, tzinfo=<UTC>),\n",
      " 'topic': {'content': 'philosophy', 'emojis': ['🤔', '🧠', '💭', '📚', '📖']}}\n",
      "{'content': 'What is a book that changed your life for good?',\n",
      " 'createdAt': DatetimeWithNanoseconds(2021, 6, 12, 15, 49, 16, 270000, tzinfo=<UTC>)}\n",
      "{'createdAt': DatetimeWithNanoseconds(2021, 6, 12, 15, 49, 16, 439000, tzinfo=<UTC>),\n",
      " 'topic': {'content': 'philosophy', 'emojis': ['🤔', '🧠', '💭', '📚', '📖']}}\n",
      "{'content': 'What are the things that make you feel alive?',\n",
      " 'createdAt': DatetimeWithNanoseconds(2021, 6, 12, 15, 49, 16, 270000, tzinfo=<UTC>)}\n",
      "{'createdAt': DatetimeWithNanoseconds(2021, 6, 12, 15, 49, 5, 578000, tzinfo=<UTC>),\n",
      " 'topic': {'content': 'philosophy', 'emojis': ['🤔', '🧠', '💭', '📚', '📖']}}\n",
      "{'content': 'What do you think about the idea that life is a game and we are '\n",
      "            'all players in it? Do you agree or disagree with this idea? Why?',\n",
      " 'createdAt': DatetimeWithNanoseconds(2021, 6, 12, 15, 49, 5, 398000, tzinfo=<UTC>)}\n",
      "{'createdAt': DatetimeWithNanoseconds(2021, 6, 12, 15, 49, 5, 578000, tzinfo=<UTC>),\n",
      " 'topic': {'content': 'philosophy', 'emojis': ['🤔', '🧠', '💭', '📚', '📖']}}\n",
      "{'content': 'What is your definition of philosophy?',\n",
      " 'createdAt': DatetimeWithNanoseconds(2021, 6, 12, 15, 49, 5, 398000, tzinfo=<UTC>)}\n",
      "{'createdAt': DatetimeWithNanoseconds(2021, 6, 12, 15, 48, 56, 740000, tzinfo=<UTC>),\n",
      " 'topic': {'content': 'philosophy', 'emojis': ['🤔', '🧠', '💭', '📚', '📖']}}\n",
      "{'content': 'Do you think that everything has its purpose in life?',\n",
      " 'createdAt': DatetimeWithNanoseconds(2021, 6, 12, 15, 48, 56, 571000, tzinfo=<UTC>)}\n",
      "{'createdAt': DatetimeWithNanoseconds(2021, 6, 12, 15, 48, 56, 740000, tzinfo=<UTC>),\n",
      " 'topic': {'content': 'philosophy', 'emojis': ['🤔', '🧠', '💭', '📚', '📖']}}\n",
      "{'content': 'What is your philosophy of life?',\n",
      " 'createdAt': DatetimeWithNanoseconds(2021, 6, 12, 15, 48, 56, 571000, tzinfo=<UTC>)}\n",
      "{'createdAt': DatetimeWithNanoseconds(2021, 6, 12, 15, 48, 56, 740000, tzinfo=<UTC>),\n",
      " 'topic': {'content': 'philosophy', 'emojis': ['🤔', '🧠', '💭', '📚', '📖']}}\n",
      "{'content': 'What it means to be a philosopher?',\n",
      " 'createdAt': DatetimeWithNanoseconds(2021, 6, 12, 15, 48, 56, 571000, tzinfo=<UTC>)}\n",
      "{'createdAt': DatetimeWithNanoseconds(2021, 6, 12, 15, 46, 6, 421000, tzinfo=<UTC>),\n",
      " 'topic': {'content': 'philosophy', 'emojis': ['🤔', '🧠', '💭', '📚', '📖']}}\n",
      "{'content': 'What book that is based on a philosophical concept has changed '\n",
      "            'your life the most? Tell me, why did it influence you so much.',\n",
      " 'createdAt': DatetimeWithNanoseconds(2021, 6, 12, 15, 46, 6, 253000, tzinfo=<UTC>)}\n",
      "{'createdAt': DatetimeWithNanoseconds(2021, 6, 12, 15, 46, 6, 421000, tzinfo=<UTC>),\n",
      " 'topic': {'content': 'philosophy', 'emojis': ['🤔', '🧠', '💭', '📚', '📖']}}\n",
      "{'content': 'Do you believe in anything which cannot be proven by science or '\n",
      "            'logic (i.e., faith)? How can we determine whether something is '\n",
      "            'true if we cannot prove it with evidence and reasoning (logic)?',\n",
      " 'createdAt': DatetimeWithNanoseconds(2021, 6, 12, 15, 46, 6, 253000, tzinfo=<UTC>)}\n"
     ]
    }
   ],
   "source": [
    "for t in langame_client._firestore_client.collection_group(u\"tags\")\\\n",
    "    .where(u\"topic.content\", u\"in\", [\"philosophy\"])\\\n",
    "    .order_by(u\"createdAt\", direction=firestore.Query.DESCENDING)\\\n",
    "    .limit(10)\\\n",
    "    .stream():\n",
    "    pprint(t.to_dict())\n",
    "    pprint(t.reference.parent.parent.get().to_dict())"
   ]
  },
  {
   "cell_type": "code",
   "execution_count": 16,
   "metadata": {},
   "outputs": [
    {
     "output_type": "stream",
     "name": "stdout",
     "text": [
      "(DatetimeWithNanoseconds(2021, 7, 16, 15, 34, 18, 122873, tzinfo=datetime.timezone.utc),\n <google.cloud.firestore_v1.document.DocumentReference object at 0x7f4c131a0fd0>)\n"
     ]
    }
   ],
   "source": [
    "# TODO: use protobuf\n",
    "p = {}\n",
    "p[\"type\"] = \"IceBreakerGeneralist\"\n",
    "p[\"template\"] = \"\"\"This is conversation starters that leads to extremely personal discussions between people.\n",
    "Starter: What is an interesting fact that few people know about you?\n",
    "Starter: What is something that most people take for granted, but has a deeper meaning to you?\n",
    "Starter:\"\"\"\n",
    "t = {\n",
    "    \"createdAt\": firestore.SERVER_TIMESTAMP,\n",
    "    \"engine\": {\n",
    "        \"parameters\": {\n",
    "            \"model\": \"davinci\",\n",
    "            \"temperature\": 0.7,\n",
    "            \"maxTokens\": 150,\n",
    "            \"topP\": 1,\n",
    "            \"frequencyPenalty\": 0.1,\n",
    "            \"presencePenalty\": 0.1,\n",
    "            \"stop\": [\"\\\\n\", \"Starter:\"],\n",
    "        }\n",
    "    }\n",
    "}\n",
    "p_col = langame_client._firestore_client.collection(\"prompts\")\n",
    "new_prompt_ref = p_col.add(p)\n",
    "pprint(p_col.document(new_prompt_ref[1].id).collection(\"tags\").add(t))"
   ]
  },
  {
   "cell_type": "code",
   "execution_count": 28,
   "metadata": {},
   "outputs": [
    {
     "output_type": "stream",
     "name": "stdout",
     "text": [
      "calling openai with {'id': 'oCccJ82pVND4znQx3zM5', 'prompt': 'This is conversation starters that leads to extremely personal discussions between people.\\nStarter: What is an interesting fact that few people know about you?\\nStarter: What is something that most people take for granted, but has a deeper meaning to you?\\nStarter:', 'parameters': {'temperature': 0.7, 'maxTokens': 150, 'frequencyPenalty': 0.1, 'model': 'davinci', 'presencePenalty': 0.1, 'stop': ['\\\\n', 'Starter:'], 'topP': 1}}\n"
     ]
    },
    {
     "output_type": "execute_result",
     "data": {
      "text/plain": [
       "(DatetimeWithNanoseconds(2021, 7, 16, 15, 35, 59, 312111, tzinfo=datetime.timezone.utc),\n",
       " <google.cloud.firestore_v1.document.DocumentReference at 0x7f4c131a0dc0>)"
      ]
     },
     "metadata": {},
     "execution_count": 28
    }
   ],
   "source": [
    "langame_client.prompt_to_meme_ice_breaker()"
   ]
  },
  {
   "cell_type": "code",
   "execution_count": 6,
   "metadata": {},
   "outputs": [
    {
     "output_type": "stream",
     "name": "stdout",
     "text": [
      "{'template': 'It is a question that leads to extremely profound conversations '\n             'between people about \"[TOPIC]\":\\n'\n             '1.',\n 'type': 'TopicGeneralist'}\n{'template': 'Provide me a conversation starter that brings extremely deeply '\n             'personal conversations between people, thus breaking the ice.\\n'\n             'Starter:',\n 'type': 'IceBreakerGeneralist'}\n{'template': 'This is a question that leads to extremely profound '\n             'conversations between people and allow them to break the ice:\\n'\n             '1.',\n 'type': 'IceBreakerGeneralist'}\n"
     ]
    }
   ],
   "source": [
    "for e in langame_client._firestore_client.collection(\"prompts\")\\\n",
    "        .limit(5)\\\n",
    "        .stream():\n",
    "    pprint(e.to_dict())"
   ]
  },
  {
   "cell_type": "code",
   "execution_count": 7,
   "metadata": {
    "tags": []
   },
   "outputs": [
    {
     "output_type": "stream",
     "name": "stdout",
     "text": [
      "171\n"
     ]
    }
   ],
   "source": [
    "\n",
    "completions = []\n",
    "topics = [\"philosophy\", \"physic\", \"mathematic\", \"biology\", \"transhumanism\", \"artificial intelligence\", \"book\"]\n",
    "for t in langame_client._firestore_client.collection_group(u\"tags\")\\\n",
    "    .where(u\"topic.content\", u\"in\", topics)\\\n",
    "    .order_by(u\"createdAt\", direction=firestore.Query.DESCENDING)\\\n",
    "    .stream():\n",
    "    completions.append({\"topic\": t.to_dict()[\"topic\"][\"content\"], \"meme\": t.reference.parent.parent.get().to_dict()[\"content\"]})\n",
    "pprint(len(completions))\n"
   ]
  },
  {
   "cell_type": "code",
   "execution_count": 8,
   "metadata": {},
   "outputs": [],
   "source": [
    "#{\"prompt\": \"<prompt text>\", \"completion\": \"<ideal generated text>\"}\n",
    "def get_prompt(topic):\n",
    "    return f\"\"\"This is a conversation starter that leads to extremely profound conversations between people about \"{topic}\".\n",
    "Starter:\"\"\"\n",
    "\n",
    "dataset = [{\"prompt\": get_prompt(e[\"topic\"]), \"completion\": f\" {e['meme']}\"} for e in completions]"
   ]
  },
  {
   "cell_type": "code",
   "execution_count": 9,
   "metadata": {},
   "outputs": [],
   "source": [
    "import json\n",
    "with open('output.jsonl', 'w') as outfile:\n",
    "    for entry in dataset:\n",
    "        json.dump(entry, outfile)\n",
    "        outfile.write('\\n')"
   ]
  },
  {
   "cell_type": "code",
   "execution_count": 18,
   "metadata": {},
   "outputs": [
    {
     "output_type": "stream",
     "name": "stdout",
     "text": [
      "Analyzing...\n",
      "\n",
      "- Your file contains 56 prompt-completion pairs. In general, we recommend having at least a few hundred examples. We've found that performance tends to linearly increase for every doubling of the number of examples\n",
      "\n",
      "ERROR in common_suffix validator: All prompts are identical: `This is a conversation starter that leads to extremely profound conversations between people about \"philosophy\".\n",
      "Starter:`\n",
      "Consider leaving the prompts blank if you want to do open-ended generation, otherwise ensure prompts are different\n",
      "\n",
      "Aborting..."
     ]
    }
   ],
   "source": [
    "!openai tools fine_tunes.prepare_data -f output.jsonl"
   ]
  },
  {
   "cell_type": "code",
   "execution_count": 4,
   "metadata": {},
   "outputs": [
    {
     "output_type": "execute_result",
     "data": {
      "text/plain": [
       "<OpenAIObject list at 0x7f6134b52090> JSON: {\n",
       "  \"data\": [\n",
       "    {\n",
       "      \"bytes\": 53872,\n",
       "      \"created_at\": 1626524028,\n",
       "      \"filename\": \"output.jsonl\",\n",
       "      \"id\": \"file-xiORWPq4g2IsFNYD7ZVPLVB3\",\n",
       "      \"object\": \"file\",\n",
       "      \"purpose\": \"fine-tune\",\n",
       "      \"status\": \"processed\",\n",
       "      \"status_details\": null\n",
       "    },\n",
       "    {\n",
       "      \"bytes\": 9498,\n",
       "      \"created_at\": 1626625558,\n",
       "      \"filename\": \"compiled_results.csv\",\n",
       "      \"id\": \"file-DQCtfogXgXBDNULRLSOx8kI9\",\n",
       "      \"object\": \"file\",\n",
       "      \"purpose\": \"fine-tune-results\",\n",
       "      \"status\": \"processed\",\n",
       "      \"status_details\": null\n",
       "    }\n",
       "  ],\n",
       "  \"object\": \"list\"\n",
       "}"
      ]
     },
     "metadata": {},
     "execution_count": 4
    }
   ],
   "source": [
    "import openai\n",
    "openai.File.list()"
   ]
  },
  {
   "cell_type": "code",
   "execution_count": 14,
   "metadata": {},
   "outputs": [
    {
     "output_type": "stream",
     "name": "stderr",
     "text": [
      "Upload progress: 100%|██████████| 54.1k/54.1k [00:00<00:00, 5.92Mit/s]\n"
     ]
    },
    {
     "output_type": "execute_result",
     "data": {
      "text/plain": [
       "<File file id=file-xiORWPq4g2IsFNYD7ZVPLVB3 at 0x7f46cfdf75e0> JSON: {\n",
       "  \"bytes\": 53872,\n",
       "  \"created_at\": 1626524028,\n",
       "  \"filename\": \"output.jsonl\",\n",
       "  \"id\": \"file-xiORWPq4g2IsFNYD7ZVPLVB3\",\n",
       "  \"object\": \"file\",\n",
       "  \"purpose\": \"fine-tune\",\n",
       "  \"status\": \"uploaded\",\n",
       "  \"status_details\": null\n",
       "}"
      ]
     },
     "metadata": {},
     "execution_count": 14
    }
   ],
   "source": [
    "openai.File.create(\n",
    "  file=open(\"output.jsonl\"),\n",
    "  purpose=\"fine-tune\"\n",
    ")"
   ]
  },
  {
   "cell_type": "code",
   "execution_count": 16,
   "metadata": {},
   "outputs": [
    {
     "output_type": "execute_result",
     "data": {
      "text/plain": [
       "[<File file id=file-xiORWPq4g2IsFNYD7ZVPLVB3 at 0x7f46cc5692c0> JSON: {\n",
       "   \"bytes\": 53872,\n",
       "   \"created_at\": 1626524028,\n",
       "   \"filename\": \"output.jsonl\",\n",
       "   \"id\": \"file-xiORWPq4g2IsFNYD7ZVPLVB3\",\n",
       "   \"object\": \"file\",\n",
       "   \"purpose\": \"fine-tune\",\n",
       "   \"status\": \"processed\",\n",
       "   \"status_details\": null\n",
       " }]"
      ]
     },
     "metadata": {},
     "execution_count": 16
    }
   ],
   "source": [
    "files = openai.File.list()\n",
    "files.get(\"data\")"
   ]
  },
  {
   "cell_type": "code",
   "execution_count": 21,
   "metadata": {},
   "outputs": [
    {
     "output_type": "execute_result",
     "data": {
      "text/plain": [
       "<FineTune fine-tune id=ft-oFMt7ZUOQWYPR3MiIjxqd6Ht at 0x7f4709230720> JSON: {\n",
       "  \"created_at\": 1626524337,\n",
       "  \"events\": [\n",
       "    {\n",
       "      \"created_at\": 1626524337,\n",
       "      \"level\": \"info\",\n",
       "      \"message\": \"Created fine-tune: ft-oFMt7ZUOQWYPR3MiIjxqd6Ht\",\n",
       "      \"object\": \"fine-tune-event\"\n",
       "    }\n",
       "  ],\n",
       "  \"fine_tuned_model\": null,\n",
       "  \"hyperparams\": {\n",
       "    \"batch_size\": 4,\n",
       "    \"learning_rate_multiplier\": 0.1,\n",
       "    \"n_epochs\": 4,\n",
       "    \"prompt_loss_weight\": 0.1,\n",
       "    \"use_packing\": null\n",
       "  },\n",
       "  \"id\": \"ft-oFMt7ZUOQWYPR3MiIjxqd6Ht\",\n",
       "  \"model\": \"curie\",\n",
       "  \"object\": \"fine-tune\",\n",
       "  \"organization_id\": \"org-6iVquBDkjuvNsgZOGPJsaRAs\",\n",
       "  \"result_files\": [],\n",
       "  \"status\": \"pending\",\n",
       "  \"training_files\": [\n",
       "    {\n",
       "      \"bytes\": 53872,\n",
       "      \"created_at\": 1626524028,\n",
       "      \"filename\": \"output.jsonl\",\n",
       "      \"id\": \"file-xiORWPq4g2IsFNYD7ZVPLVB3\",\n",
       "      \"object\": \"file\",\n",
       "      \"purpose\": \"fine-tune\",\n",
       "      \"status\": \"processed\",\n",
       "      \"status_details\": null\n",
       "    }\n",
       "  ],\n",
       "  \"updated_at\": 1626524337,\n",
       "  \"user_id\": \"user-fs8ZlgenluyrbB3JQwgRc7O8\",\n",
       "  \"validation_files\": []\n",
       "}"
      ]
     },
     "metadata": {},
     "execution_count": 21
    }
   ],
   "source": [
    "openai.FineTune.create(\n",
    "    training_file=files[\"data\"][0][\"id\"],\n",
    "    model=\"curie\"\n",
    ")"
   ]
  },
  {
   "cell_type": "code",
   "execution_count": 5,
   "metadata": {},
   "outputs": [
    {
     "output_type": "stream",
     "name": "stdout",
     "text": [
      "'curie:ft-beaumont-2021-07-18-16-25-55'\n"
     ]
    }
   ],
   "source": [
    "model = openai.FineTune.list()[\"data\"][0][\"fine_tuned_model\"]\n",
    "pprint(model)"
   ]
  },
  {
   "cell_type": "code",
   "execution_count": 16,
   "metadata": {},
   "outputs": [
    {
     "output_type": "execute_result",
     "data": {
      "text/plain": [
       "<OpenAIObject text_completion id=cmpl-3NNPbdSWZcGOMhOMmPOW9Cas4vUgk at 0x7f6133162f40> JSON: {\n",
       "  \"choices\": [\n",
       "    {\n",
       "      \"finish_reason\": \"length\",\n",
       "      \"index\": 0,\n",
       "      \"logprobs\": null,\n",
       "      \"text\": \" What happens if you drop an object from an aeroplane? (If you do not know the answer to this question, then you will not be able to progress with the conversation.) The faster an object falls, the faster it will reach the ground. This means we could travel at aeroplane speed and nothing would happen until we reached the ground but with gravity messing up our path we would end up millions of miles away from where we began. This effect is called 'gravity'. If we could\"\n",
       "    }\n",
       "  ],\n",
       "  \"created\": 1626700551,\n",
       "  \"id\": \"cmpl-3NNPbdSWZcGOMhOMmPOW9Cas4vUgk\",\n",
       "  \"model\": \"curie:ft-beaumont-2021-07-18-16-25-55\",\n",
       "  \"object\": \"text_completion\"\n",
       "}"
      ]
     },
     "metadata": {},
     "execution_count": 16
    }
   ],
   "source": [
    "openai.Completion.create(\n",
    "  model=model,\n",
    "  prompt=\"\"\"Physics.\n",
    "Starter:\"\"\",\n",
    "  max_tokens=100,\n",
    "  stop=[\"\\n\"]\n",
    ")"
   ]
  },
  {
   "cell_type": "code",
   "execution_count": null,
   "metadata": {},
   "outputs": [],
   "source": []
  }
 ],
 "metadata": {
  "colab": {
   "collapsed_sections": [],
   "name": "Overview of Colaboratory Features",
   "provenance": [],
   "toc_visible": true
  },
  "kernelspec": {
   "display_name": "Python 3.8.11 64-bit ('3.8.11')",
   "language": "python",
   "name": "python381164bit3811b8751ac701c6427aa899b1886034bd29"
  },
  "language_info": {
   "codemirror_mode": {
    "name": "ipython",
    "version": 3
   },
   "file_extension": ".py",
   "mimetype": "text/x-python",
   "name": "python",
   "nbconvert_exporter": "python",
   "pygments_lexer": "ipython3",
   "version": "3.8.11-final"
  }
 },
 "nbformat": 4,
 "nbformat_minor": 1
}