{
 "cells": [
  {
   "cell_type": "code",
   "execution_count": null,
   "metadata": {},
   "outputs": [],
   "source": [
    "!pip install -r requirements.txt"
   ]
  },
  {
   "cell_type": "code",
   "execution_count": 1,
   "metadata": {
    "scrolled": true
   },
   "outputs": [],
   "source": [
    "from langame_client import LangameClient\n",
    "from pprint import pprint\n",
    "from firebase_admin import firestore"
   ]
  },
  {
   "cell_type": "code",
   "execution_count": 2,
   "metadata": {},
   "outputs": [],
   "source": [
    "langame_client = LangameClient()"
   ]
  },
  {
   "cell_type": "code",
   "execution_count": null,
   "metadata": {},
   "outputs": [],
   "source": [
    "# https://emojipedia.org/search\n",
    "pprint(langame_client.generate_save_memes_general(topics_with_emojis = [\n",
    "    (\"knowledge\", \"🤔🧠💭📚📖\"),\n",
    "],\n",
    "    memes_per_topic = 3,\n",
    "    memes_per_meme=3,\n",
    "    wikipedia_description = False,\n",
    "    openai_description = False,\n",
    "    anti_rate_limit_delay = 1))"
   ]
  },
  {
   "cell_type": "code",
   "execution_count": null,
   "metadata": {},
   "outputs": [],
   "source": [
    "for t in langame_client._firestore_client.collection_group(u\"tags\")\\\n",
    "    .where(u\"topic.content\", u\"in\", [\"ice breaker\"])\\\n",
    "    .order_by(u\"createdAt\", direction=firestore.Query.DESCENDING)\\\n",
    "    .limit(10)\\\n",
    "    .stream():\n",
    "    pprint(t.reference.parent.parent.get().to_dict())"
   ]
  },
  {
   "cell_type": "code",
   "execution_count": null,
   "metadata": {},
   "outputs": [],
   "source": [
    "import json\n",
    "memes = []\n",
    "for m in langame_client._firestore_client.collection(u\"memes\").stream():\n",
    "    v = m.to_dict()\n",
    "    v['createdAt'] = v['createdAt'].timestamp()\n",
    "    v['id'] = m.id\n",
    "    v['tags'] = [] \n",
    "    for t in m.reference.collection('tags').stream():\n",
    "        x = t.to_dict()\n",
    "        x['createdAt'] = x['createdAt'].timestamp()\n",
    "        x['id'] = t.id\n",
    "        v['tags'].append(x)\n",
    "    memes.append(v)\n",
    "\n",
    "with open('memes.json', 'w') as outfile:\n",
    "    json.dump({'memes': memes}, outfile, indent=4)\n"
   ]
  },
  {
   "cell_type": "code",
   "execution_count": null,
   "metadata": {},
   "outputs": [],
   "source": [
    "import json\n",
    "from datetime import datetime\n",
    "with open('memes.json', 'r') as f:\n",
    "    memes = json.load(f)\n",
    "    pprint(memes)\n",
    "    \n",
    "    for m in memes.get('memes'):\n",
    "        ref = langame_client._firestore_client.collection(u\"memes\")\\\n",
    "            .doc(m.get('id'))\\\n",
    "            .set({\n",
    "                'content': m.get('content'),\n",
    "                'createdAt': datetime.fromtimestamp(m.get('createdAt')),\n",
    "            }).reference\n",
    "        for t in memes.get('memes').get('tags'):\n",
    "            ref.collection('tags').doc(t.get('id'))\\\n",
    "                .set({\n",
    "                    'createdAt': datetime.fromtimestamp(t.get('createdAt')),\n",
    "                    'topic': t.get('topic'),\n",
    "                    'classification': t.get('classification'),\n",
    "                    'origin': t.get('origin'),\n",
    "                    'feedback': t.get('feedback'),\n",
    "                    'context': t.get('context'),\n",
    "                })\n",
    "    \n"
   ]
  },
  {
   "cell_type": "code",
   "execution_count": null,
   "metadata": {},
   "outputs": [],
   "source": [
    "for t in langame_client._firestore_client.collection_group(u\"players\")\\\n",
    "    .stream():\n",
    "    \n",
    "    #langame_client._firestore_client.doc(f\"players\")\n",
    "        pprint(t.reference.delete())"
   ]
  },
  {
   "cell_type": "code",
   "execution_count": null,
   "metadata": {},
   "outputs": [],
   "source": [
    "for t in langame_client._firestore_client.collection(u\"langames\")\\\n",
    "    .list_documents():\n",
    "        pprint(t.delete())\n",
    "        for p in t.collection(\"players\").stream():\n",
    "            pprint(p.reference.delete())"
   ]
  },
  {
   "cell_type": "code",
   "execution_count": 14,
   "metadata": {},
   "outputs": [],
   "source": [
    "p = {}\n",
    "p[\"type\"] = \"TopicGeneralist\"\n",
    "p[\"template\"] = \"\"\"Provide me a conversation starter that brings extremely deep conversations between people on the topic of \"[TOPIC]\".\n",
    "Conversation starter:\"\"\"\n",
    "t = {\n",
    "    \"createdAt\": firestore.SERVER_TIMESTAMP,\n",
    "    \"engine\": {\n",
    "        \"parameters\": {\n",
    "            \"model\": \"davinci-instruct-beta\",\n",
    "            \"temperature\": 0.7,\n",
    "            \"maxTokens\": 150,\n",
    "            \"topP\": 1,\n",
    "            \"frequencyPenalty\": 0,\n",
    "            \"presencePenalty\": 0,\n",
    "            \"stop\": [\"\\\\n\"],\n",
    "        }\n",
    "    }\n",
    "}"
   ]
  },
  {
   "cell_type": "code",
   "execution_count": 16,
   "metadata": {},
   "outputs": [
    {
     "output_type": "execute_result",
     "data": {
      "text/plain": [
       "{'createdAt': Sentinel: Value used to set a document field to the server timestamp.,\n",
       " 'engine': {'parameters': {'model': 'davinci-instruct-beta',\n",
       "   'temperature': 0.7,\n",
       "   'maxTokens': 150,\n",
       "   'topP': 1,\n",
       "   'frequencyPenalty': 0,\n",
       "   'presencePenalty': 0,\n",
       "   'stop': ['\\\\n']}}}"
      ]
     },
     "metadata": {},
     "execution_count": 16
    }
   ],
   "source": [
    "t"
   ]
  },
  {
   "cell_type": "code",
   "execution_count": 18,
   "metadata": {},
   "outputs": [
    {
     "output_type": "stream",
     "name": "stdout",
     "text": [
      "(DatetimeWithNanoseconds(2021, 7, 6, 19, 8, 14, 361479, tzinfo=datetime.timezone.utc),\n <google.cloud.firestore_v1.document.DocumentReference object at 0x7f8e491b0a60>)\n"
     ]
    }
   ],
   "source": [
    "p_col = langame_client._firestore_client.collection(\"prompts\")\n",
    "new_prompt_ref = p_col.add(p)\n",
    "pprint(p_col.document(new_prompt_ref[1].id).collection(\"tags\").add(t))"
   ]
  },
  {
   "cell_type": "code",
   "execution_count": 3,
   "metadata": {},
   "outputs": [
    {
     "output_type": "error",
     "ename": "TypeError",
     "evalue": "call_completion() got an unexpected keyword argument 'topP'",
     "traceback": [
      "\u001b[0;31m---------------------------------------------------------------------------\u001b[0m",
      "\u001b[0;31mTypeError\u001b[0m                                 Traceback (most recent call last)",
      "\u001b[0;32m/tmp/ipykernel_5170/918827842.py\u001b[0m in \u001b[0;36m<module>\u001b[0;34m\u001b[0m\n\u001b[0;32m----> 1\u001b[0;31m langame_client.prompt_to_meme(topic_with_emoji = \n\u001b[0m\u001b[1;32m      2\u001b[0m     \u001b[0;34m(\u001b[0m\u001b[0;34m\"knowledge\"\u001b[0m\u001b[0;34m,\u001b[0m \u001b[0;34m\"🤔🧠💭📚📖\"\u001b[0m\u001b[0;34m)\u001b[0m\u001b[0;34m,\u001b[0m\u001b[0;34m\u001b[0m\u001b[0;34m\u001b[0m\u001b[0m\n\u001b[1;32m      3\u001b[0m )\n",
      "\u001b[0;32m/workspace/langame-worker/langame_client.py\u001b[0m in \u001b[0;36mprompt_to_meme\u001b[0;34m(self, topic_with_emoji)\u001b[0m\n\u001b[1;32m     78\u001b[0m         \u001b[0mprompt\u001b[0m \u001b[0;34m=\u001b[0m \u001b[0mprompts\u001b[0m\u001b[0;34m.\u001b[0m\u001b[0mpop\u001b[0m\u001b[0;34m(\u001b[0m\u001b[0;34m)\u001b[0m\u001b[0;34m\u001b[0m\u001b[0;34m\u001b[0m\u001b[0m\n\u001b[1;32m     79\u001b[0m \u001b[0;34m\u001b[0m\u001b[0m\n\u001b[0;32m---> 80\u001b[0;31m         meme: Optional[str] = self._openai_client.call_completion(\n\u001b[0m\u001b[1;32m     81\u001b[0m             \u001b[0mprompt\u001b[0m\u001b[0;34m[\u001b[0m\u001b[0;34m\"prompt\"\u001b[0m\u001b[0;34m]\u001b[0m\u001b[0;34m,\u001b[0m\u001b[0;34m\u001b[0m\u001b[0;34m\u001b[0m\u001b[0m\n\u001b[1;32m     82\u001b[0m             \u001b[0;34m**\u001b[0m\u001b[0mprompt\u001b[0m\u001b[0;34m[\u001b[0m\u001b[0;34m\"parameters\"\u001b[0m\u001b[0;34m]\u001b[0m\u001b[0;34m\u001b[0m\u001b[0;34m\u001b[0m\u001b[0m\n",
      "\u001b[0;31mTypeError\u001b[0m: call_completion() got an unexpected keyword argument 'topP'"
     ]
    }
   ],
   "source": [
    "langame_client.prompt_to_meme(topic_with_emoji = \n",
    "    (\"knowledge\", \"🤔🧠💭📚📖\"),\n",
    ")"
   ]
  },
  {
   "cell_type": "code",
   "execution_count": null,
   "metadata": {},
   "outputs": [],
   "source": []
  }
 ],
 "metadata": {
  "colab": {
   "collapsed_sections": [],
   "name": "Overview of Colaboratory Features",
   "provenance": [],
   "toc_visible": true
  },
  "kernelspec": {
   "display_name": "Python 3 (ipykernel)",
   "language": "python",
   "name": "python3"
  },
  "language_info": {
   "codemirror_mode": {
    "name": "ipython",
    "version": 3
   },
   "file_extension": ".py",
   "mimetype": "text/x-python",
   "name": "python",
   "nbconvert_exporter": "python",
   "pygments_lexer": "ipython3",
   "version": "3.8.11-final"
  }
 },
 "nbformat": 4,
 "nbformat_minor": 1
}