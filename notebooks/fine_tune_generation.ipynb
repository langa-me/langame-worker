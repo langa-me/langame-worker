{
 "metadata": {
  "language_info": {
   "codemirror_mode": {
    "name": "ipython",
    "version": 3
   },
   "file_extension": ".py",
   "mimetype": "text/x-python",
   "name": "python",
   "nbconvert_exporter": "python",
   "pygments_lexer": "ipython3",
   "version": "3.9.6"
  },
  "orig_nbformat": 4,
  "kernelspec": {
   "name": "python3",
   "display_name": "Python 3.9.6 64-bit ('.venv': venv)"
  },
  "interpreter": {
   "hash": "2ca8946d339ea3bbaa73adc6693d06c322e424e77befb9c6b521a96205a94f7d"
  }
 },
 "nbformat": 4,
 "nbformat_minor": 2,
 "cells": [
  {
   "cell_type": "code",
   "execution_count": 1,
   "metadata": {},
   "outputs": [],
   "source": [
    "from langame_client import LangameClient\n",
    "from pprint import pprint\n",
    "from firebase_admin import firestore\n",
    "import requests\n",
    "from bs4 import BeautifulSoup\n",
    "import json\n",
    "import openai\n",
    "c = LangameClient()"
   ]
  },
  {
   "cell_type": "code",
   "execution_count": 2,
   "metadata": {},
   "outputs": [],
   "source": [
    "URL = \"https://conversationstartersworld.com/philosophical-questions/\"\n",
    "page = requests.get(URL)\n",
    "\n",
    "soup = BeautifulSoup(page.content, \"html.parser\")\n",
    "philosophical_questions = [e.text for e in soup.find(id=\"genesis-content\").find(\"article\").find(\"div\").find_all(\"p\")]\n",
    "memes = []\n",
    "for e in c._firestore_client.collection(\"memes\").stream():\n",
    "    memes.append(e.get(\"content\"))\n",
    "memes = memes + [\" \".join(e.split(\" \")[1:]) for e in philosophical_questions[3:-5]]\n",
    "URL = \"https://conversationstartersworld.com/deep-conversation-topics/\"\n",
    "page = requests.get(URL)\n",
    "\n",
    "soup = BeautifulSoup(page.content, \"html.parser\")\n",
    "deep = [e.text for e in soup.find(id=\"genesis-content\").find(\"article\").find(\"div\").find_all(\"p\")]\n",
    "memes += [\" \".join(e.split(\" \")[1:]) for e in deep[3:-5]]\n",
    "\n",
    "with open('memes.json', 'w') as outfile:\n",
    "    json.dump({\"memes\": memes}, outfile, indent=4)\n",
    "\n",
    "URL = \"https://conversationstartersworld.com/hypothetical-questions/\"\n",
    "page = requests.get(URL)\n",
    "\n",
    "soup = BeautifulSoup(page.content, \"html.parser\")\n",
    "hypothetical = [e.text for e in soup.find(id=\"genesis-content\").find(\"article\").find(\"div\").find_all(\"p\")]\n",
    "memes += [\" \".join(e.split(\" \")[1:]) for e in hypothetical[3:-5]]\n",
    "\n",
    "with open('memes.json', 'w') as outfile:\n",
    "    json.dump({\"memes\": memes}, outfile, indent=4)\n",
    "URL = \"https://conversationstartersworld.com/open-ended-questions/\"\n",
    "page = requests.get(URL)\n",
    "\n",
    "soup = BeautifulSoup(page.content, \"html.parser\")\n",
    "open_ended = [e.text for e in soup.find(id=\"genesis-content\").find(\"article\").find(\"div\").find_all(\"p\")]\n",
    "memes += [\" \".join(e.split(\" \")[1:]) for e in open_ended[3:-5]]\n",
    "\n",
    "with open('memes.json', 'w') as outfile:\n",
    "    json.dump({\"memes\": memes}, outfile, indent=4)\n",
    "\n",
    "URL = \"https://conversationstartersworld.com/closed-ended-questions-3/\"\n",
    "page = requests.get(URL)\n",
    "\n",
    "soup = BeautifulSoup(page.content, \"html.parser\")\n",
    "closed_ended = [e.text for e in soup.find(id=\"genesis-content\").find(\"article\").find(\"div\").find_all(\"p\")]\n",
    "memes += [\" \".join(e.split(\" \")[1:]) for e in closed_ended[3:-5]]\n",
    "\n",
    "with open('memes.json', 'w') as outfile:\n",
    "    json.dump({\"memes\": memes}, outfile, indent=4)\n",
    "URL = \"https://conversationstartersworld.com/good-questions-to-ask/\"\n",
    "page = requests.get(URL)\n",
    "\n",
    "soup = BeautifulSoup(page.content, \"html.parser\")\n",
    "good_question_to_ask = [e.text for e in soup.find(id=\"genesis-content\").find(\"article\").find(\"div\").find_all(\"p\")]\n",
    "memes += [\" \".join(e.split(\" \")[1:]) for e in good_question_to_ask[3:-5]]\n",
    "\n",
    "with open('memes.json', 'w') as outfile:\n",
    "    json.dump({\"memes\": memes}, outfile, indent=4)"
   ]
  },
  {
   "cell_type": "code",
   "execution_count": 6,
   "metadata": {},
   "outputs": [],
   "source": [
    "file_name = 'data/generate-generalist-0.0.4.jsonl'"
   ]
  },
  {
   "cell_type": "code",
   "execution_count": 3,
   "metadata": {},
   "outputs": [],
   "source": [
    "with open(file_name, '') as outfile:\n",
    "    for meme in memes:\n",
    "        json.dump({\n",
    "            \"prompt\": \"\",\n",
    "            \"completion\": f\" {meme}\\n###\\n\"\n",
    "        }, outfile)\n",
    "        outfile.write('\\n')"
   ]
  },
  {
   "cell_type": "code",
   "execution_count": 6,
   "metadata": {},
   "outputs": [
    {
     "output_type": "stream",
     "name": "stderr",
     "text": [
      "Upload progress: 100%|██████████| 184k/184k [00:00<00:00, 235kit/s]\n"
     ]
    }
   ],
   "source": [
    "f = openai.File.create(\n",
    "  file=open(file_name),\n",
    "  purpose=\"fine-tune\"\n",
    ")\n",
    "f_t = openai.FineTune.create(\n",
    "    training_file=f[\"id\"],\n",
    "    model=\"curie\"\n",
    ")"
   ]
  },
  {
   "cell_type": "code",
   "execution_count": 11,
   "metadata": {},
   "outputs": [
    {
     "output_type": "execute_result",
     "data": {
      "text/plain": [
       "<FineTune fine-tune id=ft-yUmFBzIjdR9yvflLyhlUNNDW at 0x13f0eb4a0> JSON: {\n",
       "  \"created_at\": 1630082058,\n",
       "  \"fine_tuned_model\": \"curie:ft-louis-personal-2021-08-27-16-57-14\",\n",
       "  \"hyperparams\": {\n",
       "    \"batch_size\": 4,\n",
       "    \"learning_rate_multiplier\": 0.1,\n",
       "    \"n_epochs\": 4,\n",
       "    \"prompt_loss_weight\": 0.1,\n",
       "    \"use_packing\": null\n",
       "  },\n",
       "  \"id\": \"ft-yUmFBzIjdR9yvflLyhlUNNDW\",\n",
       "  \"model\": \"curie\",\n",
       "  \"object\": \"fine-tune\",\n",
       "  \"organization_id\": \"org-KwcHNgfGe4pqdKDLQIJt99UZ\",\n",
       "  \"result_files\": [\n",
       "    {\n",
       "      \"bytes\": 83555,\n",
       "      \"created_at\": 1630083439,\n",
       "      \"filename\": \"compiled_results.csv\",\n",
       "      \"id\": \"file-bZ4mWVMHUmTvo75y14xTrGOb\",\n",
       "      \"model\": null,\n",
       "      \"object\": \"file\",\n",
       "      \"purpose\": \"fine-tune-results\",\n",
       "      \"status\": \"processed\",\n",
       "      \"status_details\": null\n",
       "    }\n",
       "  ],\n",
       "  \"status\": \"succeeded\",\n",
       "  \"training_files\": [\n",
       "    {\n",
       "      \"bytes\": 184071,\n",
       "      \"created_at\": 1630082057,\n",
       "      \"filename\": \"data/generate-generalist-0.0.4.jsonl\",\n",
       "      \"id\": \"file-7pxSr5bcoFN8W3UGfVTJbxit\",\n",
       "      \"model\": null,\n",
       "      \"object\": \"file\",\n",
       "      \"purpose\": \"fine-tune\",\n",
       "      \"status\": \"processed\",\n",
       "      \"status_details\": null\n",
       "    }\n",
       "  ],\n",
       "  \"updated_at\": 1630083442,\n",
       "  \"user_id\": \"user-fs8ZlgenluyrbB3JQwgRc7O8\",\n",
       "  \"validation_files\": []\n",
       "}"
      ]
     },
     "metadata": {},
     "execution_count": 11
    }
   ],
   "source": [
    "model = c._openai_client.get_fine_tune(file_name)\n",
    "model"
   ]
  },
  {
   "cell_type": "code",
   "execution_count": 13,
   "metadata": {},
   "outputs": [
    {
     "output_type": "stream",
     "name": "stdout",
     "text": [
      "(DatetimeWithNanoseconds(2021, 8, 27, 17, 32, 0, 932031, tzinfo=datetime.timezone.utc),\n <google.cloud.firestore_v1.document.DocumentReference object at 0x13f6e5970>)\n"
     ]
    }
   ],
   "source": [
    "p = {}\n",
    "p[\"type\"] = file_name\n",
    "p[\"template\"] = \"[TOPIC]:\"\n",
    "t = {\n",
    "    \"createdAt\": firestore.SERVER_TIMESTAMP,\n",
    "    \"engine\": {\n",
    "        \"parameters\": {\n",
    "            \"model\": model[\"fine_tuned_model\"],\n",
    "            \"temperature\": 0.7,\n",
    "            \"maxTokens\": 150,\n",
    "            \"topP\": 1,\n",
    "            \"frequencyPenalty\": 0.1,\n",
    "            \"presencePenalty\": 0.1,\n",
    "            \"stop\": [\"\\n###\\n\"],\n",
    "        }\n",
    "    }\n",
    "}\n",
    "p_col = c._firestore_client.collection(\"prompts\")\n",
    "new_prompt_ref = p_col.add(p)\n",
    "pprint(p_col.document(new_prompt_ref[1].id).collection(\"tags\").add(t))"
   ]
  },
  {
   "cell_type": "code",
   "execution_count": 34,
   "metadata": {},
   "outputs": [
    {
     "output_type": "execute_result",
     "data": {
      "text/plain": [
       "<OpenAIObject text_completion id=cmpl-3bb9PbAkCra9NSEJrOTKDhDxi4yCP at 0x13f15c770> JSON: {\n",
       "  \"choices\": [\n",
       "    {\n",
       "      \"finish_reason\": \"stop\",\n",
       "      \"index\": 0,\n",
       "      \"logprobs\": null,\n",
       "      \"text\": \"While most of humanity is focused on avoiding harm, a small but very vocal minority has decided that the best way to avoid harm is to actively seeks it out. Called \\u201cthe optimists\\u201d by the media, this group includes anarchists, Daredevil bloggers, thrill-seekers, and other \\u2013 sometimes bizarre \\u2013 personalities.\"\n",
       "    }\n",
       "  ],\n",
       "  \"created\": 1630089955,\n",
       "  \"id\": \"cmpl-3bb9PbAkCra9NSEJrOTKDhDxi4yCP\",\n",
       "  \"model\": \"curie:ft-louis-personal-2021-08-27-16-57-14\",\n",
       "  \"object\": \"text_completion\"\n",
       "}"
      ]
     },
     "metadata": {},
     "execution_count": 34
    }
   ],
   "source": [
    "openai.Completion.create(\n",
    "  model=model[\"fine_tuned_model\"],\n",
    "  prompt=\"\n",
    "  max_tokens=300,\n",
    ")\n",
    "  stop=[\"\\n###\\n\"]\n",
    ")"
   ]
  },
  {
   "cell_type": "code",
   "execution_count": null,
   "metadata": {},
   "outputs": [],
   "source": []
  },
  {
   "cell_type": "code",
   "execution_count": null,
   "metadata": {},
   "outputs": [],
   "source": []
  },
  {
   "cell_type": "code",
   "execution_count": null,
   "metadata": {},
   "outputs": [],
   "source": []
  }
 ]
}