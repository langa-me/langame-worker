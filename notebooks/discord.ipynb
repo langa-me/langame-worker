{
 "cells": [
  {
   "cell_type": "code",
   "execution_count": 1,
   "metadata": {},
   "outputs": [],
   "source": [
    "import requests\n",
    "env = open('../.env').readlines()\n",
    "IS_PROD = True\n",
    "env_prefix = \"\" if IS_PROD else \"DEV_\"\n",
    "DISCORD_APPLICATION_ID = [x.split('=')[1].strip().replace('\"', '') for x in env if x.startswith(f'{env_prefix}DISCORD_APPLICATION_ID')][0]\n",
    "DISCORD_BOT_TOKEN = [x.split('=')[1].strip().replace('\"', '') for x in env if x.startswith(f'{env_prefix}DISCORD_BOT_TOKEN')][0]\n",
    "headers = {\n",
    "    \"Authorization\": f\"Bot {DISCORD_BOT_TOKEN}\"\n",
    "}"
   ]
  },
  {
   "cell_type": "markdown",
   "metadata": {},
   "source": [
    "# LIST COMMANDS"
   ]
  },
  {
   "cell_type": "code",
   "execution_count": 2,
   "metadata": {},
   "outputs": [
    {
     "data": {
      "text/plain": [
       "[{'id': '912067168210931783',\n",
       "  'application_id': '912000855186751489',\n",
       "  'version': '926834491530575894',\n",
       "  'default_permission': True,\n",
       "  'default_member_permissions': None,\n",
       "  'type': 1,\n",
       "  'name': 'starter',\n",
       "  'description': 'Generate a conversation starter given some topics',\n",
       "  'dm_permission': None,\n",
       "  'options': [{'type': 3,\n",
       "    'name': 'topics',\n",
       "    'description': \"List of topics separated by ','. Example 'ice breaker,travel,dating'\"},\n",
       "   {'type': 3,\n",
       "    'name': 'players',\n",
       "    'description': \"List of challenged players separated by ','. Example '@user1,@user2'\"}]}]"
      ]
     },
     "execution_count": 2,
     "metadata": {},
     "output_type": "execute_result"
    }
   ],
   "source": [
    "url = f\"https://discord.com/api/v8/applications/{DISCORD_APPLICATION_ID}/commands\"\n",
    "r = requests.get(url, headers=headers)\n",
    "r.json()"
   ]
  },
  {
   "cell_type": "markdown",
   "metadata": {},
   "source": [
    "# /starter"
   ]
  },
  {
   "cell_type": "code",
   "execution_count": 3,
   "metadata": {},
   "outputs": [
    {
     "data": {
      "text/plain": [
       "{'id': '912067168210931783',\n",
       " 'application_id': '912000855186751489',\n",
       " 'version': '937655825864998973',\n",
       " 'default_permission': True,\n",
       " 'default_member_permissions': None,\n",
       " 'type': 1,\n",
       " 'name': 'starter',\n",
       " 'name_localizations': None,\n",
       " 'description': 'Generate a conversation starter given some topics',\n",
       " 'description_localizations': None,\n",
       " 'dm_permission': None,\n",
       " 'options': [{'type': 3,\n",
       "   'name': 'topics',\n",
       "   'name_localizations': None,\n",
       "   'description': \"List of topics separated by ','. Example 'ice breaker,travel,dating'. (default: 'ice breaker')\",\n",
       "   'description_localizations': None},\n",
       "  {'type': 3,\n",
       "   'name': 'players',\n",
       "   'name_localizations': None,\n",
       "   'description': \"List of challenged players separated by ','. Example '@user1,@user2'\",\n",
       "   'description_localizations': None}]}"
      ]
     },
     "execution_count": 3,
     "metadata": {},
     "output_type": "execute_result"
    }
   ],
   "source": [
    "d = {\n",
    "    \"name\": \"starter\",\n",
    "    \"description\": \"Generate a conversation starter given some topics\",\n",
    "    \"options\": [\n",
    "        {\n",
    "            \"name\": \"topics\",\n",
    "            \"description\": \"List of topics separated by ','.\"\n",
    "            + \" Example 'ice breaker,travel,dating'. (default: 'ice breaker')\",\n",
    "            \"type\": 3,\n",
    "            \"required\": False,\n",
    "        },\n",
    "        {\n",
    "            \"name\": \"players\",\n",
    "            \"description\": \"List of challenged players separated by ','. Example '@user1,@user2'\",\n",
    "            \"type\": 3,\n",
    "            \"required\": False,\n",
    "        }\n",
    "    ]\n",
    "}\n",
    "COMMAND_ID=\"912067168210931783\"\n",
    "url = f\"https://discord.com/api/v8/applications/{DISCORD_APPLICATION_ID}/commands/\"+(f\"/{COMMAND_ID}\" if COMMAND_ID else \"\")\n",
    "r =  requests.patch(url, headers=headers, json=d) if COMMAND_ID else requests.post(url, headers=headers, json=d)\n",
    "r.json()"
   ]
  },
  {
   "cell_type": "markdown",
   "metadata": {},
   "source": [
    "# COMMAND DELETE"
   ]
  },
  {
   "cell_type": "code",
   "execution_count": 13,
   "metadata": {},
   "outputs": [
    {
     "data": {
      "text/plain": [
       "''"
      ]
     },
     "execution_count": 13,
     "metadata": {},
     "output_type": "execute_result"
    }
   ],
   "source": [
    "COMMAND_ID = \"\"\n",
    "url = f\"https://discord.com/api/v8/applications/{DISCORD_APPLICATION_ID}/commands/{COMMAND_ID}\"\n",
    "r = requests.delete(url, headers=headers)\n",
    "r.text"
   ]
  },
  {
   "cell_type": "markdown",
   "metadata": {},
   "source": [
    "# /about\n",
    "\n",
    "Langame\n",
    "A game where you can play with your friends.\n",
    "How to play\n",
    "Send this command to a channel:\n",
    "/starter topics:ice breaker,travel,whatever topic your like\n",
    "\n",
    "You can also add players to the Langame by adding the following option:\n",
    "/starter players:@user1,@user2,@user3\n",
    "\n",
    "With love, by https://langa.me/. Augmented conversations.\n"
   ]
  },
  {
   "cell_type": "code",
   "execution_count": 5,
   "metadata": {},
   "outputs": [
    {
     "data": {
      "text/plain": [
       "{'id': '937655936204562453',\n",
       " 'application_id': '912000855186751489',\n",
       " 'version': '937655936204562454',\n",
       " 'default_permission': True,\n",
       " 'default_member_permissions': None,\n",
       " 'type': 1,\n",
       " 'name': 'about',\n",
       " 'name_localizations': None,\n",
       " 'description': 'Give information about the bot',\n",
       " 'description_localizations': None,\n",
       " 'dm_permission': None}"
      ]
     },
     "execution_count": 5,
     "metadata": {},
     "output_type": "execute_result"
    }
   ],
   "source": [
    "\n",
    "d = {\n",
    "    \"name\": \"about\",\n",
    "    \"description\": \"Give information about the bot\",\n",
    "}\n",
    "COMMAND_ID = \"\"\n",
    "url = f\"https://discord.com/api/v8/applications/{DISCORD_APPLICATION_ID}/commands\"+(f\"/{COMMAND_ID}\" if COMMAND_ID else \"\")\n",
    "r =  requests.patch(url, headers=headers, json=d) if COMMAND_ID else requests.post(url, headers=headers, json=d)\n",
    "r.json()"
   ]
  },
  {
   "cell_type": "markdown",
   "metadata": {},
   "source": [
    "# /sub\n",
    "\n",
    "/sub topics:ice breaker,travel players:@louis030195,@bob27 frequency:12h\n",
    "\n",
    "results in the bot posting conversation starters between these two every 12h on the given topics\n",
    "\n",
    "Optionally use players:random to have the bot choose a random player from the server\n",
    "\n",
    "\n",
    "### Execution\n",
    "\n",
    "Topics:ice breaker,travel\n",
    "Players:@louis030195,@bob27\n",
    "\n",
    "What is your favorite place?\n",
    "\n",
    "CTA component button to stop the sub, like button click on /unsub whatever"
   ]
  },
  {
   "cell_type": "code",
   "execution_count": 6,
   "metadata": {},
   "outputs": [
    {
     "data": {
      "text/plain": [
       "{'id': '937656007562240060',\n",
       " 'application_id': '912000855186751489',\n",
       " 'version': '937656007562240061',\n",
       " 'default_permission': True,\n",
       " 'default_member_permissions': None,\n",
       " 'type': 1,\n",
       " 'name': 'sub',\n",
       " 'name_localizations': None,\n",
       " 'description': 'Subscribe to frequent Langames',\n",
       " 'description_localizations': None,\n",
       " 'dm_permission': None,\n",
       " 'options': [{'type': 3,\n",
       "   'name': 'topics',\n",
       "   'name_localizations': None,\n",
       "   'description': \"List of topics separated by ','. Example 'ice breaker,travel,dating'(default 'ice breaker')\",\n",
       "   'description_localizations': None},\n",
       "  {'type': 3,\n",
       "   'name': 'frequency',\n",
       "   'name_localizations': None,\n",
       "   'description': \"Frequency in minutes, hours or days. Example '30m' or '5h' or '2d' (default is 3h)\",\n",
       "   'description_localizations': None}]}"
      ]
     },
     "execution_count": 6,
     "metadata": {},
     "output_type": "execute_result"
    }
   ],
   "source": [
    "d = {\n",
    "    \"name\": \"sub\",\n",
    "    \"description\": \"Subscribe to frequent Langames\",\n",
    "    \"options\": [\n",
    "        {\n",
    "            \"name\": \"topics\",\n",
    "            \"description\": \"List of topics separated by ','. Example 'ice breaker,travel,dating'\"\n",
    "            + \"(default 'ice breaker')\",\n",
    "            \"type\": 3,\n",
    "            \"required\": False,\n",
    "        },\n",
    "        # {\n",
    "        #     \"name\": \"players\",\n",
    "        #     \"description\": \"List of challenged players separated by ','.\"\n",
    "        #     + \" Example '@user1,@user2'. (default is random players)\",\n",
    "        #     \"type\": 3,\n",
    "        #     \"required\": False,\n",
    "        # },\n",
    "        {\n",
    "            \"name\": \"frequency\",\n",
    "            \"description\": \"Frequency in minutes,\"\n",
    "            + \" hours or days. Example '30m' or '5h' or '2d'\"\n",
    "            + \" (default is 3h)\",\n",
    "            \"type\": 3,\n",
    "            \"required\": False,\n",
    "        }\n",
    "    ],\n",
    "}\n",
    "COMMAND_ID = \"\"\n",
    "url = f\"https://discord.com/api/v8/applications/{DISCORD_APPLICATION_ID}/commands\"+(f\"/{COMMAND_ID}\" if COMMAND_ID else \"\")\n",
    "r =  requests.patch(url, headers=headers, json=d) if COMMAND_ID else requests.post(url, headers=headers, json=d)\n",
    "r.json()"
   ]
  },
  {
   "cell_type": "markdown",
   "metadata": {},
   "source": [
    "# /unsub\n",
    "\n",
    "Unsubscribe the server from Langames."
   ]
  },
  {
   "cell_type": "code",
   "execution_count": 7,
   "metadata": {},
   "outputs": [
    {
     "data": {
      "text/plain": [
       "{'id': '937656041238315028',\n",
       " 'application_id': '912000855186751489',\n",
       " 'version': '937656041238315029',\n",
       " 'default_permission': True,\n",
       " 'default_member_permissions': None,\n",
       " 'type': 1,\n",
       " 'name': 'unsub',\n",
       " 'name_localizations': None,\n",
       " 'description': 'Unsubscribe from frequent Langames',\n",
       " 'description_localizations': None,\n",
       " 'dm_permission': None}"
      ]
     },
     "execution_count": 7,
     "metadata": {},
     "output_type": "execute_result"
    }
   ],
   "source": [
    "d = {\n",
    "    \"name\": \"unsub\",\n",
    "    \"description\": \"Unsubscribe from frequent Langames\",\n",
    "}\n",
    "COMMAND_ID = None\n",
    "url = f\"https://discord.com/api/v8/applications/{DISCORD_APPLICATION_ID}/commands\"+(f\"/{COMMAND_ID}\" if COMMAND_ID else \"\")\n",
    "r =  requests.patch(url, headers=headers, json=d) if COMMAND_ID else requests.post(url, headers=headers, json=d)\n",
    "r.json()"
   ]
  },
  {
   "cell_type": "markdown",
   "metadata": {},
   "source": [
    "# Other"
   ]
  },
  {
   "cell_type": "code",
   "execution_count": 11,
   "metadata": {},
   "outputs": [
    {
     "data": {
      "text/plain": [
       "[{'roles': ['933033976828948520', '933032577319731292'],\n",
       "  'nick': None,\n",
       "  'avatar': None,\n",
       "  'premium_since': None,\n",
       "  'joined_at': '2022-01-18T16:18:21.437000+00:00',\n",
       "  'is_pending': False,\n",
       "  'pending': False,\n",
       "  'communication_disabled_until': None,\n",
       "  'user': {'id': '172002275412279296',\n",
       "   'username': 'Tatsu',\n",
       "   'avatar': '43fc1879641f6239d6e4038eaa7dabbc',\n",
       "   'discriminator': '8792',\n",
       "   'public_flags': 589824,\n",
       "   'bot': True},\n",
       "  'mute': False,\n",
       "  'deaf': False},\n",
       " {'roles': ['916740688396292216', '935092248167739432'],\n",
       "  'nick': None,\n",
       "  'avatar': None,\n",
       "  'premium_since': None,\n",
       "  'joined_at': '2021-09-17T14:59:18.242000+00:00',\n",
       "  'is_pending': False,\n",
       "  'pending': False,\n",
       "  'communication_disabled_until': None,\n",
       "  'user': {'id': '267955006974590976',\n",
       "   'username': 'louis030195',\n",
       "   'avatar': '1a8d658e1267a1b0b36f93c151e4c733',\n",
       "   'discriminator': '2462',\n",
       "   'public_flags': 0},\n",
       "  'mute': False,\n",
       "  'deaf': False},\n",
       " {'roles': ['933033976828948520', '935092248167739432'],\n",
       "  'nick': None,\n",
       "  'avatar': None,\n",
       "  'premium_since': None,\n",
       "  'joined_at': '2022-01-01T13:36:49.966000+00:00',\n",
       "  'is_pending': False,\n",
       "  'pending': False,\n",
       "  'communication_disabled_until': None,\n",
       "  'user': {'id': '272937604339466240',\n",
       "   'username': 'Craig',\n",
       "   'avatar': '2f5382bb33d016c8c25b7f18acf898cc',\n",
       "   'discriminator': '1289',\n",
       "   'public_flags': 65536,\n",
       "   'bot': True},\n",
       "  'mute': False,\n",
       "  'deaf': False},\n",
       " {'roles': ['916740688396292216'],\n",
       "  'nick': None,\n",
       "  'avatar': None,\n",
       "  'premium_since': None,\n",
       "  'joined_at': '2022-01-04T14:29:45.999000+00:00',\n",
       "  'is_pending': False,\n",
       "  'pending': False,\n",
       "  'communication_disabled_until': None,\n",
       "  'user': {'id': '277117219844915200',\n",
       "   'username': 'pumpkin',\n",
       "   'avatar': '3c4e8d0549c6371f7755bbef44d83860',\n",
       "   'discriminator': '6426',\n",
       "   'public_flags': 0},\n",
       "  'mute': False,\n",
       "  'deaf': False},\n",
       " {'roles': ['922794086254141441'],\n",
       "  'nick': None,\n",
       "  'avatar': None,\n",
       "  'premium_since': None,\n",
       "  'joined_at': '2021-12-04T20:52:12.161000+00:00',\n",
       "  'is_pending': False,\n",
       "  'pending': False,\n",
       "  'communication_disabled_until': None,\n",
       "  'user': {'id': '293790393080741889',\n",
       "   'username': 'senescence',\n",
       "   'avatar': '6235b4200de04ca3d22f8642a48f40e2',\n",
       "   'discriminator': '2269',\n",
       "   'public_flags': 128},\n",
       "  'mute': False,\n",
       "  'deaf': False},\n",
       " {'roles': ['922794086254141441'],\n",
       "  'nick': None,\n",
       "  'avatar': None,\n",
       "  'premium_since': None,\n",
       "  'joined_at': '2022-01-01T17:00:29.539000+00:00',\n",
       "  'is_pending': False,\n",
       "  'pending': False,\n",
       "  'communication_disabled_until': None,\n",
       "  'user': {'id': '581641816512790528',\n",
       "   'username': 'nuaj',\n",
       "   'avatar': 'ead0bfdf410c931957f9088ac1cccd22',\n",
       "   'discriminator': '4801',\n",
       "   'public_flags': 0},\n",
       "  'mute': False,\n",
       "  'deaf': False},\n",
       " {'roles': [],\n",
       "  'nick': None,\n",
       "  'avatar': None,\n",
       "  'premium_since': None,\n",
       "  'joined_at': '2022-01-24T16:36:46.304000+00:00',\n",
       "  'is_pending': False,\n",
       "  'pending': False,\n",
       "  'communication_disabled_until': None,\n",
       "  'user': {'id': '631468071546126356',\n",
       "   'username': 'rome48a',\n",
       "   'avatar': None,\n",
       "   'discriminator': '9064',\n",
       "   'public_flags': 0},\n",
       "  'mute': False,\n",
       "  'deaf': False},\n",
       " {'roles': ['922794086254141441'],\n",
       "  'nick': None,\n",
       "  'avatar': None,\n",
       "  'premium_since': None,\n",
       "  'joined_at': '2021-12-21T18:04:28.103000+00:00',\n",
       "  'is_pending': False,\n",
       "  'pending': False,\n",
       "  'communication_disabled_until': None,\n",
       "  'user': {'id': '760087743920865301',\n",
       "   'username': 'Daniel C',\n",
       "   'avatar': 'fd1bd291e256f264c8c271b8f551f654',\n",
       "   'discriminator': '2168',\n",
       "   'public_flags': 0},\n",
       "  'mute': False,\n",
       "  'deaf': False},\n",
       " {'roles': [],\n",
       "  'nick': None,\n",
       "  'avatar': None,\n",
       "  'premium_since': None,\n",
       "  'joined_at': '2022-01-29T20:32:23.565000+00:00',\n",
       "  'is_pending': False,\n",
       "  'pending': False,\n",
       "  'communication_disabled_until': None,\n",
       "  'user': {'id': '846367375875113010',\n",
       "   'username': 'bousejin',\n",
       "   'avatar': 'c4180cb3fd04c5caee6dfb09d0bf6cb9',\n",
       "   'discriminator': '6096',\n",
       "   'public_flags': 0},\n",
       "  'mute': False,\n",
       "  'deaf': False},\n",
       " {'roles': ['922794086254141441'],\n",
       "  'nick': None,\n",
       "  'avatar': None,\n",
       "  'premium_since': None,\n",
       "  'joined_at': '2021-12-21T17:54:54.651000+00:00',\n",
       "  'is_pending': False,\n",
       "  'pending': False,\n",
       "  'communication_disabled_until': None,\n",
       "  'user': {'id': '866653335917166623',\n",
       "   'username': 'Daniel C',\n",
       "   'avatar': None,\n",
       "   'discriminator': '5013',\n",
       "   'public_flags': 0},\n",
       "  'mute': False,\n",
       "  'deaf': False},\n",
       " {'roles': ['933033976828948520', '912001417127018518'],\n",
       "  'nick': None,\n",
       "  'avatar': None,\n",
       "  'premium_since': None,\n",
       "  'joined_at': '2021-11-21T15:28:02.094000+00:00',\n",
       "  'is_pending': False,\n",
       "  'pending': False,\n",
       "  'communication_disabled_until': None,\n",
       "  'user': {'id': '912000855186751489',\n",
       "   'username': 'Langame',\n",
       "   'avatar': '71c05f3e97fc8b6ebf015aad8e67186d',\n",
       "   'discriminator': '8825',\n",
       "   'public_flags': 524288,\n",
       "   'bot': True},\n",
       "  'mute': False,\n",
       "  'deaf': False},\n",
       " {'roles': ['937460772861259868'],\n",
       "  'nick': None,\n",
       "  'avatar': None,\n",
       "  'premium_since': None,\n",
       "  'joined_at': '2022-01-30T21:34:25.458000+00:00',\n",
       "  'is_pending': False,\n",
       "  'pending': False,\n",
       "  'communication_disabled_until': None,\n",
       "  'user': {'id': '920612693864493066',\n",
       "   'username': 'Langame-alpha',\n",
       "   'avatar': '601bbe24bb4c6a29089e85e4113bb242',\n",
       "   'discriminator': '5491',\n",
       "   'public_flags': 0,\n",
       "   'bot': True},\n",
       "  'mute': False,\n",
       "  'deaf': False},\n",
       " {'roles': ['916740688396292216'],\n",
       "  'nick': None,\n",
       "  'avatar': None,\n",
       "  'premium_since': None,\n",
       "  'joined_at': '2022-01-17T21:37:54.532000+00:00',\n",
       "  'is_pending': False,\n",
       "  'pending': False,\n",
       "  'communication_disabled_until': None,\n",
       "  'user': {'id': '930946538547601418',\n",
       "   'username': 'Muhan',\n",
       "   'avatar': None,\n",
       "   'discriminator': '6295',\n",
       "   'public_flags': 0},\n",
       "  'mute': False,\n",
       "  'deaf': False}]"
      ]
     },
     "execution_count": 11,
     "metadata": {},
     "output_type": "execute_result"
    }
   ],
   "source": [
    "# url = f\"https://discord.com/api/v8/guilds/888438975646285834/members/267955006974590976\"\n",
    "# url = f\"https://discord.com/api/v8/guilds/888438975646285834/roles\"\n",
    "url = f\"https://discord.com/api/v8/guilds/888438975646285834/members?limit=1000\"\n",
    "r = requests.get(url, headers=headers)\n",
    "r.json()"
   ]
  }
 ],
 "metadata": {
  "interpreter": {
   "hash": "54cb2a04f1aaddec2e99139c9d7fdd1b3b41971afcbc7ceb72b4b8e2e31cae90"
  },
  "kernelspec": {
   "display_name": "Python 3.8.10 64-bit ('env': venv)",
   "language": "python",
   "name": "python3"
  },
  "language_info": {
   "codemirror_mode": {
    "name": "ipython",
    "version": 3
   },
   "file_extension": ".py",
   "mimetype": "text/x-python",
   "name": "python",
   "nbconvert_exporter": "python",
   "pygments_lexer": "ipython3",
   "version": "3.8.10"
  },
  "orig_nbformat": 4
 },
 "nbformat": 4,
 "nbformat_minor": 2
}
