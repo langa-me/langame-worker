{
 "cells": [
  {
   "cell_type": "code",
   "execution_count": 3,
   "metadata": {},
   "outputs": [],
   "source": [
    "import requests\n",
    "import json"
   ]
  },
  {
   "cell_type": "code",
   "execution_count": 1,
   "metadata": {},
   "outputs": [],
   "source": [
    "APPLICATION_ID=\"\"\n",
    "BOT_TOKEN=\"\""
   ]
  },
  {
   "cell_type": "code",
   "execution_count": 4,
   "metadata": {},
   "outputs": [
    {
     "data": {
      "text/plain": [
       "'{\"id\": \"912067168210931783\", \"application_id\": \"912000855186751489\", \"version\": \"915235565639708723\", \"default_permission\": true, \"default_member_permissions\": null, \"type\": 1, \"name\": \"starter\", \"name_localizations\": null, \"description\": \"Generate a conversation starter given some topics\", \"description_localizations\": null, \"dm_permission\": null, \"options\": [{\"type\": 3, \"name\": \"topics\", \"name_localizations\": null, \"description\": \"List of topics separated by \\',\\'\", \"description_localizations\": null}]}'"
      ]
     },
     "execution_count": 4,
     "metadata": {},
     "output_type": "execute_result"
    }
   ],
   "source": [
    "\n",
    "url = f\"https://discord.com/api/v8/applications/{APPLICATION_ID}/commands\"\n",
    "\n",
    "# This is an example CHAT_INPUT or Slash Command, with a type of 1\n",
    "json = {\n",
    "    \"name\": \"starter\",\n",
    "    \"description\": \"Generate a conversation starter given some topics\",\n",
    "    \"options\": [\n",
    "        {\n",
    "            \"name\": \"topics\",\n",
    "            \"description\": \"List of topics separated by ','\",\n",
    "            \"type\": 3,\n",
    "            \"required\": False,\n",
    "            # \"choices\": [\n",
    "            #     {\n",
    "            #         \"name\": \"Common\",\n",
    "            #         \"value\": \"ice breaker,travel\"\n",
    "            #     },\n",
    "            #     {\n",
    "            #         \"name\": \"Scientific\",\n",
    "            #         \"value\": \"philosophy,science,physic,mathematic,biology\"\n",
    "            #     },\n",
    "            # ]\n",
    "        },\n",
    "    ]\n",
    "}\n",
    "\n",
    "# For authorization, you can use either your bot token\n",
    "headers = {\n",
    "    \"Authorization\": f\"Bot {BOT_TOKEN}\"\n",
    "}\n",
    "\n",
    "r = requests.post(url, headers=headers, json=json)\n",
    "r.text"
   ]
  },
  {
   "cell_type": "code",
   "execution_count": 5,
   "metadata": {},
   "outputs": [
    {
     "data": {
      "text/plain": [
       "[{'id': '912067168210931783',\n",
       "  'application_id': '912000855186751489',\n",
       "  'version': '915235565639708723',\n",
       "  'default_permission': True,\n",
       "  'default_member_permissions': None,\n",
       "  'type': 1,\n",
       "  'name': 'starter',\n",
       "  'description': 'Generate a conversation starter given some topics',\n",
       "  'dm_permission': None,\n",
       "  'options': [{'type': 3,\n",
       "    'name': 'topics',\n",
       "    'description': \"List of topics separated by ','\"}]}]"
      ]
     },
     "execution_count": 5,
     "metadata": {},
     "output_type": "execute_result"
    }
   ],
   "source": [
    "\n",
    "url = f\"https://discord.com/api/v8/applications/{APPLICATION_ID}/commands\"\n",
    "\n",
    "\n",
    "# For authorization, you can use either your bot token\n",
    "headers = {\n",
    "    \"Authorization\": f\"Bot {BOT_TOKEN}\"\n",
    "}\n",
    "\n",
    "\n",
    "r = requests.get(url, headers=headers)\n",
    "r.json()"
   ]
  },
  {
   "cell_type": "code",
   "execution_count": 6,
   "metadata": {},
   "outputs": [
    {
     "data": {
      "text/plain": [
       "''"
      ]
     },
     "execution_count": 6,
     "metadata": {},
     "output_type": "execute_result"
    }
   ],
   "source": [
    "\n",
    "url = f\"https://discord.com/api/v8/applications/{APPLICATION_ID}/commands/912069384191754310\"\n",
    "\n",
    "\n",
    "# For authorization, you can use either your bot token\n",
    "headers = {\n",
    "    \"Authorization\": f\"Bot {BOT_TOKEN}\"\n",
    "}\n",
    "\n",
    "\n",
    "r = requests.delete(url, headers=headers)\n",
    "r.text"
   ]
  },
  {
   "cell_type": "code",
   "execution_count": 9,
   "metadata": {},
   "outputs": [
    {
     "data": {
      "text/plain": [
       "'{\"id\": \"914130174948294656\", \"type\": 19, \"content\": \"foo\", \"channel_id\": \"888438976128638998\", \"author\": {\"id\": \"912000855186751489\", \"username\": \"Langame\", \"avatar\": \"71c05f3e97fc8b6ebf015aad8e67186d\", \"discriminator\": \"8825\", \"public_flags\": 524288, \"bot\": true}, \"attachments\": [], \"embeds\": [], \"mentions\": [], \"mention_roles\": [], \"pinned\": false, \"mention_everyone\": false, \"tts\": false, \"timestamp\": \"2021-11-27T12:26:57.425000+00:00\", \"edited_timestamp\": null, \"flags\": 0, \"components\": [], \"application_id\": \"912000855186751489\", \"webhook_id\": \"912000855186751489\", \"message_reference\": {\"channel_id\": \"888438976128638998\", \"guild_id\": \"888438975646285834\", \"message_id\": \"914129879199518730\"}}'"
      ]
     },
     "execution_count": 9,
     "metadata": {},
     "output_type": "execute_result"
    }
   ],
   "source": [
    "interaction_token = \"aW50ZXJhY3Rpb246OTE0MTI5ODc3ODExMjAwMDgwOmtCZVBvV1g5TmtoNmZOYURZNlFzVUNLYk81elRsV2kya0VCN3V5d2dSMWxzdFZ5WGlWTU9tbWpzMjJwV21DTzIwTU1JYzM5eUpLN3hqMmNTdGw5QUlsQjFFaHZlVzNzT1poUllqYVFUcENLdDZLN1lPMEE5OThTM1NOOGNxa0Fr\"\n",
    "# https://discord.com/developers/docs/resources/webhook#execute-webhook\n",
    "r = requests.post(\n",
    "    f\"https://discord.com/api/v8/webhooks/{APPLICATION_ID}/{interaction_token}\",\n",
    "    headers={\n",
    "        \"Content-Type\": \"application/json\"\n",
    "    },\n",
    "    data=json.dumps(\n",
    "        {\n",
    "            \"content\": \"foo\",\n",
    "        },\n",
    "    ),\n",
    ")\n",
    "r.text"
   ]
  }
 ],
 "metadata": {
  "interpreter": {
   "hash": "54cb2a04f1aaddec2e99139c9d7fdd1b3b41971afcbc7ceb72b4b8e2e31cae90"
  },
  "kernelspec": {
   "display_name": "Python 3.8.10 64-bit ('env': venv)",
   "language": "python",
   "name": "python3"
  },
  "language_info": {
   "codemirror_mode": {
    "name": "ipython",
    "version": 3
   },
   "file_extension": ".py",
   "mimetype": "text/x-python",
   "name": "python",
   "nbconvert_exporter": "python",
   "pygments_lexer": "ipython3",
   "version": "3.8.10"
  },
  "orig_nbformat": 4
 },
 "nbformat": 4,
 "nbformat_minor": 2
}
