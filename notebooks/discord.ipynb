{
 "cells": [
  {
   "cell_type": "code",
   "execution_count": 7,
   "metadata": {},
   "outputs": [],
   "source": [
    "import requests\n",
    "import json\n",
    "env = open('../.env').readlines()\n",
    "DISCORD_APPLICATION_ID = [x.split('=')[1].strip().replace('\"', '') for x in env if x.startswith('DEV_DISCORD_APPLICATION_ID')][0]\n",
    "DISCORD_BOT_TOKEN = [x.split('=')[1].strip().replace('\"', '') for x in env if x.startswith('DEV_DISCORD_BOT_TOKEN')][0]"
   ]
  },
  {
   "cell_type": "code",
   "execution_count": 14,
   "metadata": {},
   "outputs": [
    {
     "data": {
      "text/plain": [
       "'{\"id\": \"920656302420684820\", \"application_id\": \"920612693864493066\", \"version\": \"920656302420684821\", \"default_permission\": true, \"default_member_permissions\": null, \"type\": 1, \"name\": \"starter\", \"name_localizations\": null, \"description\": \"Generate a conversation starter given some topics\", \"description_localizations\": null, \"dm_permission\": null, \"options\": [{\"type\": 3, \"name\": \"topics\", \"name_localizations\": null, \"description\": \"List of topics separated by \\',\\'\", \"description_localizations\": null}]}'"
      ]
     },
     "execution_count": 14,
     "metadata": {},
     "output_type": "execute_result"
    }
   ],
   "source": [
    "# CREATE COMMAND\n",
    "# https://discord.com/developers/docs/interactions/application-commands#making-a-global-command\n",
    "url = f\"https://discord.com/api/v8/applications/{DISCORD_APPLICATION_ID}/commands\"\n",
    "\n",
    "# This is an example CHAT_INPUT or Slash Command, with a type of 1\n",
    "json = {\n",
    "    \"name\": \"starter\",\n",
    "    \"description\": \"Generate a conversation starter given some topics\",\n",
    "    \"options\": [\n",
    "        {\n",
    "            \"name\": \"topics\",\n",
    "            \"description\": \"List of topics separated by ','\",\n",
    "            \"type\": 3,\n",
    "            \"required\": False,\n",
    "            # \"choices\": [\n",
    "            #     {\n",
    "            #         \"name\": \"Common\",\n",
    "            #         \"value\": \"ice breaker,travel\"\n",
    "            #     },\n",
    "            #     {\n",
    "            #         \"name\": \"Scientific\",\n",
    "            #         \"value\": \"philosophy,science,physic,mathematic,biology\"\n",
    "            #     },\n",
    "            # ]\n",
    "        },\n",
    "    ]\n",
    "}\n",
    "\n",
    "# For authorization, you can use either your bot token\n",
    "headers = {\n",
    "    \"Authorization\": f\"Bot {DISCORD_BOT_TOKEN}\"\n",
    "}\n",
    "\n",
    "r = requests.post(url, headers=headers, json=json)\n",
    "r.text"
   ]
  },
  {
   "cell_type": "code",
   "execution_count": 12,
   "metadata": {},
   "outputs": [
    {
     "data": {
      "text/plain": [
       "[{'id': '920655953999835167',\n",
       "  'application_id': '920612693864493066',\n",
       "  'version': '920655953999835168',\n",
       "  'default_permission': True,\n",
       "  'default_member_permissions': None,\n",
       "  'type': 1,\n",
       "  'name': 'starter',\n",
       "  'description': 'Generate a conversation starter given some topics',\n",
       "  'dm_permission': None,\n",
       "  'options': [{'type': 3,\n",
       "    'name': 'topics',\n",
       "    'description': \"List of topics separated by ','\"}]}]"
      ]
     },
     "execution_count": 12,
     "metadata": {},
     "output_type": "execute_result"
    }
   ],
   "source": [
    "# LIST COMMAND\n",
    "\n",
    "url = f\"https://discord.com/api/v8/applications/{DISCORD_APPLICATION_ID}/commands\"\n",
    "\n",
    "\n",
    "# For authorization, you can use either your bot token\n",
    "headers = {\n",
    "    \"Authorization\": f\"Bot {DISCORD_BOT_TOKEN}\"\n",
    "}\n",
    "\n",
    "\n",
    "r = requests.get(url, headers=headers)\n",
    "r.json()"
   ]
  },
  {
   "cell_type": "code",
   "execution_count": 13,
   "metadata": {},
   "outputs": [
    {
     "data": {
      "text/plain": [
       "''"
      ]
     },
     "execution_count": 13,
     "metadata": {},
     "output_type": "execute_result"
    }
   ],
   "source": [
    "# COMMAND DELETE\n",
    "\n",
    "url = f\"https://discord.com/api/v8/applications/{DISCORD_APPLICATION_ID}/commands/920655953999835167\"\n",
    "\n",
    "\n",
    "# For authorization, you can use either your bot token\n",
    "headers = {\n",
    "    \"Authorization\": f\"Bot {DISCORD_BOT_TOKEN}\"\n",
    "}\n",
    "\n",
    "\n",
    "r = requests.delete(url, headers=headers)\n",
    "r.text"
   ]
  }
 ],
 "metadata": {
  "interpreter": {
   "hash": "54cb2a04f1aaddec2e99139c9d7fdd1b3b41971afcbc7ceb72b4b8e2e31cae90"
  },
  "kernelspec": {
   "display_name": "Python 3.8.10 64-bit ('env': venv)",
   "language": "python",
   "name": "python3"
  },
  "language_info": {
   "codemirror_mode": {
    "name": "ipython",
    "version": 3
   },
   "file_extension": ".py",
   "mimetype": "text/x-python",
   "name": "python",
   "nbconvert_exporter": "python",
   "pygments_lexer": "ipython3",
   "version": "3.8.10"
  },
  "orig_nbformat": 4
 },
 "nbformat": 4,
 "nbformat_minor": 2
}
