{
 "cells": [
  {
   "cell_type": "code",
   "execution_count": 2,
   "metadata": {},
   "outputs": [],
   "source": [
    "APPLICATION_ID=\"\"\n",
    "BOT_TOKEN=\"\""
   ]
  },
  {
   "cell_type": "code",
   "execution_count": 4,
   "metadata": {},
   "outputs": [
    {
     "data": {
      "text/plain": [
       "'{\"id\": \"912067168210931783\", \"application_id\": \"912000855186751489\", \"version\": \"912754525230739466\", \"default_permission\": true, \"default_member_permissions\": null, \"type\": 1, \"name\": \"starter\", \"name_localizations\": null, \"description\": \"Generate a conversation starter\", \"description_localizations\": null, \"dm_permission\": null, \"options\": [{\"type\": 3, \"name\": \"topics\", \"name_localizations\": null, \"description\": \"List of topics separated by \\',\\'\", \"description_localizations\": null, \"required\": true, \"choices\": [{\"name\": \"Common\", \"value\": \"ice breaker,travel\", \"name_localizations\": null}, {\"name\": \"Scientific\", \"value\": \"philosophy,science,physic,mathematic,biology\", \"name_localizations\": null}]}]}'"
      ]
     },
     "execution_count": 4,
     "metadata": {},
     "output_type": "execute_result"
    }
   ],
   "source": [
    "import requests\n",
    "\n",
    "url = f\"https://discord.com/api/v8/applications/{APPLICATION_ID}/commands\"\n",
    "\n",
    "# This is an example CHAT_INPUT or Slash Command, with a type of 1\n",
    "json = {\n",
    "    \"name\": \"starter\",\n",
    "    \"description\": \"Generate a conversation starter\",\n",
    "    \"options\": [\n",
    "        {\n",
    "            \"name\": \"topics\",\n",
    "            \"description\": \"List of topics separated by ','\",\n",
    "            \"type\": 3,\n",
    "            \"required\": True,\n",
    "            \"choices\": [\n",
    "                {\n",
    "                    \"name\": \"Common\",\n",
    "                    \"value\": \"ice breaker,travel\"\n",
    "                },\n",
    "                {\n",
    "                    \"name\": \"Scientific\",\n",
    "                    \"value\": \"philosophy,science,physic,mathematic,biology\"\n",
    "                },\n",
    "            ]\n",
    "        },\n",
    "    ]\n",
    "}\n",
    "\n",
    "# For authorization, you can use either your bot token\n",
    "headers = {\n",
    "    \"Authorization\": f\"Bot {BOT_TOKEN}\"\n",
    "}\n",
    "\n",
    "r = requests.post(url, headers=headers, json=json)\n",
    "r.text"
   ]
  },
  {
   "cell_type": "code",
   "execution_count": 5,
   "metadata": {},
   "outputs": [
    {
     "data": {
      "text/plain": [
       "[{'id': '912067168210931783',\n",
       "  'application_id': '912000855186751489',\n",
       "  'version': '912754525230739466',\n",
       "  'default_permission': True,\n",
       "  'default_member_permissions': None,\n",
       "  'type': 1,\n",
       "  'name': 'starter',\n",
       "  'description': 'Generate a conversation starter',\n",
       "  'dm_permission': None,\n",
       "  'options': [{'type': 3,\n",
       "    'name': 'topics',\n",
       "    'description': \"List of topics separated by ','\",\n",
       "    'required': True,\n",
       "    'choices': [{'name': 'Common', 'value': 'ice breaker,travel'},\n",
       "     {'name': 'Scientific',\n",
       "      'value': 'philosophy,science,physic,mathematic,biology'}]}]},\n",
       " {'id': '912069384191754310',\n",
       "  'application_id': '912000855186751489',\n",
       "  'version': '912069384191754311',\n",
       "  'default_permission': True,\n",
       "  'default_member_permissions': None,\n",
       "  'type': 1,\n",
       "  'name': 'blep',\n",
       "  'description': 'Send a random adorable animal photo',\n",
       "  'dm_permission': None,\n",
       "  'options': [{'type': 3,\n",
       "    'name': 'animal',\n",
       "    'description': 'The type of animal',\n",
       "    'required': True,\n",
       "    'choices': [{'name': 'Dog', 'value': 'animal_dog'},\n",
       "     {'name': 'Cat', 'value': 'animal_cat'},\n",
       "     {'name': 'Penguin', 'value': 'animal_penguin'}]},\n",
       "   {'type': 5,\n",
       "    'name': 'only_smol',\n",
       "    'description': 'Whether to show only baby animals'}]}]"
      ]
     },
     "execution_count": 5,
     "metadata": {},
     "output_type": "execute_result"
    }
   ],
   "source": [
    "\n",
    "url = f\"https://discord.com/api/v8/applications/{APPLICATION_ID}/commands\"\n",
    "\n",
    "\n",
    "# For authorization, you can use either your bot token\n",
    "headers = {\n",
    "    \"Authorization\": f\"Bot {BOT_TOKEN}\"\n",
    "}\n",
    "\n",
    "\n",
    "r = requests.get(url, headers=headers)\n",
    "r.json()"
   ]
  },
  {
   "cell_type": "code",
   "execution_count": 6,
   "metadata": {},
   "outputs": [
    {
     "data": {
      "text/plain": [
       "''"
      ]
     },
     "execution_count": 6,
     "metadata": {},
     "output_type": "execute_result"
    }
   ],
   "source": [
    "\n",
    "url = f\"https://discord.com/api/v8/applications/{APPLICATION_ID}/commands/912069384191754310\"\n",
    "\n",
    "\n",
    "# For authorization, you can use either your bot token\n",
    "headers = {\n",
    "    \"Authorization\": f\"Bot {BOT_TOKEN}\"\n",
    "}\n",
    "\n",
    "\n",
    "r = requests.delete(url, headers=headers)\n",
    "r.text"
   ]
  }
 ],
 "metadata": {
  "interpreter": {
   "hash": "54cb2a04f1aaddec2e99139c9d7fdd1b3b41971afcbc7ceb72b4b8e2e31cae90"
  },
  "kernelspec": {
   "display_name": "Python 3.8.10 64-bit ('env': venv)",
   "language": "python",
   "name": "python3"
  },
  "language_info": {
   "codemirror_mode": {
    "name": "ipython",
    "version": 3
   },
   "file_extension": ".py",
   "mimetype": "text/x-python",
   "name": "python",
   "nbconvert_exporter": "python",
   "pygments_lexer": "ipython3",
   "version": "3.8.10"
  },
  "orig_nbformat": 4
 },
 "nbformat": 4,
 "nbformat_minor": 2
}
