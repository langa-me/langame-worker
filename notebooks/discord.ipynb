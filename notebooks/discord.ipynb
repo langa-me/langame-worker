{
 "cells": [
  {
   "cell_type": "code",
   "execution_count": 30,
   "metadata": {},
   "outputs": [],
   "source": [
    "import requests\n",
    "env = open('../.env').readlines()\n",
    "DISCORD_APPLICATION_ID = [x.split('=')[1].strip().replace('\"', '') for x in env if x.startswith('DEV_DISCORD_APPLICATION_ID')][0]\n",
    "DISCORD_BOT_TOKEN = [x.split('=')[1].strip().replace('\"', '') for x in env if x.startswith('DEV_DISCORD_BOT_TOKEN')][0]\n",
    "headers = {\n",
    "    \"Authorization\": f\"Bot {DISCORD_BOT_TOKEN}\"\n",
    "}"
   ]
  },
  {
   "cell_type": "markdown",
   "metadata": {},
   "source": [
    "# LIST COMMANDS"
   ]
  },
  {
   "cell_type": "code",
   "execution_count": 13,
   "metadata": {},
   "outputs": [
    {
     "data": {
      "text/plain": [
       "[{'id': '920656302420684820',\n",
       "  'application_id': '920612693864493066',\n",
       "  'version': '937447797664403537',\n",
       "  'default_permission': True,\n",
       "  'default_member_permissions': None,\n",
       "  'type': 1,\n",
       "  'name': 'starter',\n",
       "  'description': 'Generate a conversation starter given some topics',\n",
       "  'dm_permission': None,\n",
       "  'options': [{'type': 3,\n",
       "    'name': 'topics',\n",
       "    'description': \"List of topics separated by ','. Example 'ice breaker,travel,dating'. (default: 'ice breaker')\"},\n",
       "   {'type': 3,\n",
       "    'name': 'players',\n",
       "    'description': \"List of challenged players separated by ','. Example '@user1,@user2'\"}]},\n",
       " {'id': '937361355932070030',\n",
       "  'application_id': '920612693864493066',\n",
       "  'version': '937361355932070031',\n",
       "  'default_permission': True,\n",
       "  'default_member_permissions': None,\n",
       "  'type': 1,\n",
       "  'name': 'about',\n",
       "  'description': 'Give information about the bot',\n",
       "  'dm_permission': None},\n",
       " {'id': '937372525892096011',\n",
       "  'application_id': '920612693864493066',\n",
       "  'version': '937402177402601472',\n",
       "  'default_permission': True,\n",
       "  'default_member_permissions': None,\n",
       "  'type': 1,\n",
       "  'name': 'sub',\n",
       "  'description': 'Subscribe to frequent Langames',\n",
       "  'dm_permission': None,\n",
       "  'options': [{'type': 3,\n",
       "    'name': 'topics',\n",
       "    'description': \"List of topics separated by ','. Example 'ice breaker,travel,dating'(default 'ice breaker')\"},\n",
       "   {'type': 3,\n",
       "    'name': 'players',\n",
       "    'description': \"List of challenged players separated by ','. Example '@user1,@user2'. (default is random players)\"},\n",
       "   {'type': 3,\n",
       "    'name': 'frequency',\n",
       "    'description': \"Frequency in minutes, hours or days. Example '30m' or '5h' or '2d' (default is 3h)\"}]},\n",
       " {'id': '937402122624962611',\n",
       "  'application_id': '920612693864493066',\n",
       "  'version': '937402122624962612',\n",
       "  'default_permission': True,\n",
       "  'default_member_permissions': None,\n",
       "  'type': 1,\n",
       "  'name': 'unsub',\n",
       "  'description': 'Unsubscribe from frequent Langames',\n",
       "  'dm_permission': None}]"
      ]
     },
     "execution_count": 13,
     "metadata": {},
     "output_type": "execute_result"
    }
   ],
   "source": [
    "url = f\"https://discord.com/api/v8/applications/{DISCORD_APPLICATION_ID}/commands\"\n",
    "r = requests.get(url, headers=headers)\n",
    "r.json()"
   ]
  },
  {
   "cell_type": "markdown",
   "metadata": {},
   "source": [
    "# /starter"
   ]
  },
  {
   "cell_type": "code",
   "execution_count": 12,
   "metadata": {},
   "outputs": [
    {
     "data": {
      "text/plain": [
       "{'id': '920656302420684820',\n",
       " 'application_id': '920612693864493066',\n",
       " 'version': '937447797664403537',\n",
       " 'default_permission': True,\n",
       " 'default_member_permissions': None,\n",
       " 'type': 1,\n",
       " 'name': 'starter',\n",
       " 'name_localizations': None,\n",
       " 'description': 'Generate a conversation starter given some topics',\n",
       " 'description_localizations': None,\n",
       " 'dm_permission': None,\n",
       " 'options': [{'type': 3,\n",
       "   'name': 'topics',\n",
       "   'name_localizations': None,\n",
       "   'description': \"List of topics separated by ','. Example 'ice breaker,travel,dating'. (default: 'ice breaker')\",\n",
       "   'description_localizations': None},\n",
       "  {'type': 3,\n",
       "   'name': 'players',\n",
       "   'name_localizations': None,\n",
       "   'description': \"List of challenged players separated by ','. Example '@user1,@user2'\",\n",
       "   'description_localizations': None}]}"
      ]
     },
     "execution_count": 12,
     "metadata": {},
     "output_type": "execute_result"
    }
   ],
   "source": [
    "d = {\n",
    "    \"name\": \"starter\",\n",
    "    \"description\": \"Generate a conversation starter given some topics\",\n",
    "    \"options\": [\n",
    "        {\n",
    "            \"name\": \"topics\",\n",
    "            \"description\": \"List of topics separated by ','.\"\n",
    "            + \" Example 'ice breaker,travel,dating'. (default: 'ice breaker')\",\n",
    "            \"type\": 3,\n",
    "            \"required\": False,\n",
    "        },\n",
    "        {\n",
    "            \"name\": \"players\",\n",
    "            \"description\": \"List of challenged players separated by ','. Example '@user1,@user2'\",\n",
    "            \"type\": 3,\n",
    "            \"required\": False,\n",
    "        }\n",
    "    ]\n",
    "}\n",
    "COMMAND_ID=\"920656302420684820\"\n",
    "url = f\"https://discord.com/api/v8/applications/{DISCORD_APPLICATION_ID}/commands/\"+(f\"/{COMMAND_ID}\" if COMMAND_ID else \"\")\n",
    "r =  requests.patch(url, headers=headers, json=d) if COMMAND_ID else requests.post(url, headers=headers, json=d)\n",
    "r.json()"
   ]
  },
  {
   "cell_type": "markdown",
   "metadata": {},
   "source": [
    "# COMMAND DELETE"
   ]
  },
  {
   "cell_type": "code",
   "execution_count": 13,
   "metadata": {},
   "outputs": [
    {
     "data": {
      "text/plain": [
       "''"
      ]
     },
     "execution_count": 13,
     "metadata": {},
     "output_type": "execute_result"
    }
   ],
   "source": [
    "COMMAND_ID = \"\"\n",
    "url = f\"https://discord.com/api/v8/applications/{DISCORD_APPLICATION_ID}/commands/{COMMAND_ID}\"\n",
    "r = requests.delete(url, headers=headers)\n",
    "r.text"
   ]
  },
  {
   "cell_type": "markdown",
   "metadata": {},
   "source": [
    "# /about\n",
    "\n",
    "Langame\n",
    "A game where you can play with your friends.\n",
    "How to play\n",
    "Send this command to a channel:\n",
    "/starter topics:ice breaker,travel,whatever topic your like\n",
    "\n",
    "You can also add players to the Langame by adding the following option:\n",
    "/starter players:@user1,@user2,@user3\n",
    "\n",
    "With love, by https://langa.me/. Augmented conversations.\n"
   ]
  },
  {
   "cell_type": "code",
   "execution_count": 7,
   "metadata": {},
   "outputs": [
    {
     "data": {
      "text/plain": [
       "'{\"id\": \"937361355932070030\", \"application_id\": \"920612693864493066\", \"version\": \"937361355932070031\", \"default_permission\": true, \"default_member_permissions\": null, \"type\": 1, \"name\": \"about\", \"name_localizations\": null, \"description\": \"Give information about the bot\", \"description_localizations\": null, \"dm_permission\": null}'"
      ]
     },
     "execution_count": 7,
     "metadata": {},
     "output_type": "execute_result"
    }
   ],
   "source": [
    "\n",
    "d = {\n",
    "    \"name\": \"about\",\n",
    "    \"description\": \"Give information about the bot\",\n",
    "}\n",
    "COMMAND_ID = \"\"\n",
    "url = f\"https://discord.com/api/v8/applications/{DISCORD_APPLICATION_ID}/commands/\"+(f\"/{COMMAND_ID}\" if COMMAND_ID else \"\")\n",
    "r =  requests.patch(url, headers=headers, json=d) if COMMAND_ID else requests.post(url, headers=headers, json=d)\n",
    "r.json()"
   ]
  },
  {
   "cell_type": "markdown",
   "metadata": {},
   "source": [
    "# /sub\n",
    "\n",
    "/sub topics:ice breaker,travel players:@louis030195,@bob27 frequency:12h\n",
    "\n",
    "results in the bot posting conversation starters between these two every 12h on the given topics\n",
    "\n",
    "Optionally use players:random to have the bot choose a random player from the server\n",
    "\n",
    "\n",
    "### Execution\n",
    "\n",
    "Topics:ice breaker,travel\n",
    "Players:@louis030195,@bob27\n",
    "\n",
    "What is your favorite place?\n",
    "\n",
    "CTA component button to stop the sub, like button click on /unsub whatever"
   ]
  },
  {
   "cell_type": "code",
   "execution_count": 41,
   "metadata": {},
   "outputs": [
    {
     "data": {
      "text/plain": [
       "{'id': '937372525892096011',\n",
       " 'application_id': '920612693864493066',\n",
       " 'version': '937459048939417600',\n",
       " 'default_permission': True,\n",
       " 'default_member_permissions': None,\n",
       " 'type': 1,\n",
       " 'name': 'sub',\n",
       " 'name_localizations': None,\n",
       " 'description': 'Subscribe to frequent Langames',\n",
       " 'description_localizations': None,\n",
       " 'dm_permission': None,\n",
       " 'options': [{'type': 3,\n",
       "   'name': 'topics',\n",
       "   'name_localizations': None,\n",
       "   'description': \"List of topics separated by ','. Example 'ice breaker,travel,dating'(default 'ice breaker')\",\n",
       "   'description_localizations': None},\n",
       "  {'type': 3,\n",
       "   'name': 'frequency',\n",
       "   'name_localizations': None,\n",
       "   'description': \"Frequency in minutes, hours or days. Example '30m' or '5h' or '2d' (default is 3h)\",\n",
       "   'description_localizations': None}]}"
      ]
     },
     "execution_count": 41,
     "metadata": {},
     "output_type": "execute_result"
    }
   ],
   "source": [
    "d = {\n",
    "    \"name\": \"sub\",\n",
    "    \"description\": \"Subscribe to frequent Langames\",\n",
    "    \"options\": [\n",
    "        {\n",
    "            \"name\": \"topics\",\n",
    "            \"description\": \"List of topics separated by ','. Example 'ice breaker,travel,dating'\"\n",
    "            + \"(default 'ice breaker')\",\n",
    "            \"type\": 3,\n",
    "            \"required\": False,\n",
    "        },\n",
    "        # {\n",
    "        #     \"name\": \"players\",\n",
    "        #     \"description\": \"List of challenged players separated by ','.\"\n",
    "        #     + \" Example '@user1,@user2'. (default is random players)\",\n",
    "        #     \"type\": 3,\n",
    "        #     \"required\": False,\n",
    "        # },\n",
    "        {\n",
    "            \"name\": \"frequency\",\n",
    "            \"description\": \"Frequency in minutes,\"\n",
    "            + \" hours or days. Example '30m' or '5h' or '2d'\"\n",
    "            + \" (default is 3h)\",\n",
    "            \"type\": 3,\n",
    "            \"required\": False,\n",
    "        }\n",
    "    ],\n",
    "}\n",
    "COMMAND_ID = \"937372525892096011\"\n",
    "url = f\"https://discord.com/api/v8/applications/{DISCORD_APPLICATION_ID}/commands/\"+(f\"/{COMMAND_ID}\" if COMMAND_ID else \"\")\n",
    "r =  requests.patch(url, headers=headers, json=d) if COMMAND_ID else requests.post(url, headers=headers, json=d)\n",
    "r.json()"
   ]
  },
  {
   "cell_type": "markdown",
   "metadata": {},
   "source": [
    "# /unsub\n",
    "\n",
    "Unsubscribe the server from Langames."
   ]
  },
  {
   "cell_type": "code",
   "execution_count": 7,
   "metadata": {},
   "outputs": [
    {
     "data": {
      "text/plain": [
       "{'id': '937402122624962611',\n",
       " 'application_id': '920612693864493066',\n",
       " 'version': '937402122624962612',\n",
       " 'default_permission': True,\n",
       " 'default_member_permissions': None,\n",
       " 'type': 1,\n",
       " 'name': 'unsub',\n",
       " 'name_localizations': None,\n",
       " 'description': 'Unsubscribe from frequent Langames',\n",
       " 'description_localizations': None,\n",
       " 'dm_permission': None}"
      ]
     },
     "execution_count": 7,
     "metadata": {},
     "output_type": "execute_result"
    }
   ],
   "source": [
    "d = {\n",
    "    \"name\": \"unsub\",\n",
    "    \"description\": \"Unsubscribe from frequent Langames\",\n",
    "}\n",
    "COMMAND_ID = None\n",
    "url = f\"https://discord.com/api/v8/applications/{DISCORD_APPLICATION_ID}/commands\"+(f\"/{COMMAND_ID}\" if COMMAND_ID else \"\")\n",
    "r =  requests.patch(url, headers=headers, json=d) if COMMAND_ID else requests.post(url, headers=headers, json=d)\n",
    "r.json()"
   ]
  }
 ],
 "metadata": {
  "interpreter": {
   "hash": "54cb2a04f1aaddec2e99139c9d7fdd1b3b41971afcbc7ceb72b4b8e2e31cae90"
  },
  "kernelspec": {
   "display_name": "Python 3.8.10 64-bit ('env': venv)",
   "language": "python",
   "name": "python3"
  },
  "language_info": {
   "codemirror_mode": {
    "name": "ipython",
    "version": 3
   },
   "file_extension": ".py",
   "mimetype": "text/x-python",
   "name": "python",
   "nbconvert_exporter": "python",
   "pygments_lexer": "ipython3",
   "version": "3.8.10"
  },
  "orig_nbformat": 4
 },
 "nbformat": 4,
 "nbformat_minor": 2
}
