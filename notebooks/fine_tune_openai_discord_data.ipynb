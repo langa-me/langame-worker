{
 "cells": [
  {
   "cell_type": "code",
   "execution_count": 7,
   "metadata": {},
   "outputs": [
    {
     "name": "stdout",
     "output_type": "stream",
     "text": [
      "Downloading discord-data.zip to /tmp\n",
      " 99%|██████████████████████████████████████▊| 7.56G/7.60G [00:27<00:00, 418MB/s]\n",
      "100%|███████████████████████████████████████| 7.60G/7.60G [00:28<00:00, 291MB/s]\n"
     ]
    }
   ],
   "source": [
    "# Gitpod limited to 30GB, will crash\n",
    "!kaggle datasets download -d jef1056/discord-data --unzip -p /tmp"
   ]
  },
  {
   "cell_type": "code",
   "execution_count": 12,
   "metadata": {},
   "outputs": [],
   "source": [
    "from langame import LangameClient\n",
    "c = LangameClient()"
   ]
  },
  {
   "cell_type": "code",
   "execution_count": null,
   "metadata": {},
   "outputs": [],
   "source": [
    "data = []\n",
    "for k, v in df.iterrows():\n",
    "    n, bp = process_input(v.product_name, v.product_bullet_points)\n",
    "    bp = '\\n'.join(bp)\n",
    "    data.append({\n",
    "        \"prompt\": \"\",\n",
    "        \"completion\": f\" {v.product_description}\\n###\\n\",\n",
    "    })"
   ]
  },
  {
   "cell_type": "code",
   "execution_count": null,
   "metadata": {},
   "outputs": [],
   "source": [
    "with open(file_name, \"w\") as outfile:\n",
    "    for d in data:\n",
    "        json.dump(d, outfile)\n",
    "        outfile.write('\\n')"
   ]
  },
  {
   "cell_type": "code",
   "execution_count": null,
   "metadata": {},
   "outputs": [],
   "source": [
    "!head -n3 $file_name | jq ."
   ]
  },
  {
   "cell_type": "code",
   "execution_count": null,
   "metadata": {},
   "outputs": [],
   "source": [
    "!openai tools fine_tunes.prepare_data -f $file_name"
   ]
  },
  {
   "cell_type": "code",
   "execution_count": null,
   "metadata": {},
   "outputs": [],
   "source": [
    "openai_file = openai.File.create(\n",
    "  file=open(file_name),\n",
    "  purpose=\"fine-tune\"\n",
    ")\n",
    "openai_fine_tune = openai.FineTune.create(\n",
    "    training_file=openai_file[\"id\"],\n",
    "    model=\"curie\",\n",
    "    batch_size=1,\n",
    "    use_packing=True,\n",
    "    learning_rate_multiplier=0.1,\n",
    ")"
   ]
  },
  {
   "cell_type": "code",
   "execution_count": null,
   "metadata": {},
   "outputs": [],
   "source": [
    "model = get_model_by_dataset_name(file_name)\n",
    "model"
   ]
  },
  {
   "cell_type": "code",
   "execution_count": null,
   "metadata": {},
   "outputs": [],
   "source": [
    "print_markdown(file_name, model)\n"
   ]
  }
 ],
 "metadata": {
  "interpreter": {
   "hash": "426a2539fe079551ba363538d87c95f75d55e8606d079654ca93f98cd37b2ab8"
  },
  "kernelspec": {
   "display_name": "Python 3.8.11 64-bit ('env': venv)",
   "name": "python3"
  },
  "language_info": {
   "codemirror_mode": {
    "name": "ipython",
    "version": 3
   },
   "file_extension": ".py",
   "mimetype": "text/x-python",
   "name": "python",
   "nbconvert_exporter": "python",
   "pygments_lexer": "ipython3",
   "version": "3.8.11"
  },
  "orig_nbformat": 4
 },
 "nbformat": 4,
 "nbformat_minor": 2
}
