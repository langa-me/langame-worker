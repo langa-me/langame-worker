{
 "cells": [
  {
   "cell_type": "code",
   "execution_count": 2,
   "metadata": {},
   "outputs": [],
   "source": [
    "from langame import LangameClient\n",
    "from pprint import pprint\n",
    "from firebase_admin import firestore\n",
    "import requests\n",
    "from bs4 import BeautifulSoup\n",
    "import json\n",
    "import openai\n",
    "from pathlib import Path\n",
    "import pandas as pd\n",
    "import datetime\n",
    "import markdown\n",
    "c = LangameClient(path_to_config_file=\"../config.yaml\")"
   ]
  },
  {
   "cell_type": "code",
   "execution_count": 17,
   "metadata": {},
   "outputs": [],
   "source": [
    "!rm -rf $out_file_name"
   ]
  },
  {
   "cell_type": "code",
   "execution_count": 18,
   "metadata": {},
   "outputs": [],
   "source": [
    "out_file_name = \"../data/openai_fine_tune_ice_breaker_26_11_2021.jsonl\"\n",
    "in_file_name = \"../data/augment/ice_breaker_26_11_2021.jsonl\"\n",
    "\n",
    "out_file_name = \"../data/openai_fine_tune_science_26_11_2021.jsonl\"\n",
    "in_file_name = \"../data/augment/science_26_11_2021.jsonl\"\n",
    "\n",
    "with open(in_file_name) as f:\n",
    "  for e in f.readlines():\n",
    "    e_json = json.loads(e)\n",
    "    if \"topics\" not in e_json or \\\n",
    "      \"content\" not in e_json or \\\n",
    "      not all(isinstance(x, str) for x in e_json[\"topics\"]):\n",
    "      continue\n",
    "    topics = \",\".join(e_json[\"topics\"])\n",
    "    content = e_json[\"content\"]\n",
    "    with open(out_file_name, \"a+\") as outfile:\n",
    "      json.dump({\n",
    "          \"prompt\": f\"\",\n",
    "          \"completion\": f\" {topics} ### {content}\",\n",
    "      }, outfile)\n",
    "      outfile.write('\\n')"
   ]
  },
  {
   "cell_type": "code",
   "execution_count": 9,
   "metadata": {},
   "outputs": [
    {
     "name": "stdout",
     "output_type": "stream",
     "text": [
      "Analyzing...\n",
      "\n",
      "- Your file contains 8014 prompt-completion pairs\n",
      "- There are 944 duplicated prompt-completion pairs. These are rows: [70, 75, 145, 190, 231, 287, 295, 334, 457, 466, 481, 499, 501, 514, 523, 568, 583, 617, 621, 649, 654, 689, 697, 706, 714, 745, 747, 754, 764, 812, 818, 839, 859, 862, 864, 895, 924, 928, 931, 942, 1011, 1015, 1036, 1038, 1060, 1068, 1070, 1106, 1119, 1178, 1179, 1187, 1190, 1204, 1242, 1294, 1302, 1310, 1322, 1338, 1358, 1375, 1391, 1392, 1397, 1404, 1409, 1416, 1433, 1439, 1443, 1448, 1453, 1461, 1464, 1471, 1472, 1500, 1504, 1506, 1525, 1563, 1574, 1575, 1587, 1610, 1613, 1616, 1618, 1631, 1657, 1663, 1674, 1700, 1701, 1712, 1717, 1721, 1742, 1753, 1767, 1772, 1776, 1784, 1786, 1795, 1804, 1807, 1823, 1824, 1832, 1838, 1851, 1863, 1875, 1890, 1894, 1902, 1904, 1907, 1916, 1925, 1926, 1932, 1980, 1981, 1995, 1996, 2012, 2016, 2022, 2026, 2040, 2050, 2053, 2057, 2068, 2091, 2093, 2110, 2112, 2121, 2136, 2142, 2144, 2156, 2183, 2206, 2210, 2215, 2235, 2239, 2243, 2257, 2258, 2264, 2273, 2274, 2286, 2291, 2297, 2321, 2338, 2340, 2359, 2370, 2373, 2374, 2380, 2410, 2424, 2433, 2447, 2465, 2482, 2489, 2497, 2510, 2514, 2516, 2536, 2555, 2559, 2564, 2579, 2589, 2603, 2605, 2610, 2617, 2620, 2622, 2631, 2637, 2644, 2660, 2663, 2667, 2676, 2677, 2687, 2691, 2711, 2712, 2721, 2732, 2740, 2741, 2753, 2754, 2756, 2757, 2761, 2771, 2776, 2781, 2788, 2800, 2820, 2829, 2841, 2843, 2844, 2874, 2888, 2891, 2916, 2925, 2927, 2931, 2932, 2933, 2936, 2945, 2950, 2953, 2957, 2973, 2974, 2985, 2993, 3004, 3006, 3007, 3011, 3012, 3020, 3028, 3045, 3050, 3060, 3085, 3087, 3100, 3127, 3145, 3172, 3194, 3202, 3206, 3228, 3235, 3255, 3259, 3287, 3288, 3301, 3303, 3312, 3332, 3333, 3335, 3339, 3347, 3363, 3378, 3381, 3386, 3388, 3389, 3404, 3415, 3432, 3435, 3439, 3450, 3471, 3475, 3477, 3479, 3480, 3487, 3498, 3508, 3510, 3512, 3514, 3533, 3539, 3547, 3550, 3555, 3565, 3567, 3569, 3582, 3599, 3609, 3618, 3628, 3643, 3649, 3651, 3653, 3655, 3659, 3667, 3669, 3687, 3697, 3708, 3715, 3728, 3732, 3741, 3742, 3746, 3747, 3757, 3759, 3774, 3778, 3784, 3785, 3803, 3808, 3818, 3843, 3844, 3845, 3852, 3863, 3875, 3878, 3914, 3915, 3920, 3927, 3928, 3929, 3930, 3946, 3949, 3952, 3961, 3963, 3978, 3987, 3993, 3994, 4000, 4008, 4012, 4016, 4019, 4037, 4041, 4050, 4059, 4071, 4072, 4083, 4085, 4089, 4090, 4101, 4104, 4110, 4116, 4117, 4120, 4126, 4142, 4144, 4147, 4149, 4157, 4166, 4167, 4191, 4207, 4235, 4238, 4239, 4248, 4249, 4263, 4264, 4277, 4280, 4297, 4299, 4343, 4346, 4348, 4350, 4351, 4352, 4366, 4367, 4378, 4380, 4387, 4390, 4393, 4395, 4396, 4409, 4418, 4425, 4426, 4443, 4444, 4449, 4472, 4474, 4475, 4484, 4490, 4498, 4503, 4504, 4515, 4516, 4522, 4525, 4526, 4542, 4549, 4577, 4580, 4587, 4590, 4596, 4609, 4612, 4619, 4632, 4633, 4634, 4637, 4639, 4653, 4657, 4659, 4677, 4683, 4692, 4698, 4703, 4719, 4738, 4753, 4758, 4770, 4781, 4797, 4803, 4805, 4806, 4815, 4816, 4830, 4838, 4839, 4843, 4858, 4864, 4877, 4878, 4881, 4888, 4896, 4900, 4906, 4912, 4917, 4930, 4938, 4944, 4945, 4946, 4949, 4950, 4952, 4958, 4961, 4974, 5000, 5008, 5012, 5013, 5025, 5052, 5054, 5058, 5059, 5063, 5067, 5069, 5075, 5079, 5089, 5092, 5108, 5114, 5116, 5138, 5150, 5159, 5164, 5176, 5177, 5192, 5196, 5202, 5203, 5209, 5219, 5220, 5222, 5227, 5245, 5260, 5267, 5275, 5277, 5279, 5310, 5318, 5336, 5339, 5340, 5350, 5358, 5366, 5383, 5384, 5387, 5392, 5417, 5422, 5423, 5425, 5433, 5435, 5445, 5448, 5451, 5462, 5464, 5467, 5472, 5475, 5486, 5497, 5503, 5505, 5527, 5528, 5532, 5533, 5536, 5539, 5540, 5546, 5552, 5563, 5568, 5578, 5580, 5581, 5589, 5592, 5594, 5595, 5597, 5611, 5616, 5623, 5624, 5627, 5644, 5647, 5649, 5674, 5688, 5691, 5695, 5702, 5703, 5704, 5719, 5721, 5730, 5732, 5739, 5741, 5742, 5744, 5749, 5751, 5752, 5756, 5758, 5761, 5766, 5778, 5785, 5790, 5797, 5801, 5806, 5807, 5816, 5823, 5828, 5834, 5837, 5839, 5844, 5849, 5859, 5874, 5879, 5880, 5881, 5885, 5897, 5912, 5917, 5921, 5922, 5925, 5926, 5929, 5939, 5952, 5957, 5967, 5971, 5973, 5977, 5985, 5988, 5989, 6001, 6003, 6020, 6025, 6028, 6043, 6045, 6056, 6062, 6070, 6083, 6088, 6106, 6109, 6118, 6125, 6145, 6152, 6154, 6164, 6170, 6174, 6184, 6185, 6187, 6191, 6192, 6197, 6199, 6203, 6205, 6208, 6214, 6217, 6220, 6238, 6252, 6278, 6281, 6284, 6286, 6312, 6317, 6320, 6326, 6339, 6346, 6353, 6354, 6356, 6360, 6364, 6373, 6387, 6397, 6403, 6407, 6410, 6414, 6424, 6425, 6431, 6456, 6457, 6460, 6475, 6489, 6499, 6506, 6520, 6521, 6532, 6533, 6541, 6553, 6555, 6565, 6575, 6590, 6594, 6604, 6611, 6618, 6621, 6628, 6629, 6630, 6636, 6644, 6652, 6653, 6669, 6678, 6679, 6682, 6689, 6700, 6706, 6730, 6741, 6752, 6765, 6773, 6775, 6788, 6799, 6802, 6803, 6817, 6825, 6845, 6846, 6850, 6868, 6872, 6873, 6877, 6878, 6882, 6883, 6889, 6892, 6895, 6903, 6936, 6954, 6963, 6975, 6979, 7003, 7010, 7012, 7013, 7018, 7020, 7024, 7028, 7060, 7064, 7066, 7071, 7072, 7083, 7096, 7100, 7105, 7108, 7114, 7115, 7121, 7124, 7131, 7138, 7140, 7144, 7148, 7163, 7189, 7199, 7204, 7206, 7216, 7218, 7221, 7229, 7230, 7240, 7248, 7265, 7268, 7277, 7279, 7285, 7290, 7297, 7325, 7329, 7337, 7340, 7348, 7358, 7384, 7386, 7396, 7405, 7412, 7427, 7429, 7439, 7452, 7454, 7457, 7462, 7466, 7472, 7476, 7490, 7492, 7498, 7507, 7508, 7515, 7516, 7519, 7523, 7526, 7533, 7535, 7543, 7545, 7551, 7552, 7554, 7559, 7571, 7572, 7580, 7585, 7588, 7590, 7594, 7602, 7610, 7611, 7616, 7618, 7620, 7621, 7623, 7630, 7631, 7636, 7651, 7652, 7666, 7671, 7684, 7688, 7693, 7699, 7706, 7707, 7710, 7721, 7725, 7728, 7739, 7740, 7756, 7769, 7771, 7804, 7814, 7816, 7826, 7832, 7842, 7854, 7861, 7872, 7878, 7880, 7881, 7889, 7906, 7913, 7918, 7920, 7928, 7935, 7955, 7970, 7971, 7974, 7975, 7977, 7981, 7982, 7983, 7984, 7986, 7989, 7995, 7996, 7998, 8002, 8006, 8007]\n",
      "\n",
      "Based on the analysis we will perform the following actions:\n",
      "- [Recommended] Remove 944 duplicate rows [Y/n]: ^C\n",
      "\n"
     ]
    }
   ],
   "source": [
    "!openai tools fine_tunes.prepare_data -f $out_file_name"
   ]
  },
  {
   "cell_type": "code",
   "execution_count": 19,
   "metadata": {},
   "outputs": [],
   "source": [
    "f = openai.File.create(\n",
    "  file=open(out_file_name),\n",
    "  purpose=\"fine-tune\"\n",
    ")\n",
    "f_t = openai.FineTune.create(\n",
    "    training_file=f[\"id\"],\n",
    "    model=\"curie\"\n",
    ")"
   ]
  },
  {
   "cell_type": "code",
   "execution_count": 24,
   "metadata": {},
   "outputs": [
    {
     "data": {
      "text/plain": [
       "<FineTune fine-tune id=ft-TjGJ42Q5BOnwKE6UZrNnJbli at 0x7f6770779e00> JSON: {\n",
       "  \"created_at\": 1637945578,\n",
       "  \"fine_tuned_model\": null,\n",
       "  \"hyperparams\": {\n",
       "    \"batch_size\": null,\n",
       "    \"learning_rate_multiplier\": 0.05,\n",
       "    \"n_epochs\": 4,\n",
       "    \"prompt_loss_weight\": 0.1,\n",
       "    \"use_packing\": null\n",
       "  },\n",
       "  \"id\": \"ft-TjGJ42Q5BOnwKE6UZrNnJbli\",\n",
       "  \"model\": \"curie\",\n",
       "  \"object\": \"fine-tune\",\n",
       "  \"organization_id\": \"org-KwcHNgfGe4pqdKDLQIJt99UZ\",\n",
       "  \"result_files\": [],\n",
       "  \"status\": \"pending\",\n",
       "  \"training_files\": [\n",
       "    {\n",
       "      \"bytes\": 3253504,\n",
       "      \"created_at\": 1637945577,\n",
       "      \"filename\": \"openai_fine_tune_science_26_11_2021.jsonl\",\n",
       "      \"id\": \"file-BaEQPIuY09261XNwuD73flUR\",\n",
       "      \"object\": \"file\",\n",
       "      \"purpose\": \"fine-tune\",\n",
       "      \"status\": \"processed\",\n",
       "      \"status_details\": null\n",
       "    }\n",
       "  ],\n",
       "  \"updated_at\": 1637945578,\n",
       "  \"validation_files\": []\n",
       "}"
      ]
     },
     "execution_count": 24,
     "metadata": {},
     "output_type": "execute_result"
    }
   ],
   "source": [
    "model = openai.FineTune.list()['data'][-1]\n",
    "model"
   ]
  },
  {
   "cell_type": "code",
   "execution_count": 34,
   "metadata": {},
   "outputs": [
    {
     "data": {
      "text/plain": [
       "<OpenAIObject text_completion id=cmpl-3bb9PbAkCra9NSEJrOTKDhDxi4yCP at 0x13f15c770> JSON: {\n",
       "  \"choices\": [\n",
       "    {\n",
       "      \"finish_reason\": \"stop\",\n",
       "      \"index\": 0,\n",
       "      \"logprobs\": null,\n",
       "      \"text\": \"While most of humanity is focused on avoiding harm, a small but very vocal minority has decided that the best way to avoid harm is to actively seeks it out. Called \\u201cthe optimists\\u201d by the media, this group includes anarchists, Daredevil bloggers, thrill-seekers, and other \\u2013 sometimes bizarre \\u2013 personalities.\"\n",
       "    }\n",
       "  ],\n",
       "  \"created\": 1630089955,\n",
       "  \"id\": \"cmpl-3bb9PbAkCra9NSEJrOTKDhDxi4yCP\",\n",
       "  \"model\": \"curie:ft-louis-personal-2021-08-27-16-57-14\",\n",
       "  \"object\": \"text_completion\"\n",
       "}"
      ]
     },
     "execution_count": 34,
     "metadata": {},
     "output_type": "execute_result"
    }
   ],
   "source": [
    "openai.Completion.create(\n",
    "  model=model[\"fine_tuned_model\"],\n",
    "  prompt=\"\",\n",
    "  max_tokens=300,\n",
    "  stop=[\"\\n###\\n\", \"###\"],\n",
    ")"
   ]
  },
  {
   "cell_type": "code",
   "execution_count": null,
   "metadata": {},
   "outputs": [],
   "source": []
  },
  {
   "cell_type": "code",
   "execution_count": null,
   "metadata": {},
   "outputs": [],
   "source": []
  },
  {
   "cell_type": "code",
   "execution_count": null,
   "metadata": {},
   "outputs": [],
   "source": []
  }
 ],
 "metadata": {
  "interpreter": {
   "hash": "2ca8946d339ea3bbaa73adc6693d06c322e424e77befb9c6b521a96205a94f7d"
  },
  "kernelspec": {
   "display_name": "Python 3.9.6 64-bit ('.venv': venv)",
   "name": "python3"
  },
  "language_info": {
   "codemirror_mode": {
    "name": "ipython",
    "version": 3
   },
   "file_extension": ".py",
   "mimetype": "text/x-python",
   "name": "python",
   "nbconvert_exporter": "python",
   "pygments_lexer": "ipython3",
   "version": "3.8.10"
  },
  "orig_nbformat": 4
 },
 "nbformat": 4,
 "nbformat_minor": 2
}
