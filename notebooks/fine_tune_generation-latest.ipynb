{
 "cells": [
  {
   "cell_type": "code",
   "execution_count": 1,
   "metadata": {},
   "outputs": [],
   "source": [
    "from langame import LangameClient\n",
    "from pprint import pprint\n",
    "from firebase_admin import firestore\n",
    "import requests\n",
    "from bs4 import BeautifulSoup\n",
    "import json\n",
    "import openai\n",
    "from pathlib import Path\n",
    "import pandas as pd\n",
    "import datetime\n",
    "import markdown\n",
    "c = LangameClient(path_to_config_file=\"../config.yaml\")"
   ]
  },
  {
   "cell_type": "code",
   "execution_count": 2,
   "metadata": {},
   "outputs": [
    {
     "name": "stdout",
     "output_type": "stream",
     "text": [
      "augment\n",
      "ice_breaker_2021_11_28_dedup_2021_12_03.txt\n",
      "ice_breaker_2021_11_28.jsonl\n",
      "ice_breaker_2021_11_28.txt\n",
      "ice_breaker_2021_11_29.txt\n",
      "ice_breaker_2021_12_03.txt\n",
      "ice_breaker_26_11_2021.jsonl\n",
      "openai_fine_tune_ice_breaker_26_11_2021.jsonl\n",
      "openai_fine_tune_science_26_11_2021.jsonl\n",
      "science_2021_11_28_dedup_2021_12_03.txt\n",
      "science_2021_11_28.txt\n",
      "science_26_11_2021.jsonl\n"
     ]
    }
   ],
   "source": [
    "!ls ../data/"
   ]
  },
  {
   "cell_type": "code",
   "execution_count": 3,
   "metadata": {},
   "outputs": [],
   "source": [
    "out_file_name = \"../data/fine_tune_ice_breaker_2021_12_03.jsonl\"\n",
    "in_file_name = \"../data/ice_breaker_2021_12_03.txt\"\n",
    "\n",
    "with open(in_file_name) as f:\n",
    "  for e in f.readlines():\n",
    "    splitted = [j.strip() for j in e.split(\"###\")]\n",
    "    if len(splitted) != 2:\n",
    "      continue\n",
    "    topics, starter = splitted\n",
    "    if not topics or not starter:\n",
    "      continue\n",
    "    with open(out_file_name, \"a+\") as outfile:\n",
    "      json.dump({\n",
    "          \"prompt\": f\"\",\n",
    "          \"completion\": f\" {topics} ### {starter}\\n\",\n",
    "      }, outfile)\n",
    "      outfile.write('\\n')"
   ]
  },
  {
   "cell_type": "code",
   "execution_count": 4,
   "metadata": {},
   "outputs": [
    {
     "name": "stdout",
     "output_type": "stream",
     "text": [
      "{\"prompt\": \"\", \"completion\": \" ice breaker ### What do you wish everyone knew?\\n\"}\n",
      "{\"prompt\": \"\", \"completion\": \" ice breaker ### What's something you should thank your parents for?\\n\"}\n",
      "{\"prompt\": \"\", \"completion\": \" art,ice breaker ### If you could take on a new persona what would it be?\\n\"}\n",
      "{\"prompt\": \"\", \"completion\": \" ice breaker ### Where is the most interesting andWhy?\\n\"}\n",
      "{\"prompt\": \"\", \"completion\": \" ice breaker ### What is the biggest risk you have ever taken that turned out to be a good thing?\\n\"}\n",
      "{\"prompt\": \"\", \"completion\": \" philosophy,ice breaker ### What books on philosophy have had the largest influence on you?\\n\"}\n",
      "{\"prompt\": \"\", \"completion\": \" ice breaker ### What was one of your proudest moments?\\n\"}\n",
      "{\"prompt\": \"\", \"completion\": \" ice breaker ### If given a choice, would you prefer to recall a memory from early childhood or your last day on earth?\\n\"}\n",
      "{\"prompt\": \"\", \"completion\": \" ice breaker ### What is something people do that you do not understand?\\n\"}\n",
      "{\"prompt\": \"\", \"completion\": \" ice breaker ### What is the most disgusting habit that you can't kick?\\n\"}\n"
     ]
    }
   ],
   "source": [
    "!head -n 10 $out_file_name"
   ]
  },
  {
   "cell_type": "code",
   "execution_count": null,
   "metadata": {},
   "outputs": [],
   "source": [
    "!openai tools fine_tunes.prepare_data -f $out_file_name"
   ]
  },
  {
   "cell_type": "code",
   "execution_count": 6,
   "metadata": {},
   "outputs": [],
   "source": [
    "f = openai.File.create(\n",
    "  file=open(out_file_name),\n",
    "  purpose=\"fine-tune\"\n",
    ")\n",
    "f_t = openai.FineTune.create(\n",
    "    training_file=f[\"id\"],\n",
    "    model=\"curie\"\n",
    ")"
   ]
  },
  {
   "cell_type": "code",
   "execution_count": 7,
   "metadata": {},
   "outputs": [
    {
     "data": {
      "text/plain": [
       "<FineTune fine-tune id=ft-yKLdmtM2Zluct0H2uxIZnC56 at 0x7fa03209a770> JSON: {\n",
       "  \"created_at\": 1638707165,\n",
       "  \"fine_tuned_model\": null,\n",
       "  \"hyperparams\": {\n",
       "    \"batch_size\": null,\n",
       "    \"learning_rate_multiplier\": null,\n",
       "    \"n_epochs\": 4,\n",
       "    \"prompt_loss_weight\": 0.1,\n",
       "    \"use_packing\": null\n",
       "  },\n",
       "  \"id\": \"ft-yKLdmtM2Zluct0H2uxIZnC56\",\n",
       "  \"model\": \"curie\",\n",
       "  \"object\": \"fine-tune\",\n",
       "  \"organization_id\": \"org-KwcHNgfGe4pqdKDLQIJt99UZ\",\n",
       "  \"result_files\": [],\n",
       "  \"status\": \"pending\",\n",
       "  \"training_files\": [\n",
       "    {\n",
       "      \"bytes\": 9435397,\n",
       "      \"created_at\": 1638707165,\n",
       "      \"filename\": \"fine_tune_ice_breaker_2021_12_03.jsonl\",\n",
       "      \"id\": \"file-TTOJYXIxaDO2eVRJUHaCTNN8\",\n",
       "      \"object\": \"file\",\n",
       "      \"purpose\": \"fine-tune\",\n",
       "      \"status\": \"uploaded\",\n",
       "      \"status_details\": null\n",
       "    }\n",
       "  ],\n",
       "  \"updated_at\": 1638707166,\n",
       "  \"validation_files\": []\n",
       "}"
      ]
     },
     "execution_count": 7,
     "metadata": {},
     "output_type": "execute_result"
    }
   ],
   "source": [
    "model = openai.FineTune.list()['data'][-1]\n",
    "model"
   ]
  },
  {
   "cell_type": "code",
   "execution_count": 34,
   "metadata": {},
   "outputs": [
    {
     "data": {
      "text/plain": [
       "<OpenAIObject text_completion id=cmpl-3bb9PbAkCra9NSEJrOTKDhDxi4yCP at 0x13f15c770> JSON: {\n",
       "  \"choices\": [\n",
       "    {\n",
       "      \"finish_reason\": \"stop\",\n",
       "      \"index\": 0,\n",
       "      \"logprobs\": null,\n",
       "      \"text\": \"While most of humanity is focused on avoiding harm, a small but very vocal minority has decided that the best way to avoid harm is to actively seeks it out. Called \\u201cthe optimists\\u201d by the media, this group includes anarchists, Daredevil bloggers, thrill-seekers, and other \\u2013 sometimes bizarre \\u2013 personalities.\"\n",
       "    }\n",
       "  ],\n",
       "  \"created\": 1630089955,\n",
       "  \"id\": \"cmpl-3bb9PbAkCra9NSEJrOTKDhDxi4yCP\",\n",
       "  \"model\": \"curie:ft-louis-personal-2021-08-27-16-57-14\",\n",
       "  \"object\": \"text_completion\"\n",
       "}"
      ]
     },
     "execution_count": 34,
     "metadata": {},
     "output_type": "execute_result"
    }
   ],
   "source": [
    "openai.Completion.create(\n",
    "  model=model[\"fine_tuned_model\"],\n",
    "  prompt=\"\",\n",
    "  max_tokens=300,\n",
    "  stop=[\"\\n###\\n\", \"###\"],\n",
    ")"
   ]
  },
  {
   "cell_type": "code",
   "execution_count": null,
   "metadata": {},
   "outputs": [],
   "source": []
  }
 ],
 "metadata": {
  "interpreter": {
   "hash": "2ca8946d339ea3bbaa73adc6693d06c322e424e77befb9c6b521a96205a94f7d"
  },
  "kernelspec": {
   "display_name": "Python 3.9.6 64-bit ('.venv': venv)",
   "name": "python3"
  },
  "language_info": {
   "codemirror_mode": {
    "name": "ipython",
    "version": 3
   },
   "file_extension": ".py",
   "mimetype": "text/x-python",
   "name": "python",
   "nbconvert_exporter": "python",
   "pygments_lexer": "ipython3",
   "version": "3.8.10"
  },
  "orig_nbformat": 4
 },
 "nbformat": 4,
 "nbformat_minor": 2
}
