{
 "cells": [
  {
   "cell_type": "code",
   "execution_count": 1,
   "metadata": {},
   "outputs": [],
   "source": [
    "import json\n",
    "import openai\n",
    "import datetime\n",
    "from langame import LangameClient\n",
    "c = LangameClient(path_to_config_file=\"../config.yaml\")"
   ]
  },
  {
   "cell_type": "code",
   "execution_count": 2,
   "metadata": {},
   "outputs": [
    {
     "name": "stderr",
     "output_type": "stream",
     "text": [
      "Skipping id: 4XlXSjPhH6QSGZDzwIQe, garbage\n",
      "Skipping id: CYsOWtp1ed2XDeplB5O5, garbage\n",
      "Skipping id: DlXglThZUiPJcuyLLKHV, garbage\n",
      "Skipping id: NtXdp7ODn4sR3YR2eEW6, garbage\n"
     ]
    },
    {
     "name": "stdout",
     "output_type": "stream",
     "text": [
      "Using 16 omp threads (processes), consider increasing --nb_cores if you have more\n",
      "Launching the whole pipeline 02/14/2022, 01:00:49\n",
      "There are 793 embeddings of dim 768\n",
      "\tCompute estimated construction time of the index 02/14/2022, 01:00:49\n",
      "\t\t-> Train: 16.7 minutes\n",
      "\t\t-> Add: 0.0 seconds\n",
      "\t\tTotal: 16.7 minutes\n",
      "\t>>> Finished \"Compute estimated construction time of the index\" in 0.0000 secs\n",
      "\tChecking that your have enough memory available to create the index 02/14/2022, 01:00:49\n",
      "2.8MB of memory will be needed to build the index (more might be used if you have more)\n",
      "\t>>> Finished \"Checking that your have enough memory available to create the index\" in 0.0007 secs\n",
      "\tSelecting most promising index types given data characteristics 02/14/2022, 01:00:49\n",
      "\t>>> Finished \"Selecting most promising index types given data characteristics\" in 0.0000 secs\n",
      "\tCreating the index 02/14/2022, 01:00:49\n",
      "\t\t-> Instanciate the index Flat 02/14/2022, 01:00:49\n",
      "\t\t>>> Finished \"-> Instanciate the index Flat\" in 0.0006 secs\n",
      "The index size will be approximately 2.3MB\n",
      "The memory available for adding the vectors is 7.0GB(total available - used by the index)\n",
      "Will be using at most 1GB of ram for adding\n",
      "\t\t-> Adding the vectors to the index 02/14/2022, 01:00:49\n",
      "Using a batch size of 325520 (memory overhead 953.7MB)\n"
     ]
    },
    {
     "name": "stderr",
     "output_type": "stream",
     "text": [
      "100%|██████████| 1/1 [00:00<00:00, 449.69it/s]"
     ]
    },
    {
     "name": "stdout",
     "output_type": "stream",
     "text": [
      "\t\t>>> Finished \"-> Adding the vectors to the index\" in 0.0040 secs\n",
      "\t>>> Finished \"Creating the index\" in 0.0054 secs\n",
      "\tComputing best hyperparameters 02/14/2022, 01:00:49\n",
      "\t>>> Finished \"Computing best hyperparameters\" in 0.0000 secs\n",
      "The best hyperparameters are: \n",
      "\tCompute fast metrics 02/14/2022, 01:00:49\n"
     ]
    },
    {
     "name": "stderr",
     "output_type": "stream",
     "text": [
      "\n"
     ]
    },
    {
     "name": "stdout",
     "output_type": "stream",
     "text": [
      "2379\n",
      "\t>>> Finished \"Compute fast metrics\" in 1.2243 secs\n",
      "\tSaving the index on local disk 02/14/2022, 01:00:50\n",
      "\t>>> Finished \"Saving the index on local disk\" in 0.0023 secs\n",
      "Recap:\n",
      "{'99p_search_speed_ms': 0.6217594631016252,\n",
      " 'avg_search_speed_ms': 0.511996881208747,\n",
      " 'compression ratio': 0.9999815281627787,\n",
      " 'index_key': 'Flat',\n",
      " 'index_param': '',\n",
      " 'nb vectors': 793,\n",
      " 'reconstruction error %': 0.0,\n",
      " 'size in bytes': 2436141,\n",
      " 'vectors dimension': 768}\n",
      ">>> Finished \"Launching the whole pipeline\" in 1.2412 secs\n"
     ]
    }
   ],
   "source": [
    "from langame.conversation_starters import get_existing_conversation_starters\n",
    "import logging\n",
    "logger = logging.getLogger(\"generation\")\n",
    "memes, index, embeddings_model = get_existing_conversation_starters(\n",
    "    c._firestore_client, logger=logger, confirmed=True)"
   ]
  },
  {
   "cell_type": "code",
   "execution_count": 3,
   "metadata": {},
   "outputs": [],
   "source": [
    "out_file_name = f\"../data/fine_tune_generation_{datetime.date.today().strftime('%d_%m_%Y')}.jsonl\"\n",
    "\n",
    "for e in memes:\n",
    "    with open(out_file_name, \"a+\") as outfile:\n",
    "        json.dump({\n",
    "            \"prompt\": f\"{','.join(e['topics'])} ###\",\n",
    "            \"completion\": f\" {e['content']}\\n\",\n",
    "        }, outfile)\n",
    "        outfile.write('\\n')"
   ]
  },
  {
   "cell_type": "code",
   "execution_count": 4,
   "metadata": {},
   "outputs": [
    {
     "name": "stdout",
     "output_type": "stream",
     "text": [
      "huggingface/tokenizers: The current process just got forked, after parallelism has already been used. Disabling parallelism to avoid deadlocks...\n",
      "To disable this warning, you can either:\n",
      "\t- Avoid using `tokenizers` before the fork if possible\n",
      "\t- Explicitly set the environment variable TOKENIZERS_PARALLELISM=(true | false)\n",
      "\u001b[1;39m{\n",
      "  \u001b[0m\u001b[34;1m\"prompt\"\u001b[0m\u001b[1;39m: \u001b[0m\u001b[0;32m\"ice breaker ###\"\u001b[0m\u001b[1;39m,\n",
      "  \u001b[0m\u001b[34;1m\"completion\"\u001b[0m\u001b[1;39m: \u001b[0m\u001b[0;32m\" When is a time when you know for sure you'll soon have to exchange a nice, meaningful conversation with someone new?\\n\"\u001b[0m\u001b[1;39m\n",
      "\u001b[1;39m}\u001b[0m\n",
      "\u001b[1;39m{\n",
      "  \u001b[0m\u001b[34;1m\"prompt\"\u001b[0m\u001b[1;39m: \u001b[0m\u001b[0;32m\"ecology ###\"\u001b[0m\u001b[1;39m,\n",
      "  \u001b[0m\u001b[34;1m\"completion\"\u001b[0m\u001b[1;39m: \u001b[0m\u001b[0;32m\" Have natural disasters gotten worse with the increase in human existence? If so, why?\\n\"\u001b[0m\u001b[1;39m\n",
      "\u001b[1;39m}\u001b[0m\n",
      "\u001b[1;39m{\n",
      "  \u001b[0m\u001b[34;1m\"prompt\"\u001b[0m\u001b[1;39m: \u001b[0m\u001b[0;32m\"ice breaker ###\"\u001b[0m\u001b[1;39m,\n",
      "  \u001b[0m\u001b[34;1m\"completion\"\u001b[0m\u001b[1;39m: \u001b[0m\u001b[0;32m\" What would prompt you to make a dramatic change in your life. Is it worth it?\\n\"\u001b[0m\u001b[1;39m\n",
      "\u001b[1;39m}\u001b[0m\n"
     ]
    }
   ],
   "source": [
    "!head -n3 $out_file_name | jq ."
   ]
  },
  {
   "cell_type": "code",
   "execution_count": 11,
   "metadata": {},
   "outputs": [
    {
     "name": "stdout",
     "output_type": "stream",
     "text": [
      "huggingface/tokenizers: The current process just got forked, after parallelism has already been used. Disabling parallelism to avoid deadlocks...\n",
      "To disable this warning, you can either:\n",
      "\t- Avoid using `tokenizers` before the fork if possible\n",
      "\t- Explicitly set the environment variable TOKENIZERS_PARALLELISM=(true | false)\n",
      "Analyzing...\n",
      "\n",
      "- Your file contains 682 prompt-completion pairs\n",
      "- There are 2 duplicated prompt-completion sets. These are rows: [408, 618]\n",
      "- All prompts end with suffix ` ###`\n",
      "- All completions end with suffix `\\n`\n",
      "\n",
      "Based on the analysis we will perform the following actions:\n",
      "- [Recommended] Remove 2 duplicate rows [Y/n]: ^C\n",
      "\n"
     ]
    }
   ],
   "source": [
    "!openai tools fine_tunes.prepare_data -f $out_file_name"
   ]
  },
  {
   "cell_type": "code",
   "execution_count": 5,
   "metadata": {},
   "outputs": [
    {
     "data": {
      "text/plain": [
       "<FineTune fine-tune id=ft-h7BkxNXld3q10U3Rw4TN27po at 0x7fb8d7c59130> JSON: {\n",
       "  \"created_at\": 1644449774,\n",
       "  \"events\": [\n",
       "    {\n",
       "      \"created_at\": 1644449775,\n",
       "      \"level\": \"info\",\n",
       "      \"message\": \"Created fine-tune: ft-h7BkxNXld3q10U3Rw4TN27po\",\n",
       "      \"object\": \"fine-tune-event\"\n",
       "    }\n",
       "  ],\n",
       "  \"fine_tuned_model\": null,\n",
       "  \"hyperparams\": {\n",
       "    \"batch_size\": null,\n",
       "    \"learning_rate_multiplier\": null,\n",
       "    \"n_epochs\": 4,\n",
       "    \"prompt_loss_weight\": 0.1\n",
       "  },\n",
       "  \"id\": \"ft-h7BkxNXld3q10U3Rw4TN27po\",\n",
       "  \"model\": \"ada\",\n",
       "  \"object\": \"fine-tune\",\n",
       "  \"organization_id\": \"org-KwcHNgfGe4pqdKDLQIJt99UZ\",\n",
       "  \"result_files\": [],\n",
       "  \"status\": \"pending\",\n",
       "  \"training_files\": [\n",
       "    {\n",
       "      \"bytes\": 76837,\n",
       "      \"created_at\": 1644449772,\n",
       "      \"filename\": \"fine_tune_generation_10_02_2022_train.jsonl\",\n",
       "      \"id\": \"file-yHUXl4Isc3vKYpBmBg8FkMKi\",\n",
       "      \"object\": \"file\",\n",
       "      \"purpose\": \"fine-tune\",\n",
       "      \"status\": \"uploaded\",\n",
       "      \"status_details\": null\n",
       "    }\n",
       "  ],\n",
       "  \"updated_at\": 1644449774,\n",
       "  \"validation_files\": [\n",
       "    {\n",
       "      \"bytes\": 15557,\n",
       "      \"created_at\": 1644449774,\n",
       "      \"filename\": \"fine_tune_generation_10_02_2022_valid.jsonl\",\n",
       "      \"id\": \"file-pkKkp76a67fmAI5ejAMJUoPe\",\n",
       "      \"object\": \"file\",\n",
       "      \"purpose\": \"fine-tune\",\n",
       "      \"status\": \"uploaded\",\n",
       "      \"status_details\": null\n",
       "    }\n",
       "  ]\n",
       "}"
      ]
     },
     "execution_count": 5,
     "metadata": {},
     "output_type": "execute_result"
    }
   ],
   "source": [
    "# split to train and validation files\n",
    "with open(out_file_name, \"r\") as infile:\n",
    "    lines = infile.readlines()\n",
    "    lines = lines[:int(len(lines) * 0.8)]\n",
    "    with open(out_file_name.replace(\".jsonl\", \"_train.jsonl\"), \"w\") as outfile:\n",
    "        outfile.writelines(lines)\n",
    "    lines = lines[int(len(lines) * 0.8):]\n",
    "    with open(out_file_name.replace(\".jsonl\", \"_valid.jsonl\"), \"w\") as outfile:\n",
    "        outfile.writelines(lines)\n",
    "        \n",
    "train = openai.File.create(\n",
    "  file=open(out_file_name.replace(\".jsonl\", \"_train.jsonl\")),\n",
    "  purpose=\"fine-tune\"\n",
    ")\n",
    "validation = openai.File.create(\n",
    "  file=open(out_file_name.replace(\".jsonl\", \"_valid.jsonl\")),\n",
    "  purpose=\"fine-tune\"\n",
    ")\n",
    "\n",
    "ft = openai.FineTune.create(\n",
    "    training_file=train[\"id\"],\n",
    "    validation_file=validation[\"id\"],\n",
    "    model=\"ada\",\n",
    ")"
   ]
  },
  {
   "cell_type": "code",
   "execution_count": null,
   "metadata": {},
   "outputs": [],
   "source": [
    "results = openai.FineTune.retrieve(\n",
    "    ft[\"id\"],\n",
    ")\n",
    "results"
   ]
  }
 ],
 "metadata": {
  "interpreter": {
   "hash": "2ca8946d339ea3bbaa73adc6693d06c322e424e77befb9c6b521a96205a94f7d"
  },
  "kernelspec": {
   "display_name": "Python 3.9.6 64-bit ('.venv': venv)",
   "name": "python3"
  },
  "language_info": {
   "codemirror_mode": {
    "name": "ipython",
    "version": 3
   },
   "file_extension": ".py",
   "mimetype": "text/x-python",
   "name": "python",
   "nbconvert_exporter": "python",
   "pygments_lexer": "ipython3",
   "version": "3.8.10"
  },
  "orig_nbformat": 4
 },
 "nbformat": 4,
 "nbformat_minor": 2
}
