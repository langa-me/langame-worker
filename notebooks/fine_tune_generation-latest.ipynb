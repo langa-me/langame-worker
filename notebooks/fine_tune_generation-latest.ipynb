{
 "cells": [
  {
   "cell_type": "code",
   "execution_count": 1,
   "metadata": {},
   "outputs": [],
   "source": [
    "import json\n",
    "import openai\n",
    "import datetime\n",
    "from langame import LangameClient\n",
    "c = LangameClient(path_to_config_file=\"../config.yaml\")"
   ]
  },
  {
   "cell_type": "code",
   "execution_count": 3,
   "metadata": {},
   "outputs": [
    {
     "name": "stderr",
     "output_type": "stream",
     "text": [
      "Skipping id: 4XlXSjPhH6QSGZDzwIQe, garbage\n",
      "Skipping id: CYsOWtp1ed2XDeplB5O5, garbage\n",
      "Skipping id: DlXglThZUiPJcuyLLKHV, garbage\n",
      "Skipping id: NtXdp7ODn4sR3YR2eEW6, garbage\n",
      "Skipping id: U0DUXOSpfqYsgurOyL3L, garbage\n",
      "Skipping id: Uikgs6eO85MRivL0peL6, garbage\n",
      "Skipping id: XIPyRwJloK6ZdAdTHOeu, garbage\n",
      "Skipping id: d9FxG5haHnN2ku7spAng, garbage\n",
      "Skipping id: eyzSmD1AdfKkwOYtfoof, garbage\n",
      "Skipping id: f1ojlkGYgnOI4MLRGC4T, garbage\n",
      "Skipping id: fySI8xbjfC5hx7QdHpva, garbage\n",
      "Skipping id: gLDxkmHFL3OFufeje6E8, garbage\n",
      "Skipping id: jkkOtT3PVoKQMmpA947Y, garbage\n",
      "Skipping id: l1HjGNlNwpFzTnCsJxJA, garbage\n",
      "Skipping id: o7jTZJyRoBxaDxIQwyQg, garbage\n",
      "Skipping id: osfrRcogOlIrEtxp5fpI, garbage\n",
      "Skipping id: pXXGv1o80FIldPiytsN7, garbage\n",
      "Skipping id: pf1tiPMceCwvXLUfKQwY, garbage\n",
      "Skipping id: q2CEZCITA0RVSsfTQRP0, garbage\n",
      "Skipping id: qAwPXAX5efpoQt0TLoUu, garbage\n",
      "Skipping id: qXEJ0wGr86cw8CXIgL4z, garbage\n",
      "Skipping id: r5vxgYs9FnZYOxrh2tcj, garbage\n",
      "Skipping id: rdguN3u8mWRuiRXfUKM8, garbage\n",
      "Downloading: 100%|██████████| 391/391 [00:00<00:00, 167kB/s]\n",
      "Downloading: 100%|██████████| 190/190 [00:00<00:00, 66.6kB/s]\n",
      "Downloading: 100%|██████████| 114/114 [00:00<00:00, 36.0kB/s]\n",
      "Downloading: 100%|██████████| 2.36M/2.36M [00:00<00:00, 4.38MB/s]\n",
      "Downloading: 100%|██████████| 1.62k/1.62k [00:00<00:00, 1.11MB/s]\n",
      "Downloading: 100%|██████████| 804/804 [00:00<00:00, 269kB/s]\n",
      "Downloading: 100%|██████████| 122/122 [00:00<00:00, 41.2kB/s]\n",
      "Downloading: 100%|██████████| 461/461 [00:00<00:00, 162kB/s]\n",
      "Downloading: 100%|██████████| 1.88G/1.88G [06:29<00:00, 4.84MB/s]\n",
      "Downloading: 100%|██████████| 53.0/53.0 [00:00<00:00, 16.0kB/s]\n",
      "Downloading: 100%|██████████| 112/112 [00:00<00:00, 79.9kB/s]\n",
      "Downloading: 100%|██████████| 9.62M/9.62M [00:20<00:00, 463kB/s] \n",
      "Downloading: 100%|██████████| 411/411 [00:00<00:00, 115kB/s]\n",
      "Downloading: 100%|██████████| 5.22M/5.22M [00:09<00:00, 530kB/s] \n"
     ]
    },
    {
     "name": "stdout",
     "output_type": "stream",
     "text": [
      "Using 8 omp threads (processes), consider increasing --nb_cores if you have more\n",
      "Launching the whole pipeline 04/08/2022, 15:42:08\n",
      "There are 1912 embeddings of dim 768\n",
      "\tCompute estimated construction time of the index 04/08/2022, 15:42:08\n",
      "\t\t-> Train: 16.7 minutes\n",
      "\t\t-> Add: 0.0 seconds\n",
      "\t\tTotal: 16.7 minutes\n",
      "\t>>> Finished \"Compute estimated construction time of the index\" in 0.0000 secs\n",
      "\tChecking that your have enough memory available to create the index 04/08/2022, 15:42:08\n",
      "7.0MB of memory will be needed to build the index (more might be used if you have more)\n",
      "\t>>> Finished \"Checking that your have enough memory available to create the index\" in 0.0010 secs\n",
      "\tSelecting most promising index types given data characteristics 04/08/2022, 15:42:08\n",
      "\t>>> Finished \"Selecting most promising index types given data characteristics\" in 0.0000 secs\n",
      "\tCreating the index 04/08/2022, 15:42:08\n",
      "\t\t-> Instanciate the index HNSW15 04/08/2022, 15:42:08\n",
      "\t\t>>> Finished \"-> Instanciate the index HNSW15\" in 0.0009 secs\n",
      "The index size will be approximately 5.8MB\n",
      "The memory available for adding the vectors is 7.0GB(total available - used by the index)\n",
      "Will be using at most 1GB of ram for adding\n",
      "\t\t-> Adding the vectors to the index 04/08/2022, 15:42:08\n",
      "Using a batch size of 325520 (memory overhead 953.7MB)\n"
     ]
    },
    {
     "name": "stderr",
     "output_type": "stream",
     "text": [
      "100%|██████████| 1/1 [00:00<00:00, 533.36it/s]"
     ]
    },
    {
     "name": "stdout",
     "output_type": "stream",
     "text": [
      "\t\t>>> Finished \"-> Adding the vectors to the index\" in 0.0499 secs\n",
      "\t>>> Finished \"Creating the index\" in 0.0517 secs\n",
      "\tComputing best hyperparameters 04/08/2022, 15:42:08\n"
     ]
    },
    {
     "name": "stderr",
     "output_type": "stream",
     "text": [
      "\n"
     ]
    },
    {
     "name": "stdout",
     "output_type": "stream",
     "text": [
      "\t>>> Finished \"Computing best hyperparameters\" in 2.8886 secs\n",
      "The best hyperparameters are: efSearch=16383\n",
      "\tCompute fast metrics 04/08/2022, 15:42:10\n",
      "2000\n",
      "\t>>> Finished \"Compute fast metrics\" in 6.0091 secs\n",
      "\tSaving the index on local disk 04/08/2022, 15:42:16\n",
      "\t>>> Finished \"Saving the index on local disk\" in 0.0152 secs\n",
      "Recap:\n",
      "{'99p_search_speed_ms': 3.3443687499413954,\n",
      " 'avg_search_speed_ms': 2.9884697700007905,\n",
      " 'compression ratio': 0.9575900608399559,\n",
      " 'index_key': 'HNSW15',\n",
      " 'index_param': 'efSearch=16383',\n",
      " 'nb vectors': 1912,\n",
      " 'reconstruction error %': 0.0,\n",
      " 'size in bytes': 6133798,\n",
      " 'vectors dimension': 768}\n",
      ">>> Finished \"Launching the whole pipeline\" in 8.9806 secs\n"
     ]
    }
   ],
   "source": [
    "from langame.conversation_starters import get_existing_conversation_starters\n",
    "import logging\n",
    "logger = logging.getLogger(\"generation\")\n",
    "memes, index, embeddings_model = get_existing_conversation_starters(\n",
    "    c._firestore_client, logger=logger, confirmed=True)"
   ]
  },
  {
   "cell_type": "code",
   "execution_count": 4,
   "metadata": {},
   "outputs": [],
   "source": [
    "out_file_name = f\"../data/fine_tune_generation_{datetime.date.today().strftime('%d_%m_%Y')}.jsonl\"\n",
    "\n",
    "for e in memes:\n",
    "    with open(out_file_name, \"a+\") as outfile:\n",
    "        json.dump({\n",
    "            \"prompt\": f\"{','.join(e['topics'])} ###\",\n",
    "            \"completion\": f\" {e['content']}\\n\",\n",
    "        }, outfile)\n",
    "        outfile.write('\\n')"
   ]
  },
  {
   "cell_type": "code",
   "execution_count": 5,
   "metadata": {},
   "outputs": [
    {
     "name": "stdout",
     "output_type": "stream",
     "text": [
      "huggingface/tokenizers: The current process just got forked, after parallelism has already been used. Disabling parallelism to avoid deadlocks...\n",
      "To disable this warning, you can either:\n",
      "\t- Avoid using `tokenizers` before the fork if possible\n",
      "\t- Explicitly set the environment variable TOKENIZERS_PARALLELISM=(true | false)\n",
      "\u001b[1;39m{\n",
      "  \u001b[0m\u001b[34;1m\"prompt\"\u001b[0m\u001b[1;39m: \u001b[0m\u001b[0;32m\"ice breaker ###\"\u001b[0m\u001b[1;39m,\n",
      "  \u001b[0m\u001b[34;1m\"completion\"\u001b[0m\u001b[1;39m: \u001b[0m\u001b[0;32m\" When is a time when you know for sure you'll soon have to exchange a nice, meaningful conversation with someone new?\\n\"\u001b[0m\u001b[1;39m\n",
      "\u001b[1;39m}\u001b[0m\n",
      "\u001b[1;39m{\n",
      "  \u001b[0m\u001b[34;1m\"prompt\"\u001b[0m\u001b[1;39m: \u001b[0m\u001b[0;32m\"space exploration,space travel ###\"\u001b[0m\u001b[1;39m,\n",
      "  \u001b[0m\u001b[34;1m\"completion\"\u001b[0m\u001b[1;39m: \u001b[0m\u001b[0;32m\" Do you think humans are the only intelligent life in the universe?\\n\"\u001b[0m\u001b[1;39m\n",
      "\u001b[1;39m}\u001b[0m\n",
      "\u001b[1;39m{\n",
      "  \u001b[0m\u001b[34;1m\"prompt\"\u001b[0m\u001b[1;39m: \u001b[0m\u001b[0;32m\"ecology ###\"\u001b[0m\u001b[1;39m,\n",
      "  \u001b[0m\u001b[34;1m\"completion\"\u001b[0m\u001b[1;39m: \u001b[0m\u001b[0;32m\" Have natural disasters gotten worse with the increase in human existence? If so, why?\\n\"\u001b[0m\u001b[1;39m\n",
      "\u001b[1;39m}\u001b[0m\n"
     ]
    }
   ],
   "source": [
    "!head -n3 $out_file_name | jq ."
   ]
  },
  {
   "cell_type": "code",
   "execution_count": 5,
   "metadata": {},
   "outputs": [
    {
     "name": "stdout",
     "output_type": "stream",
     "text": [
      "huggingface/tokenizers: The current process just got forked, after parallelism has already been used. Disabling parallelism to avoid deadlocks...\n",
      "To disable this warning, you can either:\n",
      "\t- Avoid using `tokenizers` before the fork if possible\n",
      "\t- Explicitly set the environment variable TOKENIZERS_PARALLELISM=(true | false)\n",
      "Analyzing...\n",
      "\n",
      "- Your file contains 1363 prompt-completion pairs\n",
      "- There are 26 duplicated prompt-completion sets. These are rows: [243, 410, 412, 434, 436, 474, 497, 567, 601, 604, 619, 646, 735, 818, 820, 842, 851, 956, 966, 1024, 1036, 1083, 1149, 1262, 1304, 1316]\n",
      "- All prompts end with suffix ` ###`\n",
      "- All completions end with suffix `\\n`\n",
      "\n",
      "Based on the analysis we will perform the following actions:\n",
      "- [Recommended] Remove 26 duplicate rows [Y/n]: ^C\n",
      "\n"
     ]
    }
   ],
   "source": [
    "!openai tools fine_tunes.prepare_data -f $out_file_name"
   ]
  },
  {
   "cell_type": "code",
   "execution_count": 4,
   "metadata": {},
   "outputs": [],
   "source": [
    "# split to train and validation files\n",
    "with open(out_file_name, \"r\") as infile:\n",
    "    lines = infile.readlines()\n",
    "    lines = lines[:int(len(lines) * 0.8)]\n",
    "    with open(out_file_name.replace(\".jsonl\", \"_train.jsonl\"), \"w\") as outfile:\n",
    "        outfile.writelines(lines)\n",
    "    lines = lines[int(len(lines) * 0.8):]\n",
    "    with open(out_file_name.replace(\".jsonl\", \"_valid.jsonl\"), \"w\") as outfile:\n",
    "        outfile.writelines(lines)\n",
    "        \n",
    "train = openai.File.create(\n",
    "  file=open(out_file_name.replace(\".jsonl\", \"_train.jsonl\")),\n",
    "  purpose=\"fine-tune\"\n",
    ")\n",
    "validation = openai.File.create(\n",
    "  file=open(out_file_name.replace(\".jsonl\", \"_valid.jsonl\")),\n",
    "  purpose=\"fine-tune\"\n",
    ")\n",
    "\n",
    "ft = openai.FineTune.create(\n",
    "    training_file=train[\"id\"],\n",
    "    validation_file=validation[\"id\"],\n",
    "    model=\"curie\",\n",
    ")"
   ]
  },
  {
   "cell_type": "code",
   "execution_count": 5,
   "metadata": {},
   "outputs": [
    {
     "data": {
      "text/plain": [
       "<FineTune fine-tune id=ft-zZ2pHxog8LQ3MqL6W0THUnkn at 0x105903a40> JSON: {\n",
       "  \"created_at\": 1649407681,\n",
       "  \"events\": [\n",
       "    {\n",
       "      \"created_at\": 1649407681,\n",
       "      \"level\": \"info\",\n",
       "      \"message\": \"Created fine-tune: ft-zZ2pHxog8LQ3MqL6W0THUnkn\",\n",
       "      \"object\": \"fine-tune-event\"\n",
       "    }\n",
       "  ],\n",
       "  \"fine_tuned_model\": null,\n",
       "  \"hyperparams\": {\n",
       "    \"batch_size\": null,\n",
       "    \"learning_rate_multiplier\": null,\n",
       "    \"n_epochs\": 4,\n",
       "    \"prompt_loss_weight\": 0.1\n",
       "  },\n",
       "  \"id\": \"ft-zZ2pHxog8LQ3MqL6W0THUnkn\",\n",
       "  \"model\": \"curie\",\n",
       "  \"object\": \"fine-tune\",\n",
       "  \"organization_id\": \"org-KwcHNgfGe4pqdKDLQIJt99UZ\",\n",
       "  \"result_files\": [],\n",
       "  \"status\": \"pending\",\n",
       "  \"training_files\": [\n",
       "    {\n",
       "      \"bytes\": 204646,\n",
       "      \"created_at\": 1649407678,\n",
       "      \"filename\": \"fine_tune_generation_08_04_2022_train.jsonl\",\n",
       "      \"id\": \"file-R1YxqZwTJObItTy5rKmBPHx1\",\n",
       "      \"object\": \"file\",\n",
       "      \"purpose\": \"fine-tune\",\n",
       "      \"status\": \"uploaded\",\n",
       "      \"status_details\": null\n",
       "    }\n",
       "  ],\n",
       "  \"updated_at\": 1649407681,\n",
       "  \"validation_files\": [\n",
       "    {\n",
       "      \"bytes\": 42084,\n",
       "      \"created_at\": 1649407680,\n",
       "      \"filename\": \"fine_tune_generation_08_04_2022_valid.jsonl\",\n",
       "      \"id\": \"file-5OHKxeiuQEopgWYRVh5qi7O5\",\n",
       "      \"object\": \"file\",\n",
       "      \"purpose\": \"fine-tune\",\n",
       "      \"status\": \"uploaded\",\n",
       "      \"status_details\": null\n",
       "    }\n",
       "  ]\n",
       "}"
      ]
     },
     "execution_count": 5,
     "metadata": {},
     "output_type": "execute_result"
    }
   ],
   "source": [
    "results = openai.FineTune.retrieve(\n",
    "    ft[\"id\"],\n",
    ")\n",
    "results"
   ]
  }
 ],
 "metadata": {
  "interpreter": {
   "hash": "2ca8946d339ea3bbaa73adc6693d06c322e424e77befb9c6b521a96205a94f7d"
  },
  "kernelspec": {
   "display_name": "Python 3.9.6 64-bit ('.venv': venv)",
   "name": "python3"
  },
  "language_info": {
   "codemirror_mode": {
    "name": "ipython",
    "version": 3
   },
   "file_extension": ".py",
   "mimetype": "text/x-python",
   "name": "python",
   "nbconvert_exporter": "python",
   "pygments_lexer": "ipython3",
   "version": "3.8.12"
  },
  "orig_nbformat": 4
 },
 "nbformat": 4,
 "nbformat_minor": 2
}
