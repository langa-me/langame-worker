{
 "cells": [
  {
   "cell_type": "code",
   "execution_count": 3,
   "metadata": {},
   "outputs": [],
   "source": [
    "import os\n",
    "from langame.langame_client import LangameClient\n",
    "import random\n",
    "import openai\n",
    "from firebase_admin import firestore\n",
    "\n",
    "import glob\n",
    "\n",
    "c = LangameClient()"
   ]
  },
  {
   "cell_type": "code",
   "execution_count": 4,
   "metadata": {},
   "outputs": [],
   "source": [
    "memes = []\n",
    "for e in c._firestore_client.collection('memes').stream():\n",
    "    memes.append((e.id, e.to_dict()))"
   ]
  },
  {
   "cell_type": "code",
   "execution_count": 5,
   "metadata": {},
   "outputs": [
    {
     "data": {
      "text/plain": [
       "707"
      ]
     },
     "execution_count": 5,
     "metadata": {},
     "output_type": "execute_result"
    }
   ],
   "source": [
    "len(memes)"
   ]
  },
  {
   "cell_type": "code",
   "execution_count": 6,
   "metadata": {},
   "outputs": [],
   "source": [
    "def intersection(lst1, lst2):\n",
    "    lst3 = [value for value in lst1 if value in lst2]\n",
    "    return lst3\n",
    "def get_prompt(topics):\n",
    "    rnd = random.choices(memes, k=500)\n",
    "    return [(e[1]['content'], e[1]['topics']) for e in rnd if len(intersection(e[1]['topics'], topics)) > 0]"
   ]
  },
  {
   "cell_type": "code",
   "execution_count": 7,
   "metadata": {},
   "outputs": [
    {
     "data": {
      "text/plain": [
       "{'anthropology,philosophy',\n",
       " 'art',\n",
       " 'art,book,film',\n",
       " 'art,ice breaker',\n",
       " 'art,religion',\n",
       " 'artificial intelligence',\n",
       " 'artificial intelligence,art,philosophy',\n",
       " 'artificial intelligence,biology',\n",
       " 'artificial intelligence,knowledge',\n",
       " 'artificial intelligence,philosophy',\n",
       " 'artificial intelligence,philosophy,knowledge',\n",
       " 'artificial intelligence,robotic',\n",
       " 'artificial intelligence,transhumanism',\n",
       " 'artificial intelligence,transhumanism,robotic',\n",
       " 'biology',\n",
       " 'biology,artificial intelligence',\n",
       " 'biology,business,startup',\n",
       " 'biology,mind',\n",
       " 'biology,philosophy',\n",
       " 'biology,politic,transhumanism,philosophy,artificial intelligence',\n",
       " 'biology,religion',\n",
       " 'biotechnology',\n",
       " 'book',\n",
       " 'book,ice breaker',\n",
       " 'book,ice breaker,mind',\n",
       " 'business',\n",
       " 'business,religion',\n",
       " 'business,startup',\n",
       " 'ecology',\n",
       " 'ecology,artificial intelligence,philosophy',\n",
       " 'ecology,biology',\n",
       " 'ecology,business',\n",
       " 'ecology,health',\n",
       " 'ecology,philosophy',\n",
       " 'ecology,science-fiction',\n",
       " 'ecology,technology',\n",
       " 'economic,philosophy',\n",
       " 'economics',\n",
       " 'economy,artificial intelligence',\n",
       " 'education',\n",
       " 'fashion',\n",
       " 'feminism,society,knowledge',\n",
       " 'health',\n",
       " 'health,biology',\n",
       " 'health,ice breaker',\n",
       " 'health,startup,business',\n",
       " 'ice breaker',\n",
       " 'ice breaker,artificial intelligence',\n",
       " 'ice breaker,health',\n",
       " 'ice breaker,knowledge',\n",
       " 'ice breaker,philosophy',\n",
       " 'ice breaker,religion',\n",
       " 'knowledge',\n",
       " 'knowledge,book',\n",
       " 'knowledge,ecology,philosophy,politic',\n",
       " 'knowledge,ice breaker',\n",
       " 'knowledge,ice breaker,business',\n",
       " 'knowledge,ice breaker,philosophy',\n",
       " 'knowledge,philosophy',\n",
       " 'knowledge,philosophy,ice breaker',\n",
       " 'knowledge,philosophy,psychology',\n",
       " 'knowledge,religion',\n",
       " 'knowledge,science',\n",
       " 'knowledge,wellness',\n",
       " 'language',\n",
       " 'mathematic',\n",
       " 'mathematic,artificial intelligence',\n",
       " 'mathematic,business',\n",
       " 'mathematic,ice breaker',\n",
       " 'mathematic,knowledge',\n",
       " 'mathematic,knowledge,philosophy',\n",
       " 'mathematic,knowledge,transhumanism,artificial intelligence',\n",
       " 'mathematic,philosophy',\n",
       " 'mathematic,philosophy,physic',\n",
       " 'mathematic,physic,science',\n",
       " 'mathematic,science',\n",
       " 'media',\n",
       " 'medicine',\n",
       " 'mind',\n",
       " 'mind,artificial intelligence',\n",
       " 'mind,biology',\n",
       " 'mind,ice breaker',\n",
       " 'mind,knowledge',\n",
       " 'mind,knowledge,physic,science',\n",
       " 'mind,philosophy',\n",
       " 'mind,philosophy,knowledge',\n",
       " 'mind,physic',\n",
       " 'mind,politic',\n",
       " 'mind,psychology',\n",
       " 'mind,religion,philosophy',\n",
       " 'mind,transhumanism',\n",
       " 'philosophy',\n",
       " 'philosophy,art',\n",
       " 'philosophy,artificial intelligence',\n",
       " 'philosophy,artificial intelligence,knowledge',\n",
       " 'philosophy,biology',\n",
       " 'philosophy,book',\n",
       " 'philosophy,ecology',\n",
       " 'philosophy,epistemology',\n",
       " 'philosophy,espistemology',\n",
       " 'philosophy,ice breaker',\n",
       " 'philosophy,knowledge',\n",
       " 'philosophy,knowledge,epistemology',\n",
       " 'philosophy,knowledge,politic',\n",
       " 'philosophy,language',\n",
       " 'philosophy,mind',\n",
       " 'philosophy,physic',\n",
       " 'philosophy,politic',\n",
       " 'philosophy,politic,knowledge',\n",
       " 'philosophy,science',\n",
       " 'philosophy,science,politic',\n",
       " 'philosophy,transhumanism',\n",
       " 'philosophy,wellness',\n",
       " 'physic',\n",
       " 'physic,mathematic',\n",
       " 'physic,mind',\n",
       " 'physic,philosophy',\n",
       " 'physic,science',\n",
       " 'physic,space exploration',\n",
       " 'physics,science',\n",
       " 'physics,science-fiction',\n",
       " 'politic',\n",
       " 'politic,artificial intelligence',\n",
       " 'politic,artificial intelligence,transhumanism',\n",
       " 'politic,book',\n",
       " 'politic,ecology,philosophy',\n",
       " 'politic,economic',\n",
       " 'politic,ice breaker',\n",
       " 'politic,philosophy',\n",
       " 'psychology',\n",
       " 'religion',\n",
       " 'religion,artificial intelligence',\n",
       " 'religion,philosophy',\n",
       " 'religion,philosophy,artificial intelligence',\n",
       " 'religion,politic',\n",
       " 'robotics,economy',\n",
       " 'science',\n",
       " 'science,biology',\n",
       " 'science,biology,philosophy',\n",
       " 'science,book',\n",
       " 'science,knowledge',\n",
       " 'science,knowledge,philosophy',\n",
       " 'science,mind',\n",
       " 'science,philosophy',\n",
       " 'science,physic',\n",
       " 'science,politic',\n",
       " 'science,space exploration',\n",
       " 'science,war',\n",
       " 'space exploration,physic',\n",
       " 'start-ups',\n",
       " 'startup',\n",
       " 'startup,artificial intelligence',\n",
       " 'startup,business',\n",
       " 'startup,entrepreneurship',\n",
       " 'technology,ecology,biotechnology,environment',\n",
       " 'technology,history',\n",
       " 'transhumanism',\n",
       " 'transhumanism,artificial intelligence',\n",
       " 'transhumanism,economic,politic',\n",
       " 'transhumanism,philosophy',\n",
       " 'transhumanism,philosophy,mind',\n",
       " 'transhumanism,politic',\n",
       " 'transhumanism,politic,ecology',\n",
       " 'transhumanism,psychology',\n",
       " 'transhumanism,religion,artificial intelligence',\n",
       " 'transhumanism,space exploration',\n",
       " 'wellness',\n",
       " 'wellness,knowledge',\n",
       " 'wellness,knowledge,religion',\n",
       " 'wellness,philosophy'}"
      ]
     },
     "execution_count": 7,
     "metadata": {},
     "output_type": "execute_result"
    }
   ],
   "source": [
    "set([\",\".join(e[1]['topics']) for e in memes])"
   ]
  },
  {
   "cell_type": "code",
   "execution_count": 8,
   "metadata": {},
   "outputs": [
    {
     "name": "stderr",
     "output_type": "stream",
     "text": [
      "  0%|          | 1236/1000000000000 [1:09:53<779084700:27:08,  2.80s/it]"
     ]
    },
    {
     "name": "stdout",
     "output_type": "stream",
     "text": [
      "This model's maximum context length is 4097 tokens, however you requested 4316 tokens (4216 in your prompt, 100 for the completion). Please reduce your prompt or completion length.\n"
     ]
    },
    {
     "name": "stderr",
     "output_type": "stream",
     "text": [
      "  0%|          | 2470/1000000000000 [2:20:14<1026148943:33:08,  3.69s/it]"
     ]
    }
   ],
   "source": [
    "from tqdm import tqdm\n",
    "import time\n",
    "from random import randint\n",
    "\n",
    "outputs = []\n",
    "for i in tqdm(range(10**12)):\n",
    "  time.sleep(randint(1,3))\n",
    "  samples = get_prompt(['science', 'psychology'])\n",
    "  p = list(str(samples[0:60]))\n",
    "  # replace last char by a \",\"\n",
    "  p[-1] = \",\"\n",
    "  p = \"\".join(p)\n",
    "  try:\n",
    "    response = openai.Completion.create(\n",
    "      engine=\"davinci-codex\",\n",
    "      prompt=p,\n",
    "      temperature=1,\n",
    "      max_tokens=100,\n",
    "      top_p=1,\n",
    "      frequency_penalty=0.5,\n",
    "      presence_penalty=0,\n",
    "      stop=[\"])\"]\n",
    "    )\n",
    "  except Exception as e:\n",
    "    print(e)\n",
    "    continue\n",
    "  text = response[\"choices\"][0][\"text\"] + \"]),\"\n",
    "  outputs.append(text)\n",
    "  # every 10 samples, append the generated samples to file\n",
    "  if i % 10 == 0:\n",
    "    with open(\"generated_samples.txt\", \"a\") as f:\n",
    "      f.write(\"\\n\".join(outputs) + \"\\n\")\n",
    "    outputs = []\n",
    "  # icloud = \"/Users/louisbeaumont/Library/Mobile Documents/com~apple~CloudDoc/\"\n",
    "  # # every 1000 samples, move file to icloud\n",
    "  # if i % 10 == 0:\n",
    "  #   try:\n",
    "  #     # add ,\\n] to the file\n",
    "  #     with open(\"generated_samples.txt\", \"a\") as f:\n",
    "  #       f.write(\",\\n]\")\n",
    "  #     shutil.move(\"./generated_samples.txt\", icloud + \"generated_samples.txt\")\n",
    "  #     os.remove(\"generated_samples.txt\")\n",
    "  #   except Exception as e:\n",
    "  #     print(e)"
   ]
  },
  {
   "cell_type": "code",
   "execution_count": 9,
   "metadata": {},
   "outputs": [],
   "source": [
    "def is_valid():\n",
    "    invalids = []\n",
    "    for e in n_m:\n",
    "        if not isinstance(e[0], str) or not isinstance(e[1], list):\n",
    "            invalids.append(e)\n",
    "    return invalids"
   ]
  },
  {
   "cell_type": "code",
   "execution_count": 10,
   "metadata": {},
   "outputs": [
    {
     "data": {
      "text/plain": [
       "[]"
      ]
     },
     "execution_count": 10,
     "metadata": {},
     "output_type": "execute_result"
    }
   ],
   "source": [
    "is_valid()"
   ]
  },
  {
   "cell_type": "code",
   "execution_count": 51,
   "metadata": {},
   "outputs": [],
   "source": [
    "for e in n_m:\n",
    "    d = {\n",
    "        'content': e[0], \n",
    "        'topics': e[1],\n",
    "        'disabled': False,\n",
    "        'createdAt': firestore.SERVER_TIMESTAMP,\n",
    "        'tweet': True,\n",
    "    }\n",
    "    c._firestore_client.collection('memes').add(d)"
   ]
  }
 ],
 "metadata": {
  "interpreter": {
   "hash": "2ca8946d339ea3bbaa73adc6693d06c322e424e77befb9c6b521a96205a94f7d"
  },
  "kernelspec": {
   "display_name": "Python 3.9.6 64-bit ('.venv': venv)",
   "name": "python3"
  },
  "language_info": {
   "codemirror_mode": {
    "name": "ipython",
    "version": 3
   },
   "file_extension": ".py",
   "mimetype": "text/x-python",
   "name": "python",
   "nbconvert_exporter": "python",
   "pygments_lexer": "ipython3",
   "version": "3.8.10"
  },
  "orig_nbformat": 4
 },
 "nbformat": 4,
 "nbformat_minor": 2
}
