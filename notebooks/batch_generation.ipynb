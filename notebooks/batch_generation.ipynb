{
 "cells": [
  {
   "cell_type": "code",
   "execution_count": 1,
   "metadata": {},
   "outputs": [],
   "source": [
    "import os\n",
    "from langame.langame_client import LangameClient\n",
    "import random\n",
    "import openai\n",
    "from firebase_admin import firestore\n",
    "#from sentence_transformers import SentenceTransformer\n",
    "#import numpy as np\n",
    "#import faiss\n",
    "import glob\n",
    "\n",
    "c = LangameClient()"
   ]
  },
  {
   "cell_type": "code",
   "execution_count": 2,
   "metadata": {},
   "outputs": [],
   "source": [
    "memes = []\n",
    "for e in c._firestore_client.collection('memes').stream():\n",
    "    memes.append((e.id, e.to_dict()))"
   ]
  },
  {
   "cell_type": "code",
   "execution_count": 3,
   "metadata": {},
   "outputs": [
    {
     "data": {
      "text/plain": [
       "707"
      ]
     },
     "execution_count": 3,
     "metadata": {},
     "output_type": "execute_result"
    }
   ],
   "source": [
    "len(memes)"
   ]
  },
  {
   "cell_type": "code",
   "execution_count": 4,
   "metadata": {},
   "outputs": [],
   "source": [
    "def intersection(lst1, lst2):\n",
    "    lst3 = [value for value in lst1 if value in lst2]\n",
    "    return lst3\n",
    "def get_prompt(topics):\n",
    "    rnd = random.choices(memes, k=500)\n",
    "    return [(e[1]['content'], e[1]['topics']) for e in rnd if len(intersection(e[1]['topics'], topics)) > 0]"
   ]
  },
  {
   "cell_type": "code",
   "execution_count": 5,
   "metadata": {},
   "outputs": [
    {
     "data": {
      "text/plain": [
       "{'anthropology,philosophy',\n",
       " 'art',\n",
       " 'art,book,film',\n",
       " 'art,ice breaker',\n",
       " 'art,religion',\n",
       " 'artificial intelligence',\n",
       " 'artificial intelligence,art,philosophy',\n",
       " 'artificial intelligence,biology',\n",
       " 'artificial intelligence,knowledge',\n",
       " 'artificial intelligence,philosophy',\n",
       " 'artificial intelligence,philosophy,knowledge',\n",
       " 'artificial intelligence,robotic',\n",
       " 'artificial intelligence,transhumanism',\n",
       " 'artificial intelligence,transhumanism,robotic',\n",
       " 'biology',\n",
       " 'biology,artificial intelligence',\n",
       " 'biology,business,startup',\n",
       " 'biology,mind',\n",
       " 'biology,philosophy',\n",
       " 'biology,politic,transhumanism,philosophy,artificial intelligence',\n",
       " 'biology,religion',\n",
       " 'biotechnology',\n",
       " 'book',\n",
       " 'book,ice breaker',\n",
       " 'book,ice breaker,mind',\n",
       " 'business',\n",
       " 'business,religion',\n",
       " 'business,startup',\n",
       " 'ecology',\n",
       " 'ecology,artificial intelligence,philosophy',\n",
       " 'ecology,biology',\n",
       " 'ecology,business',\n",
       " 'ecology,health',\n",
       " 'ecology,philosophy',\n",
       " 'ecology,science-fiction',\n",
       " 'ecology,technology',\n",
       " 'economic,philosophy',\n",
       " 'economics',\n",
       " 'economy,artificial intelligence',\n",
       " 'education',\n",
       " 'fashion',\n",
       " 'feminism,society,knowledge',\n",
       " 'health',\n",
       " 'health,biology',\n",
       " 'health,ice breaker',\n",
       " 'health,startup,business',\n",
       " 'ice breaker',\n",
       " 'ice breaker,artificial intelligence',\n",
       " 'ice breaker,health',\n",
       " 'ice breaker,knowledge',\n",
       " 'ice breaker,philosophy',\n",
       " 'ice breaker,religion',\n",
       " 'knowledge',\n",
       " 'knowledge,book',\n",
       " 'knowledge,ecology,philosophy,politic',\n",
       " 'knowledge,ice breaker',\n",
       " 'knowledge,ice breaker,business',\n",
       " 'knowledge,ice breaker,philosophy',\n",
       " 'knowledge,philosophy',\n",
       " 'knowledge,philosophy,ice breaker',\n",
       " 'knowledge,philosophy,psychology',\n",
       " 'knowledge,religion',\n",
       " 'knowledge,science',\n",
       " 'knowledge,wellness',\n",
       " 'language',\n",
       " 'mathematic',\n",
       " 'mathematic,artificial intelligence',\n",
       " 'mathematic,business',\n",
       " 'mathematic,ice breaker',\n",
       " 'mathematic,knowledge',\n",
       " 'mathematic,knowledge,philosophy',\n",
       " 'mathematic,knowledge,transhumanism,artificial intelligence',\n",
       " 'mathematic,philosophy',\n",
       " 'mathematic,philosophy,physic',\n",
       " 'mathematic,physic,science',\n",
       " 'mathematic,science',\n",
       " 'media',\n",
       " 'medicine',\n",
       " 'mind',\n",
       " 'mind,artificial intelligence',\n",
       " 'mind,biology',\n",
       " 'mind,ice breaker',\n",
       " 'mind,knowledge',\n",
       " 'mind,knowledge,physic,science',\n",
       " 'mind,philosophy',\n",
       " 'mind,philosophy,knowledge',\n",
       " 'mind,physic',\n",
       " 'mind,politic',\n",
       " 'mind,psychology',\n",
       " 'mind,religion,philosophy',\n",
       " 'mind,transhumanism',\n",
       " 'philosophy',\n",
       " 'philosophy,art',\n",
       " 'philosophy,artificial intelligence',\n",
       " 'philosophy,artificial intelligence,knowledge',\n",
       " 'philosophy,biology',\n",
       " 'philosophy,book',\n",
       " 'philosophy,ecology',\n",
       " 'philosophy,epistemology',\n",
       " 'philosophy,espistemology',\n",
       " 'philosophy,ice breaker',\n",
       " 'philosophy,knowledge',\n",
       " 'philosophy,knowledge,epistemology',\n",
       " 'philosophy,knowledge,politic',\n",
       " 'philosophy,language',\n",
       " 'philosophy,mind',\n",
       " 'philosophy,physic',\n",
       " 'philosophy,politic',\n",
       " 'philosophy,politic,knowledge',\n",
       " 'philosophy,science',\n",
       " 'philosophy,science,politic',\n",
       " 'philosophy,transhumanism',\n",
       " 'philosophy,wellness',\n",
       " 'physic',\n",
       " 'physic,mathematic',\n",
       " 'physic,mind',\n",
       " 'physic,philosophy',\n",
       " 'physic,science',\n",
       " 'physic,space exploration',\n",
       " 'physics,science',\n",
       " 'physics,science-fiction',\n",
       " 'politic',\n",
       " 'politic,artificial intelligence',\n",
       " 'politic,artificial intelligence,transhumanism',\n",
       " 'politic,book',\n",
       " 'politic,ecology,philosophy',\n",
       " 'politic,economic',\n",
       " 'politic,ice breaker',\n",
       " 'politic,philosophy',\n",
       " 'psychology',\n",
       " 'religion',\n",
       " 'religion,artificial intelligence',\n",
       " 'religion,philosophy',\n",
       " 'religion,philosophy,artificial intelligence',\n",
       " 'religion,politic',\n",
       " 'robotics,economy',\n",
       " 'science',\n",
       " 'science,biology',\n",
       " 'science,biology,philosophy',\n",
       " 'science,book',\n",
       " 'science,knowledge',\n",
       " 'science,knowledge,philosophy',\n",
       " 'science,mind',\n",
       " 'science,philosophy',\n",
       " 'science,physic',\n",
       " 'science,politic',\n",
       " 'science,space exploration',\n",
       " 'science,war',\n",
       " 'space exploration,physic',\n",
       " 'start-ups',\n",
       " 'startup',\n",
       " 'startup,artificial intelligence',\n",
       " 'startup,business',\n",
       " 'startup,entrepreneurship',\n",
       " 'technology,ecology,biotechnology,environment',\n",
       " 'technology,history',\n",
       " 'transhumanism',\n",
       " 'transhumanism,artificial intelligence',\n",
       " 'transhumanism,economic,politic',\n",
       " 'transhumanism,philosophy',\n",
       " 'transhumanism,philosophy,mind',\n",
       " 'transhumanism,politic',\n",
       " 'transhumanism,politic,ecology',\n",
       " 'transhumanism,psychology',\n",
       " 'transhumanism,religion,artificial intelligence',\n",
       " 'transhumanism,space exploration',\n",
       " 'wellness',\n",
       " 'wellness,knowledge',\n",
       " 'wellness,knowledge,religion',\n",
       " 'wellness,philosophy'}"
      ]
     },
     "execution_count": 5,
     "metadata": {},
     "output_type": "execute_result"
    }
   ],
   "source": [
    "set([\",\".join(e[1]['topics']) for e in memes])"
   ]
  },
  {
   "cell_type": "code",
   "execution_count": 9,
   "metadata": {},
   "outputs": [
    {
     "name": "stderr",
     "output_type": "stream",
     "text": [
      "  0%|          | 363/1000000000000 [40:13<70652600750:04:36, 254.35s/it]"
     ]
    },
    {
     "name": "stdout",
     "output_type": "stream",
     "text": [
      "Error communicating with OpenAI\n"
     ]
    },
    {
     "name": "stderr",
     "output_type": "stream",
     "text": [
      "  0%|          | 1090/1000000000000 [1:31:32<1055014425:27:03,  3.80s/it]"
     ]
    }
   ],
   "source": [
    "from tqdm import tqdm\n",
    "import time\n",
    "from random import randint\n",
    "\n",
    "outputs = []\n",
    "for i in tqdm(range(10**12)):\n",
    "  time.sleep(randint(1,3))\n",
    "  samples = get_prompt(['science', 'psychology'])\n",
    "  p = list(str(samples[0:60]))\n",
    "  # replace last char by a \",\"\n",
    "  p[-1] = \",\"\n",
    "  p = \"\".join(p)\n",
    "  try:\n",
    "    response = openai.Completion.create(\n",
    "      engine=\"davinci-codex\",\n",
    "      prompt=p,\n",
    "      temperature=1,\n",
    "      max_tokens=100,\n",
    "      top_p=1,\n",
    "      frequency_penalty=0.5,\n",
    "      presence_penalty=0,\n",
    "      stop=[\"])\"]\n",
    "    )\n",
    "  except Exception as e:\n",
    "    print(e)\n",
    "    continue\n",
    "  text = response[\"choices\"][0][\"text\"] + \"]),\"\n",
    "  outputs.append(text)\n",
    "  # every 10 samples, append the generated samples to file\n",
    "  if i % 10 == 0:\n",
    "    with open(\"generated_samples.txt\", \"a\") as f:\n",
    "      f.write(\"\\n\".join(outputs) + \"\\n\")\n",
    "    outputs = []\n",
    "  # icloud = \"/Users/louisbeaumont/Library/Mobile Documents/com~apple~CloudDoc/\"\n",
    "  # # every 1000 samples, move file to icloud\n",
    "  # if i % 10 == 0:\n",
    "  #   try:\n",
    "  #     # add ,\\n] to the file\n",
    "  #     with open(\"generated_samples.txt\", \"a\") as f:\n",
    "  #       f.write(\",\\n]\")\n",
    "  #     shutil.move(\"./generated_samples.txt\", icloud + \"generated_samples.txt\")\n",
    "  #     os.remove(\"generated_samples.txt\")\n",
    "  #   except Exception as e:\n",
    "  #     print(e)"
   ]
  },
  {
   "cell_type": "code",
   "execution_count": 8,
   "metadata": {},
   "outputs": [],
   "source": [
    "n_m = [\n",
    "    (\"If any kind of AI is supposedly great, where would it have its main limitation? Would that limit depend on government regulation or poor corresponding laws?\",['artificial intelligence']),\n",
    "    (\"Quantum Entanglement solves many problems like energy creation without more physical material than can be at most one atom apart...So I read it. Can you give me some proofs?\", ['physic']),\n",
    "    ('Is what comes out of Newton\\'s prism true even if this was cast aside in favour of quantum mechanics & quantized reality. Quantum physics under certain circumstances allow relativity theory, which is not classical can it be seen as contradictory or are space-time constantly being disrupted by E = mc^2.',['mathematic']),\n",
    "    (\"I could say that AI will ‘blow us out of the water’ in terms of computational power by 2030.. but have you considered what are its technological requirements ?\", ['physic']),\n",
    "    ('Do we own our identity and thoughts or is there more we don’t know?',['philosophy','mind']),\n",
    "    ('Do you think the human brain will ever be quantified ?', ['mathematic']),\n",
    "    ('Does language affect the ways that one thinks and how do you think differently simply because of this. Is there a way to weigh pros and cons without basing onesifications on religious influence i suppose.',['artificial intelligence']),\n",
    "    ('Will computers inevitably simulate consciousness in some wierd way. That might be induced by something else that you have no idea about…. Are certain words semantics ad information theory which are being processed not neural connections ?\\n .. what was “bold” to schopenhauer when introducing the subject of change , he saw it as ridiculous.',['artificial intelligence'] ),\n",
    "    ('If all things are continuous do not exist what makes them separate ?', ['mathematic','philosophy']),\n",
    "    ('What would happen given that physcals design our machines to last forever. was it the moral conduct or physical predilection for discovery? ',['physic']),\n",
    "    ('What happens inside the black hole?',['physic','mathematic']),\n",
    "    (\"stars are dying, does that mean something musn't you think?\",['knowledge']),\n",
    "    ('Is there any indication about how our universe will end ?',['physic','mathematic']),\n",
    "    (\"can machines earn ethics. How should't they be designed to do that first?\", ['artificial intelligence', 'knowledge'] ),\n",
    "    (\"If you wanted a useful definition of 'intelligence', precisely how would one quantify all combination abilities? For example, I have the experience with 2 numbers being added but not able to sing along - this kind/experience can it exist or does nature deny us for any complex intuitive processes.\",['mind', 'psychology']),\n",
    "    (\"Does society control what we do with our time?\", [\"mind\"]),\n",
    "    ('What can you really expect from a logical consistent theory?', ['philosophy']),\n",
    "    ('Can human existence be explained by chance alone, is there any conceivable explanation for nature ?', [\"biology\"]),\n",
    "    ('What happens if our environment gets so polluted the only way we can survive is by destroying ourselves?', [\"biology\"]),\n",
    "    ('What is the point of mathematics?', ['mathematic', 'knowledge', 'philosophy']),\n",
    "    ('Do you think we will still use the same mathematics when we merge with machines?', ['mathematic', 'knowledge', 'transhumanism', 'artificial intelligence']),\n",
    "    ('If you had unlimited knowledge, what would your life look like?', ['knowledge', 'philosophy', 'ice breaker']),\n",
    "    ('Is there anything that can be mathematically described but not understood with our intelligence?', ['mathematic']),\n",
    "    (\"Which subjects would you prefer to receive a PhD in if there was no limit on your choice of subject?\",  ['knowledge', 'philosophy', 'psychology']),\n",
    "    (\"Which fictional character do you most identify with ?\", ['ice breaker']),\n",
    "]"
   ]
  },
  {
   "cell_type": "code",
   "execution_count": 9,
   "metadata": {},
   "outputs": [],
   "source": [
    "def is_valid():\n",
    "    invalids = []\n",
    "    for e in n_m:\n",
    "        if not isinstance(e[0], str) or not isinstance(e[1], list):\n",
    "            invalids.append(e)\n",
    "    return invalids"
   ]
  },
  {
   "cell_type": "code",
   "execution_count": 10,
   "metadata": {},
   "outputs": [
    {
     "data": {
      "text/plain": [
       "[]"
      ]
     },
     "execution_count": 10,
     "metadata": {},
     "output_type": "execute_result"
    }
   ],
   "source": [
    "is_valid()"
   ]
  },
  {
   "cell_type": "code",
   "execution_count": 51,
   "metadata": {},
   "outputs": [],
   "source": [
    "for e in n_m:\n",
    "    d = {\n",
    "        'content': e[0], \n",
    "        'topics': e[1],\n",
    "        'disabled': False,\n",
    "        'createdAt': firestore.SERVER_TIMESTAMP,\n",
    "        'tweet': True,\n",
    "    }\n",
    "    c._firestore_client.collection('memes').add(d)"
   ]
  },
  {
   "cell_type": "code",
   "execution_count": null,
   "metadata": {},
   "outputs": [],
   "source": [
    "sentences = [\"How will humans distinguish themselves from an intelligent machine\", \"Is artificial intelligence an expression of human nature or does it violate basic principles that the programming was based on ?\"]\n",
    "\n",
    "model = SentenceTransformer('sentence-transformers/paraphrase-xlm-r-multilingual-v1')\n",
    "embeddings = model.encode(sentences)\n",
    "print(embeddings)"
   ]
  },
  {
   "cell_type": "code",
   "execution_count": null,
   "metadata": {},
   "outputs": [],
   "source": [
    "model = SentenceTransformer('all-mpnet-base-v2')\n",
    "embeddings = [model.encode(e[1]['content']) for e in memes]"
   ]
  },
  {
   "cell_type": "code",
   "execution_count": null,
   "metadata": {},
   "outputs": [],
   "source": [
    "np.save(\"embeddings/part1.npy\", embeddings)"
   ]
  },
  {
   "cell_type": "code",
   "execution_count": null,
   "metadata": {},
   "outputs": [],
   "source": [
    "quantizer = Quantizer()\n",
    "quantizer.quantize(embeddings_path=\"embeddings\", output_path=\"my_index_folder\", max_index_memory_usage=\"4G\", current_memory_available=\"4G\")"
   ]
  },
  {
   "cell_type": "code",
   "execution_count": null,
   "metadata": {},
   "outputs": [],
   "source": [
    "\n",
    "\n",
    "my_index = faiss.read_index(glob.glob(\"my_index_folder/*.index\")[0])\n",
    "\n",
    "query_vector = np.float32(np.random.rand(1, 100))\n",
    "k = 5\n",
    "distances, indices = my_index.search(query_vector, k)\n",
    "\n",
    "print(list(zip(distances[0], indices[0])))\n"
   ]
  }
 ],
 "metadata": {
  "interpreter": {
   "hash": "2ca8946d339ea3bbaa73adc6693d06c322e424e77befb9c6b521a96205a94f7d"
  },
  "kernelspec": {
   "display_name": "Python 3.9.6 64-bit ('.venv': venv)",
   "name": "python3"
  },
  "language_info": {
   "codemirror_mode": {
    "name": "ipython",
    "version": 3
   },
   "file_extension": ".py",
   "mimetype": "text/x-python",
   "name": "python",
   "nbconvert_exporter": "python",
   "pygments_lexer": "ipython3",
   "version": "3.8.12"
  },
  "orig_nbformat": 4
 },
 "nbformat": 4,
 "nbformat_minor": 2
}
