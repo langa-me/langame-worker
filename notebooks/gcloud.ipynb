{
 "cells": [
  {
   "cell_type": "code",
   "execution_count": 22,
   "metadata": {},
   "outputs": [],
   "source": [
    "import os\n",
    "import httplib2\n",
    "from googleapiclient import discovery\n",
    "from oauth2client.client import OAuth2Credentials as creds\n",
    "from google.oauth2 import service_account\n",
    "import requests\n",
    "import json\n",
    "SVC_PATH=\"../louis.svc.dev.json\"\n",
    "os.environ['GOOGLE_APPLICATION_CREDENTIALS'] = SVC_PATH\n",
    "PARENT_PROJECT=\"langame-dev\"\n",
    "credentials = service_account.Credentials.from_service_account_file(filename=SVC_PATH)\n",
    "def create_service_account(project_id, name, display_name):\n",
    "    \"\"\"Creates a service account.\"\"\"\n",
    "\n",
    "    credentials = service_account.Credentials.from_service_account_file(\n",
    "        filename=SVC_PATH,\n",
    "        scopes=['https://www.googleapis.com/auth/cloud-platform'])\n",
    "\n",
    "    service = discovery.build(\n",
    "        'iam', 'v1', credentials=credentials)\n",
    "\n",
    "    my_service_account = service.projects().serviceAccounts().create(\n",
    "        name='projects/' + project_id,\n",
    "        body={\n",
    "            'accountId': name,\n",
    "            'serviceAccount': {\n",
    "                'displayName': display_name\n",
    "            }\n",
    "        }).execute()\n",
    "\n",
    "    print('Created service account: ' + my_service_account['email'])\n",
    "    return my_service_account\n",
    "# create_service_account(PARENT_PROJECT, 'my-service-account', 'My Service Account')"
   ]
  },
  {
   "cell_type": "code",
   "execution_count": 7,
   "metadata": {},
   "outputs": [
    {
     "ename": "AttributeError",
     "evalue": "'Resource' object has no attribute 'get'",
     "output_type": "error",
     "traceback": [
      "\u001b[0;31m---------------------------------------------------------------------------\u001b[0m",
      "\u001b[0;31mAttributeError\u001b[0m                            Traceback (most recent call last)",
      "\u001b[0;32m/tmp/ipykernel_519142/2125900876.py\u001b[0m in \u001b[0;36m<module>\u001b[0;34m\u001b[0m\n\u001b[1;32m      6\u001b[0m     'iam', 'v1', credentials=credentials)\n\u001b[1;32m      7\u001b[0m \u001b[0;34m\u001b[0m\u001b[0m\n\u001b[0;32m----> 8\u001b[0;31m \u001b[0mservice\u001b[0m\u001b[0;34m.\u001b[0m\u001b[0mprojects\u001b[0m\u001b[0;34m(\u001b[0m\u001b[0;34m)\u001b[0m\u001b[0;34m.\u001b[0m\u001b[0mget\u001b[0m\u001b[0;34m(\u001b[0m\u001b[0mname\u001b[0m\u001b[0;34m=\u001b[0m\u001b[0;34m'projects/{}'\u001b[0m\u001b[0;34m.\u001b[0m\u001b[0mformat\u001b[0m\u001b[0;34m(\u001b[0m\u001b[0mPARENT_PROJECT\u001b[0m\u001b[0;34m)\u001b[0m\u001b[0;34m)\u001b[0m\u001b[0;34m.\u001b[0m\u001b[0mexecute\u001b[0m\u001b[0;34m(\u001b[0m\u001b[0;34m)\u001b[0m\u001b[0;34m\u001b[0m\u001b[0;34m\u001b[0m\u001b[0m\n\u001b[0m",
      "\u001b[0;31mAttributeError\u001b[0m: 'Resource' object has no attribute 'get'"
     ]
    }
   ],
   "source": [
    "credentials = service_account.Credentials.from_service_account_file(\n",
    "        filename=SVC_PATH,\n",
    "        scopes=['https://www.googleapis.com/auth/cloud-platform'])\n",
    "\n",
    "service = discovery.build(\n",
    "    'iam', 'v1', credentials=credentials)\n",
    "\n",
    "service.projects().get(name='projects/{}'.format(PARENT_PROJECT)).execute()"
   ]
  },
  {
   "cell_type": "code",
   "execution_count": 8,
   "metadata": {},
   "outputs": [
    {
     "name": "stdout",
     "output_type": "stream",
     "text": [
      "Deleted service account: my-service-account@langame-dev.iam.gserviceaccount.com\n"
     ]
    }
   ],
   "source": [
    "def delete_service_account(email):\n",
    "    \"\"\"Deletes a service account.\"\"\"\n",
    "\n",
    "    credentials = service_account.Credentials.from_service_account_file(\n",
    "        filename=SVC_PATH,\n",
    "        scopes=['https://www.googleapis.com/auth/cloud-platform'])\n",
    "\n",
    "    service = discovery.build(\n",
    "        'iam', 'v1', credentials=credentials)\n",
    "\n",
    "    service.projects().serviceAccounts().delete(\n",
    "        name='projects/-/serviceAccounts/' + email).execute()\n",
    "\n",
    "    print('Deleted service account: ' + email)\n",
    "delete_service_account(\"my-service-account@langame-dev.iam.gserviceaccount.com\")"
   ]
  },
  {
   "cell_type": "code",
   "execution_count": 24,
   "metadata": {},
   "outputs": [
    {
     "data": {
      "text/plain": [
       "'{\\n  \"error\": {\\n    \"code\": 401,\\n    \"message\": \"Request had invalid authentication credentials. Expected OAuth 2 access token, login cookie or other valid authentication credential. See https://developers.google.com/identity/sign-in/web/devconsole-project.\",\\n    \"status\": \"UNAUTHENTICATED\"\\n  }\\n}\\n'"
      ]
     },
     "execution_count": 24,
     "metadata": {},
     "output_type": "execute_result"
    }
   ],
   "source": [
    "\"\"\"\n",
    "GET https://cloudresourcemanager.googleapis.com/v3/{name=projects/*}\n",
    "\"\"\"\n",
    "r = requests.get(\"https://cloudresourcemanager.googleapis.com/v3/projects/{}\".format(PARENT_PROJECT),\n",
    "    headers={\n",
    "        \"Authorization\": \"Bearer {}\".format(credentials.),\n",
    "        \"Content-Type\": \"application/json\"\n",
    "    }\n",
    ")\n",
    "r.text"
   ]
  },
  {
   "cell_type": "code",
   "execution_count": 19,
   "metadata": {},
   "outputs": [],
   "source": [
    "\"\"\"\n",
    "POST https://cloudresourcemanager.googleapis.com/v3/projects\n",
    "{\n",
    "  \"name\": string,\n",
    "  \"parent\": string,\n",
    "  \"projectId\": string,\n",
    "  \"state\": enum (State),\n",
    "  \"displayName\": string,\n",
    "  \"createTime\": string,\n",
    "  \"updateTime\": string,\n",
    "  \"deleteTime\": string,\n",
    "  \"etag\": string,\n",
    "  \"labels\": {\n",
    "    string: string,\n",
    "    ...\n",
    "  }\n",
    "}\n",
    "\"\"\"\n",
    "\n",
    "requests.post(\"https://cloudresourcemanager.googleapis.com/v3/projects\",\n",
    "    data=json.dumps({\n",
    "        \"name\": \"projects/yolo\",\n",
    "        \"parent\": \"organizations/1\","
   ]
  },
  {
   "cell_type": "code",
   "execution_count": 21,
   "metadata": {},
   "outputs": [
    {
     "ename": "TypeError",
     "evalue": "create() got an unexpected keyword argument 'parent'",
     "output_type": "error",
     "traceback": [
      "\u001b[0;31m---------------------------------------------------------------------------\u001b[0m",
      "\u001b[0;31mTypeError\u001b[0m                                 Traceback (most recent call last)",
      "\u001b[0;32m/tmp/ipykernel_519142/524687250.py\u001b[0m in \u001b[0;36m<module>\u001b[0;34m\u001b[0m\n\u001b[0;32m----> 1\u001b[0;31m \u001b[0mproject\u001b[0m\u001b[0;34m.\u001b[0m\u001b[0mcreate\u001b[0m\u001b[0;34m(\u001b[0m\u001b[0mparent\u001b[0m\u001b[0;34m=\u001b[0m\u001b[0mPARENT_PROJECT\u001b[0m\u001b[0;34m)\u001b[0m\u001b[0;34m\u001b[0m\u001b[0;34m\u001b[0m\u001b[0m\n\u001b[0m",
      "\u001b[0;31mTypeError\u001b[0m: create() got an unexpected keyword argument 'parent'"
     ]
    }
   ],
   "source": []
  }
 ],
 "metadata": {
  "interpreter": {
   "hash": "54cb2a04f1aaddec2e99139c9d7fdd1b3b41971afcbc7ceb72b4b8e2e31cae90"
  },
  "kernelspec": {
   "display_name": "Python 3.8.10 64-bit ('env': venv)",
   "language": "python",
   "name": "python3"
  },
  "language_info": {
   "codemirror_mode": {
    "name": "ipython",
    "version": 3
   },
   "file_extension": ".py",
   "mimetype": "text/x-python",
   "name": "python",
   "nbconvert_exporter": "python",
   "pygments_lexer": "ipython3",
   "version": "3.8.10"
  },
  "orig_nbformat": 4
 },
 "nbformat": 4,
 "nbformat_minor": 2
}
