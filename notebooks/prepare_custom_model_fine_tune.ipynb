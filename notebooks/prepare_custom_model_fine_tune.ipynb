{
 "cells": [
  {
   "cell_type": "code",
   "execution_count": 1,
   "metadata": {},
   "outputs": [],
   "source": [
    "from langame import LangameClient\n",
    "from langame.conversation_starters import is_garbage\n",
    "from datetime import datetime\n",
    "c = LangameClient(\"../config.yaml\")"
   ]
  },
  {
   "cell_type": "code",
   "execution_count": 3,
   "metadata": {},
   "outputs": [],
   "source": [
    "cs = []\n",
    "# fetching high quality ones\n",
    "for e in c._firestore_client.collection(\"memes\").where(\"disabled\", \"==\", False).stream():\n",
    "    data = e.to_dict()\n",
    "    if is_garbage(data):\n",
    "        continue\n",
    "    topics = \",\".join(data[\"topics\"])\n",
    "    conversation_starter = data[\"content\"]\n",
    "    if len(conversation_starter) < 3:\n",
    "        continue\n",
    "    cs.append(f\"{topics} ### {conversation_starter}\")\n",
    "# write to file with format: \"topic1,topic2 ### conversation starter\"\n",
    "fn = f\"all_prod_{datetime.now().strftime('%Y_%m_%d')}.txt\"\n",
    "with open(f\"../data/{fn}\", \"a\") as f:\n",
    "    f.write(\"\\n\".join(cs))\n",
    "\n"
   ]
  },
  {
   "cell_type": "code",
   "execution_count": 4,
   "metadata": {},
   "outputs": [],
   "source": [
    "# remove empty lines from file\n",
    "with open(f\"../data/{fn}\", \"r\") as f:\n",
    "    lines = f.readlines()\n",
    "    lines = [l for l in lines if l.strip()]\n",
    "    with open(f\"../data/{fn}\", \"w\") as f:\n",
    "        f.writelines(lines)"
   ]
  }
 ],
 "metadata": {
  "kernelspec": {
   "display_name": "Python 3.8.10 ('env': venv)",
   "language": "python",
   "name": "python3"
  },
  "language_info": {
   "codemirror_mode": {
    "name": "ipython",
    "version": 3
   },
   "file_extension": ".py",
   "mimetype": "text/x-python",
   "name": "python",
   "nbconvert_exporter": "python",
   "pygments_lexer": "ipython3",
   "version": "3.8.10"
  },
  "orig_nbformat": 4,
  "vscode": {
   "interpreter": {
    "hash": "4ce36a526c2657a6901f63bfcfa96eb7dde3d51d13ec099443002e9cf8f1ac6d"
   }
  }
 },
 "nbformat": 4,
 "nbformat_minor": 2
}
