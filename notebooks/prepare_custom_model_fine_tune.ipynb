{
 "cells": [
  {
   "cell_type": "code",
   "execution_count": 1,
   "metadata": {},
   "outputs": [],
   "source": [
    "from langame import LangameClient\n",
    "from pprint import pprint\n",
    "from firebase_admin import firestore\n",
    "import requests\n",
    "from bs4 import BeautifulSoup\n",
    "import json\n",
    "import openai\n",
    "c = LangameClient(\"../config.yaml\")"
   ]
  },
  {
   "cell_type": "code",
   "execution_count": 3,
   "metadata": {},
   "outputs": [],
   "source": [
    "cs = []\n",
    "for e in c._firestore_client.collection(\"memes\").stream():\n",
    "        topics = \",\".join(e.to_dict()[\"topics\"])\n",
    "        conversation_starter = e.to_dict()[\"content\"]\n",
    "        if len(conversation_starter) < 3:\n",
    "            continue\n",
    "        cs.append(f\"{topics} ### {conversation_starter}\")\n",
    "# write to file with format: \"topic1,topic2 ### conversation starter\"\n",
    "with open(\"../data/all_prod_2021_12_27.txt\", \"a\") as f:\n",
    "    f.write(\"\\n\".join(cs))"
   ]
  },
  {
   "cell_type": "code",
   "execution_count": 6,
   "metadata": {},
   "outputs": [],
   "source": [
    "# remove empty lines from file\n",
    "with open(\"../data/all_prod_2021_12_27.txt\", \"r\") as f:\n",
    "    lines = f.readlines()\n",
    "    lines = [l for l in lines if l.strip()]\n",
    "    with open(\"../data/all_prod_2021_12_27.txt\", \"w\") as f:\n",
    "        f.writelines(lines)"
   ]
  }
 ],
 "metadata": {
  "interpreter": {
   "hash": "54cb2a04f1aaddec2e99139c9d7fdd1b3b41971afcbc7ceb72b4b8e2e31cae90"
  },
  "kernelspec": {
   "display_name": "Python 3.8.10 64-bit ('env': venv)",
   "language": "python",
   "name": "python3"
  },
  "language_info": {
   "codemirror_mode": {
    "name": "ipython",
    "version": 3
   },
   "file_extension": ".py",
   "mimetype": "text/x-python",
   "name": "python",
   "nbconvert_exporter": "python",
   "pygments_lexer": "ipython3",
   "version": "3.8.10"
  },
  "orig_nbformat": 4
 },
 "nbformat": 4,
 "nbformat_minor": 2
}
