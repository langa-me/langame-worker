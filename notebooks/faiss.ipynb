{
 "cells": [
  {
   "cell_type": "code",
   "execution_count": 1,
   "metadata": {},
   "outputs": [],
   "source": [
    "from faiss.swigfaiss import Index\n",
    "from langame.langame_client import LangameClient\n",
    "import fire\n",
    "import torch\n",
    "import datetime\n",
    "import faiss\n",
    "import glob\n",
    "from sentence_transformers import SentenceTransformer\n",
    "import numpy as np\n",
    "import logging\n",
    "from autofaiss import build_index\n",
    "import os\n",
    "from collections import defaultdict\n"
   ]
  },
  {
   "cell_type": "code",
   "execution_count": 9,
   "metadata": {},
   "outputs": [
    {
     "name": "stdout",
     "output_type": "stream",
     "text": [
      "Building embeddings for 91571 new memes\n"
     ]
    }
   ],
   "source": [
    "sentence_embeddings_model_name = \"sentence-transformers/LaBSE\"\n",
    "device = \"cuda:0\" if torch.cuda.is_available() else \"cpu\"\n",
    "\n",
    "sentence_embeddings_model = SentenceTransformer(sentence_embeddings_model_name, device=device)\n",
    "new_memes = []\n",
    "new_memes_embeddings = []\n",
    "\n",
    "with open(\"../data/common_2021_12_15.txt\", \"r\") as f:\n",
    "    print(f\"Building embeddings for {len(f.readlines())} new memes\")\n",
    "    for i, line in enumerate(f):\n",
    "        if i % 1000 == 0:\n",
    "            print(f\"Built embeddings for {i} new memes\")\n",
    "        line = line.strip()\n",
    "        # Check that the format is correct\n",
    "        # i.e. [topics,] ### [sentence]\n",
    "        splitted = line.split(\"###\")\n",
    "        if line and len(splitted) == 2:\n",
    "            topics, sentence = splitted\n",
    "            print(topics, sentence)\n",
    "            new_memes.append(line)\n",
    "            new_memes_embeddings.append(\n",
    "                sentence_embeddings_model.encode(\n",
    "                    sentence.strip(), show_progress_bar=False\n",
    "                )\n",
    "            )\n",
    "# new_memes_embeddings = np.array(new_memes_embeddings)\n",
    "# index, index_infos = build_index(\n",
    "#     new_memes_embeddings,\n",
    "#     save_on_disk=False,\n",
    "# )"
   ]
  },
  {
   "cell_type": "code",
   "execution_count": 8,
   "metadata": {},
   "outputs": [
    {
     "data": {
      "text/plain": [
       "(0,)"
      ]
     },
     "execution_count": 8,
     "metadata": {},
     "output_type": "execute_result"
    }
   ],
   "source": [
    "new_memes_embeddings.shape"
   ]
  },
  {
   "cell_type": "code",
   "execution_count": 10,
   "metadata": {},
   "outputs": [
    {
     "name": "stdout",
     "output_type": "stream",
     "text": [
      "philosophy,ice breaker ### What is the meaning of life?\n",
      "philosophy,ice breaker ### What is the meaning of life?\n",
      "philosophy ### What is the meaning of life ?\n",
      "philosophy,ice breaker ### What is the meaning of life?\n",
      "life,philosophy,mind ### What is the meaning of life?\n",
      "philosophy,ice breaker ### What is the meaning of life?\n",
      "philosophy,ice breaker ### What is the meaning of life?\n",
      "life,ice breaker ### What is your life goal?\n",
      "philosophy,ice breaker ### What are the meaning of life?\n",
      "ice breaker ### What is a life goal of yours?\n"
     ]
    }
   ],
   "source": [
    "indexes = index.search(sentence_embeddings_model.encode([\"What is the purpose of life\"], show_progress_bar=False), k=10)[1]\n",
    "for e in indexes[0]:\n",
    "    print(new_memes[e])"
   ]
  }
 ],
 "metadata": {
  "interpreter": {
   "hash": "54cb2a04f1aaddec2e99139c9d7fdd1b3b41971afcbc7ceb72b4b8e2e31cae90"
  },
  "kernelspec": {
   "display_name": "Python 3.8.10 64-bit ('env': venv)",
   "language": "python",
   "name": "python3"
  },
  "language_info": {
   "codemirror_mode": {
    "name": "ipython",
    "version": 3
   },
   "file_extension": ".py",
   "mimetype": "text/x-python",
   "name": "python",
   "nbconvert_exporter": "python",
   "pygments_lexer": "ipython3",
   "version": "3.8.10"
  },
  "orig_nbformat": 4
 },
 "nbformat": 4,
 "nbformat_minor": 2
}
