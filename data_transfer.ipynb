{
 "metadata": {
  "language_info": {
   "codemirror_mode": {
    "name": "ipython",
    "version": 3
   },
   "file_extension": ".py",
   "mimetype": "text/x-python",
   "name": "python",
   "nbconvert_exporter": "python",
   "pygments_lexer": "ipython3",
   "version": "3.9.6"
  },
  "orig_nbformat": 4,
  "kernelspec": {
   "name": "python3",
   "display_name": "Python 3.9.6 64-bit ('.venv': venv)"
  },
  "interpreter": {
   "hash": "2ca8946d339ea3bbaa73adc6693d06c322e424e77befb9c6b521a96205a94f7d"
  }
 },
 "nbformat": 4,
 "nbformat_minor": 2,
 "cells": [
  {
   "cell_type": "code",
   "execution_count": 1,
   "source": [
    "from langame_client import LangameClient\n",
    "from pprint import pprint\n",
    "from firebase_admin import firestore\n",
    "import requests\n",
    "from bs4 import BeautifulSoup\n",
    "import json\n",
    "import openai\n",
    "from datetime import datetime\n",
    "c = LangameClient()"
   ],
   "outputs": [],
   "metadata": {}
  },
  {
   "cell_type": "code",
   "execution_count": 2,
   "source": [
    "memes = []\n",
    "for e in c._firestore_client.collection('memes').stream():\n",
    "    memes.append((e.id, e.to_dict()))"
   ],
   "outputs": [],
   "metadata": {}
  },
  {
   "cell_type": "code",
   "execution_count": 3,
   "source": [
    "len(memes)"
   ],
   "outputs": [
    {
     "output_type": "execute_result",
     "data": {
      "text/plain": [
       "531"
      ]
     },
     "metadata": {},
     "execution_count": 3
    }
   ],
   "metadata": {}
  },
  {
   "cell_type": "code",
   "execution_count": 8,
   "source": [],
   "outputs": [
    {
     "output_type": "execute_result",
     "data": {
      "text/plain": [
       "['What are the most important mathematical discoveries in history, or which was the best mathematician ever?',\n",
       " 'Why do we have religion? (It cannot be for that which is contained in it, because it is mostly nonsense.)',\n",
       " 'Tell me about a time when you had to solve a mathematical question and how did you approach it?',\n",
       " 'Name a few things that you feel are cool about the generation you grew up in.',\n",
       " 'What are the long-term goals of human society and what is the best solutions for it?',\n",
       " 'What is a person? Is it a community? Is it something else?',\n",
       " 'What is something you do or say that pisses people off?',\n",
       " 'what does a healthy person look like?',\n",
       " 'What is the role of science in human society?',\n",
       " 'Are there any activities or habits that make you feel good about yourself? Tell me more!',\n",
       " 'What do you think are the most important challenges in science today?',\n",
       " ' How would you define philosophy? What is the difference between a philosopher and a scientist?\\n',\n",
       " 'Do you believe in anything which cannot be proven by science or logic (i.e., faith)? How can we determine whether something is true if we cannot prove it with evidence and reasoning (logic)?',\n",
       " \"What do we mean by 'wellness'?\",\n",
       " 'Who is more intelligent, humans or machines?',\n",
       " 'How do you define \"God\"?',\n",
       " 'What are the ways to acquire wealth?',\n",
       " 'What is mathematics?',\n",
       " 'Which book do you consider to be a classic in its genre?',\n",
       " 'Which film, book or TV program on AI impressed you most and why did it impress you so much? How would a movie like \"The Terminator\" appear to be if it really happened today ?',\n",
       " \"If I gave you $1 million dollars today what is the first thing you'd do with it?\",\n",
       " 'Are we near a time when humans give up their physical body to become purely digital beings?',\n",
       " \"If money wasn't an issue, what would you do with your life?\",\n",
       " 'Explain how we can measure mass in a balance?',\n",
       " 'Do you believe that we should go back to Hunter gatherer diet? Did our body adapt since the agricultural revolution?',\n",
       " 'What\\'s the first thing comes to your mind when I say \"math\"?',\n",
       " \"What are some of the most obvious things that people do to get on one's nerves?\",\n",
       " 'In what way is our human nature, our human being, affected by our ethnicity?',\n",
       " 'What is the purpose of business?',\n",
       " 'Have you seen any science fiction movie like Interstellar, Contact etc.? Are there any movies out there that inspired you to learn more about theoretical physics (like wormholes, time machines or other dimensions)?',\n",
       " 'Have you ever felt that time was flying away from you? If so, how did that feel like?',\n",
       " 'Have you ever had a serious health problem?',\n",
       " 'Can artificial intelligence become our next religion, our next God?',\n",
       " ' What do you think of the idea that the mind can exist independent of the body?',\n",
       " ' Does human rationality have limits? Are there things that humans cannot understand?\\n',\n",
       " 'If I were to list my top 5 movies and you had to guess what kind of person I am based on them, which movie would give the best idea about me?',\n",
       " \"If we could have robot cars, how would they be different from human driven cars ? That sounds easy right? But most humans prefer driving themselves than using public transportation (like trains). Why do you think that happens so often in most cultures of the world where people are used to drive their own car instead of taking a bus or train for example? Why has nobody invented an automated transport system yet on such big scales ? You can't just take one reason because there are many reasons behind this trend : Less expensive , No need for parking space in city centers , A safer environment for children etc... 3. Do you believe in extraterrestrial life forms and why not ?\",\n",
       " 'Do you believe in God?',\n",
       " 'What are the things that make you feel alive?',\n",
       " 'How do you respond to someone who says that all of your life is predetermined and therefore, we have no free will?',\n",
       " \"Does philosophy really exist? Can it be confidently stated that there exists a universal pattern of thought about philosophical questions, or do we commonly agree to disagree on these issues because of cultural differences? How can you know if there's any real knowledge involved at all, instead of just opinions and speculation? In particular for this topic, how does one distinguish between religion and philosophy when they both deal with ultimate questions about existence - what exactly separates them from each other (if anything)? Or are they just two different sides to the same coin?\",\n",
       " 'If you could have a superpower, what would it be?',\n",
       " \" how do you know that you're dreaming? [for lucid dreamers only]\\n\",\n",
       " 'Humans have caused the extinction of most large mammals. Is there any hope of slowing or reversing this process?',\n",
       " 'What’s the best thing that happened to you last week/month/year etc.?',\n",
       " 'Which historical figure will have less impact on human history: The man who invents flying cars or the one who invents immortality pills ? Why ?',\n",
       " 'More books or better reading?',\n",
       " 'What do you want to do before you die?',\n",
       " 'What is something you have learned about yourself in the last few years?',\n",
       " 'What do you think about the possibility of extraterrestrial life? How do you imagine it would be different from human life?',\n",
       " 'What is the current state of affairs in your business?Why is it *successful* (from your perspective)? Is there something you are doing \"wrong\" in that regard (now or in the past)?',\n",
       " 'What is a moment in your life when you felt like a complete failure?',\n",
       " \"If so, then what exactly is 'mathematics'? \\xa0Is there some basic property which underlies all mathematics? Is there something beyond even numbers and counting? It would seem strange for us to have evolved such an advanced capacity for abstraction if we were only going to use it for arithmetic operations and number theory! Is there something more underlying these abstractions: a yet deeper level perhaps? What might that be like...\",\n",
       " 'How does knowledge affect our perception of the world?',\n",
       " 'With cryptocurrency, do we still need the state?',\n",
       " 'What is the meaning of life?',\n",
       " 'What are the problems that you say you solve for people?',\n",
       " 'If tomorrow, everyone has access to eternal youth and immortality, what is your plan for next year?',\n",
       " 'What do you think about the idea that life is a game and we are all players in it? Do you agree or disagree with this idea? Why?',\n",
       " 'Do you know about dark energy and its effects on the universe as a whole?',\n",
       " '\"The most important problems of the humankind are: war, poverty, disease, greed and hate. All these problems stem from ignorance. Can we solve everything through education?',\n",
       " 'What purchase of $100 or less has most negatively impacted your life in the last six months?',\n",
       " 'Do you believe in parallel universes? Why or why not?',\n",
       " 'What is your philosophy of life?',\n",
       " \"What is the meaning of 'The Good', the ideal state for humans?\",\n",
       " 'If I was going to give you $1 million what would be your first purchase with that money?',\n",
       " 'How does one recognize truth and knowledge? What are the ways to acquire it?',\n",
       " 'What are some of the most radical or outlandish ideas of our time?',\n",
       " ' What is the role of religions in the modern world?\\n',\n",
       " 'How can technology change the human condition?',\n",
       " 'What would you say is your greatest strength?',\n",
       " '\"What is philosophy?',\n",
       " 'What does \"politic\" mean to you?',\n",
       " 'Is the artist the primary producer of art, or is the audience the primary producer of art?',\n",
       " 'How do you decide you have enough knowledge on a specific topic?',\n",
       " 'Do you believe in divine beings (gods)?',\n",
       " \"Why do some people feel compelled to apply this word philosophy, and the vast majority of humanity doesn't? What does it mean to be 'philosophical'?\",\n",
       " 'What do you hope to see in other people that makes them a good traveling companion?',\n",
       " ' What is the role of education in the development of human societies?\\n',\n",
       " 'Do you know who invented numbers ?',\n",
       " '\"I know that you know that I know that you know the answer to this.\"\\n\"I know that you know a lot of things, but I don\\'t know what you know about _____.\"\\n\"I know that you know that I know that you know the answer to this.\"\\n\"I know that you know that I know what I know.\"',\n",
       " 'What are the positive and negative aspects of transhumanism according to you?',\n",
       " 'If a movie was made about your life, who would play the role of you and why? (For those with darker humor)',\n",
       " 'Do you think math is a hard subject? Why or why not?',\n",
       " 'Apple started in a garage, Facebook in a school, but how do you come up with such a great startup idea?',\n",
       " 'What was your favorite childhood game / toy? What would it be today, if you could bring that back?',\n",
       " 'What is something that most people take for granted, but has a deeper meaning to you?',\n",
       " 'Has science changed life as we know it today more than anything else in history since its discovery..?! Tell me how....',\n",
       " 'Do you think that if humans lost the ability to reason, we would still be able to exist as a species?',\n",
       " 'Does one have a duty to speak the truth? Or is it a matter of ethical consideration?',\n",
       " \"Is human intelligence superior because of its ability to reason using logic ? Yet computers can also reason logically… However, they don't appear able think outside their programming/structure; whereas humans can spontaneously imagine new possibilities ... Can machines reach this highest possible level through continued evolution or will they always be limited by their structure just like animals are limited by theirs? Will AI ever reach consciousness , intuition , imagination …etc.? Do any computer programs currently exist which mimic the above characteristics enough so that people mistake them for human beings???\",\n",
       " 'Can computers feel emotions?',\n",
       " \"What happened that you didn't expect to happen and how did it change your life?\",\n",
       " '\"Cynicism vs. idealism\"',\n",
       " 'What is the future of religion?',\n",
       " \"What's your favorite food?\",\n",
       " '\"If money is the root of all evil, what is the root of money?\"',\n",
       " 'How do we know that the stars are suns?',\n",
       " 'How business relates to the theory of evolution by natural selection?',\n",
       " '. Mathematics does not appear to exist; It only seems to exist because humans are able to use their imaginations and mathematical models of reality can predict human behavior accurately as far as we know thus far (our knowledge may change). However, what if those things do not truly represent reality? What if they are simply metaphors for the way things really are, similar to how our dreams allow us to see reality through metaphors that reflect our own inner world rather than outer events happening in time? Perhaps at this point we must ask ourselves: \"What is mathematics?\" Is it merely a metaphor for understanding something more fundamental about the nature of existence such as space and time [and causality] ? Or maybe even consciousness itself...Perhaps these things would be best understood naturally before trying them artificially (i.e., using science/math)? This could help us understand whether math exists outside of brains or whether it\\'s merely an expression of brain activity which happens coincidentally exactly right so that you can figure out stuff like gravity without having millions of years worth of evolution telling you what causes objects fall down when dropped from high places...or whatever else physics can tell you based on your observations...It doesn\\'t seem like inherently accurate descriptions necessarily imply inherent truth/reality either; They just might reflect aspects better than other ones [if this makes sense]. But then again, where did all those concepts come from anyway...? If math is part of a dreamlike metaphor instead, then perhaps its origin will never be known; You\\'ll just keep going around in circles forever until finding new ways to define words feels good or whatever...I don\\'t think anyone wants that kind of life though but maybe it\\'s unavoidable....So yeah I guess my question was fundamentally flawed from the start haha..just kidding I\\'m not entirely lost here yet! It seems most people who talk about math usually assume its accuracy and therefore try giving logical explanations for why it works although many physicists still admit they don\\'t know why quantum mechanics works - David Deutsch said he thinks consciousness might somehow play into explaining this particular phenomenon but he also believes humanity will never fully comprehend quantum mechanics due possibly due largely because \\'consciousness\\' isn\\'t']"
      ]
     },
     "metadata": {},
     "execution_count": 8
    }
   ],
   "metadata": {}
  },
  {
   "cell_type": "code",
   "execution_count": 8,
   "source": [
    "with open('data/memes_transfer.json', 'w') as f:\n",
    "    d = [{'id': e[0], **e[1]} for e in memes]\n",
    "    for e in d:\n",
    "        e['createdAt'] = e['createdAt'].timestamp()\n",
    "    json.dump({'memes': d}, f)"
   ],
   "outputs": [],
   "metadata": {}
  },
  {
   "cell_type": "code",
   "execution_count": null,
   "source": [
    "# check proper project\n",
    "c._firestore_client.collection('memes').limit(1).get()"
   ],
   "outputs": [],
   "metadata": {}
  },
  {
   "cell_type": "code",
   "execution_count": 4,
   "source": [
    "with open('data/memes_transfer.json', 'r') as f:\n",
    "    data = json.load(f)\n",
    "    for e in data['memes']:\n",
    "        c._firestore_client.collection('memes').document(e['id']).set(e)"
   ],
   "outputs": [],
   "metadata": {}
  },
  {
   "cell_type": "code",
   "execution_count": 7,
   "source": [
    "# check ok\n",
    "c._firestore_client.collection('memes').limit(1).get()[0].to_dict()"
   ],
   "outputs": [
    {
     "output_type": "execute_result",
     "data": {
      "text/plain": [
       "{'topics': ['health'],\n",
       " 'createdAt': 1625562063.085,\n",
       " 'translated': {'fr': 'Avez-vous un type de handicap ou de maladie chronique?',\n",
       "  'es': '¿Tiene algún tipo de discapacidad o enfermedad crónica?',\n",
       "  'de': 'Haben Sie eine Behinderung oder eine chronische Krankheit?'},\n",
       " 'id': '0FNnecFpEToBI1mwAIJF',\n",
       " 'content': 'Do you have any type of disability or chronic illness?'}"
      ]
     },
     "metadata": {},
     "execution_count": 7
    }
   ],
   "metadata": {}
  },
  {
   "cell_type": "code",
   "execution_count": null,
   "source": [],
   "outputs": [],
   "metadata": {}
  }
 ]
}